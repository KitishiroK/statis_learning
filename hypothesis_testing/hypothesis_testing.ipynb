{
 "cells": [
  {
   "cell_type": "markdown",
   "metadata": {},
   "source": [
    "# 假设检验"
   ]
  },
  {
   "cell_type": "markdown",
   "metadata": {},
   "source": [
    "## 区域检验\n",
    "89年新生儿体重，均值3190， 方差80 ，样本量100，置信水平95%"
   ]
  },
  {
   "cell_type": "code",
   "execution_count": 3,
   "metadata": {},
   "outputs": [
    {
     "data": {
      "text/plain": [
       "15.680000000000001"
      ]
     },
     "execution_count": 3,
     "metadata": {},
     "output_type": "execute_result"
    }
   ],
   "source": [
    "mu = 3190\n",
    "r = 1.96* 80/100**.5\n",
    "r"
   ]
  },
  {
   "cell_type": "code",
   "execution_count": 4,
   "metadata": {},
   "outputs": [
    {
     "name": "stdout",
     "output_type": "stream",
     "text": [
      "置信区间：[3174.32,3205.68]\n"
     ]
    }
   ],
   "source": [
    "print(\"置信区间：[\"+str(mu-r)+\",\"+str(mu+r)+\"]\")"
   ]
  },
  {
   "cell_type": "markdown",
   "metadata": {},
   "source": [
    "即95%的样本均值落在改区间"
   ]
  },
  {
   "cell_type": "markdown",
   "metadata": {},
   "source": [
    " 90年，均值3210， 方差80 ，样本量100"
   ]
  },
  {
   "cell_type": "code",
   "execution_count": 5,
   "metadata": {},
   "outputs": [
    {
     "data": {
      "text/plain": [
       "2.5"
      ]
     },
     "execution_count": 5,
     "metadata": {},
     "output_type": "execute_result"
    }
   ],
   "source": [
    "#z分布为\n",
    "mu1 = 3210\n",
    "z= (mu1-mu)/(80/100**.5)\n",
    "z"
   ]
  },
  {
   "cell_type": "markdown",
   "metadata": {},
   "source": [
    "![8-3](./img/8-3.jpg)\n",
    "2.5>1.96 则根据小概率原理（发生概率很小的随机事件在一次实验中几乎不可能发生），认为总体的真值不是3190克"
   ]
  },
  {
   "cell_type": "markdown",
   "metadata": {},
   "source": [
    "## 单侧检验"
   ]
  },
  {
   "cell_type": "markdown",
   "metadata": {},
   "source": [
    "某批发商欲从厂家购进一批灯泡, 定灯泡的使用寿命平均不能低于1000小时，已知灯泡使用寿命服从正态分布，标准差为200小时。在总体中随机抽取100只灯泡，测得样本均值为960小时。批发商是否应该购买这批灯泡"
   ]
  },
  {
   "cell_type": "code",
   "execution_count": 6,
   "metadata": {},
   "outputs": [
    {
     "name": "stdout",
     "output_type": "stream",
     "text": [
      "-2.0\n",
      "不该购买\n"
     ]
    }
   ],
   "source": [
    "z1 = (-40)/(200/100**.5)\n",
    "print(z1)\n",
    "print( \"不该购买\" if z1<1.96 else \"可以购买\")"
   ]
  },
  {
   "cell_type": "code",
   "execution_count": 7,
   "metadata": {},
   "outputs": [
    {
     "name": "stdout",
     "output_type": "stream",
     "text": [
      "0.02275013194817921\n",
      "True\n"
     ]
    }
   ],
   "source": [
    "from scipy.stats import norm\n",
    "x=norm.cdf(abs(z1))\n",
    "#单侧检验\n",
    "p = (1-x)\n",
    "print(p)\n",
    "print(p<0.05)"
   ]
  },
  {
   "cell_type": "markdown",
   "metadata": {},
   "source": [
    "## 单参数的检验\n",
    "### 均值\n",
    "####  样本量大\n",
    "某机床厂加工一种零件。根据经验知道,该厂加工零件的椭圆度近似服从正态分布,其总体均值为0.081mm,总体标准差为0.025。今另换一种新机床进行加工，取200个零件进行检验，得到椭圆度均值为0．072mm。试问新机床加工零件的椭圆度总体均值与以前有无显著差别？  \n",
    "假设  \n",
    "H0:mu = 0.081mm 无显著差别  \n",
    "H1:mu !=0.081mm 有显著差别  "
   ]
  },
  {
   "cell_type": "code",
   "execution_count": 8,
   "metadata": {},
   "outputs": [
    {
     "data": {
      "text/plain": [
       "-2.8284271247461925"
      ]
     },
     "execution_count": 8,
     "metadata": {},
     "output_type": "execute_result"
    }
   ],
   "source": [
    "z = (0.076-0.081)/(0.025/200**.5)\n",
    "z"
   ]
  },
  {
   "cell_type": "markdown",
   "metadata": {},
   "source": [
    "z<-1.96 有显著差别"
   ]
  },
  {
   "cell_type": "markdown",
   "metadata": {},
   "source": []
  },
  {
   "cell_type": "code",
   "execution_count": 9,
   "metadata": {
    "scrolled": true
   },
   "outputs": [
    {
     "data": {
      "text/plain": [
       "0.004677734981047177"
      ]
     },
     "execution_count": 9,
     "metadata": {},
     "output_type": "execute_result"
    }
   ],
   "source": [
    "from scipy.stats import norm\n",
    "x=norm.cdf(abs(z))\n",
    "p=(1-x)*2\n",
    "p"
   ]
  },
  {
   "cell_type": "markdown",
   "metadata": {},
   "source": [
    "##### 样本量小signma已知正态总体\n",
    "\n",
    "某电子产品批量生产的质量标准为平均试用寿命1200小时，标准差为150小时，某厂宣称他们采用一种新工艺生产的元件质量大大超过规定标准。\n",
    "为了进行验证，随机抽取了20件作为样本，测得平均使用寿命1245小时。能否说该厂生产的电子元件质量显著地高于规定标准"
   ]
  },
  {
   "cell_type": "code",
   "execution_count": 10,
   "metadata": {},
   "outputs": [
    {
     "name": "stdout",
     "output_type": "stream",
     "text": [
      "1.3416407864998738<Za（1.65）\n",
      "拒绝域在右侧，不能超过平均水平\n"
     ]
    }
   ],
   "source": [
    "#大大超过标准 99% 单侧检验\n",
    "z = (1245-1200)/(150/20**.5)\n",
    "print(str(z)+\"<Za（1.65）\")\n",
    "print(\"拒绝域在右侧，不能超过平均水平\")"
   ]
  },
  {
   "cell_type": "code",
   "execution_count": 11,
   "metadata": {},
   "outputs": [
    {
     "data": {
      "text/plain": [
       "0.08985624743949994"
      ]
     },
     "execution_count": 11,
     "metadata": {},
     "output_type": "execute_result"
    }
   ],
   "source": [
    "p =1 - norm.cdf(abs(z))\n",
    "p\n",
    "#p>a = 0.01 所以符合正常水平，未表现出显著差别"
   ]
  },
  {
   "cell_type": "markdown",
   "metadata": {},
   "source": [
    "##### 样本量小signma未知正态总体\n",
    "某机器制造书的肥皂厚度为5cm，今欲了解机器性能是否良好，随机抽取10块肥皂作为样本，测得平均厚度为5.3标准差为0.3cm，试以0.05的显著水平检验机器的性能良好的假设。"
   ]
  },
  {
   "cell_type": "code",
   "execution_count": 12,
   "metadata": {},
   "outputs": [
    {
     "data": {
      "text/plain": [
       "3.1622776601683777"
      ]
     },
     "execution_count": 12,
     "metadata": {},
     "output_type": "execute_result"
    }
   ],
   "source": [
    "from scipy import stats\n",
    "#由于小样本\n",
    "t = (5.3 - 5)/(0.3/10**.5)\n",
    "t"
   ]
  },
  {
   "cell_type": "code",
   "execution_count": 13,
   "metadata": {},
   "outputs": [
    {
     "data": {
      "text/plain": [
       "2.262157162740992"
      ]
     },
     "execution_count": 13,
     "metadata": {},
     "output_type": "execute_result"
    }
   ],
   "source": [
    "tn=stats.t.isf((0.05)/2,9)\n",
    "#tn>t 在拒绝域 所以性能不好\n",
    "tn"
   ]
  },
  {
   "cell_type": "code",
   "execution_count": 14,
   "metadata": {
    "scrolled": false
   },
   "outputs": [
    {
     "data": {
      "text/plain": [
       "0.011507985165943646"
      ]
     },
     "execution_count": 14,
     "metadata": {},
     "output_type": "execute_result"
    }
   ],
   "source": [
    "p = (1-stats.t.cdf(abs(t),df=9))*2\n",
    "#p<0.05  所以性能不好\n",
    "p"
   ]
  },
  {
   "cell_type": "markdown",
   "metadata": {},
   "source": [
    "##### 总体比例的检验\n",
    "\n",
    "一项统计结果声称,某市老年人口(年龄在 65 岁以上)的比重为 14.7%,该市老年人口研究会为了检验该项统计 是否可靠,随机抽选了 400 名居民,发现其中有57人年龄在65岁以上。调查结果是否支持该市老年人口比重为14.7%的看法？(α= 0.05)"
   ]
  },
  {
   "cell_type": "code",
   "execution_count": 15,
   "metadata": {},
   "outputs": [
    {
     "data": {
      "text/plain": [
       "-0.25416124340864343"
      ]
     },
     "execution_count": 15,
     "metadata": {},
     "output_type": "execute_result"
    }
   ],
   "source": [
    "z = (57/400-.147)/(.147*(1-.147)/400)**.5\n",
    "z"
   ]
  },
  {
   "cell_type": "code",
   "execution_count": 16,
   "metadata": {},
   "outputs": [
    {
     "data": {
      "text/plain": [
       "1.9599639845400545"
      ]
     },
     "execution_count": 16,
     "metadata": {},
     "output_type": "execute_result"
    }
   ],
   "source": [
    "za2 = norm.isf(0.05/2)\n",
    "za2"
   ]
  },
  {
   "cell_type": "code",
   "execution_count": 17,
   "metadata": {},
   "outputs": [
    {
     "name": "stdout",
     "output_type": "stream",
     "text": [
      "False\n",
      "支持\n"
     ]
    }
   ],
   "source": [
    "print(z<-za2)\n",
    "print(\"支持\")"
   ]
  },
  {
   "cell_type": "markdown",
   "metadata": {},
   "source": [
    "##### 总体方差的检验\n",
    "\n",
    "某厂商生产出一种新型的饮料装瓶机器,按设计要求,该机器装一瓶1000ml的饮料误差上下不超过1ml.如果达到设计要求,表明机器的稳定性非常好.现从该机器装完的产品中随机抽取25瓶,分别进行测定（用样本观测值分别减1000ml）,得到以下数据：0.3 -0.4 -0.7 1.4 -1.5 -1.3 .1.1等25个数值.试以0.05的显著性水平检验该机器的性能是否达到设计要求."
   ]
  },
  {
   "cell_type": "code",
   "execution_count": 18,
   "metadata": {},
   "outputs": [
    {
     "data": {
      "text/html": [
       "<div>\n",
       "<style scoped>\n",
       "    .dataframe tbody tr th:only-of-type {\n",
       "        vertical-align: middle;\n",
       "    }\n",
       "\n",
       "    .dataframe tbody tr th {\n",
       "        vertical-align: top;\n",
       "    }\n",
       "\n",
       "    .dataframe thead th {\n",
       "        text-align: right;\n",
       "    }\n",
       "</style>\n",
       "<table border=\"1\" class=\"dataframe\">\n",
       "  <thead>\n",
       "    <tr style=\"text-align: right;\">\n",
       "      <th></th>\n",
       "      <th>测试结果</th>\n",
       "    </tr>\n",
       "  </thead>\n",
       "  <tbody>\n",
       "    <tr>\n",
       "      <th>0</th>\n",
       "      <td>0.3</td>\n",
       "    </tr>\n",
       "    <tr>\n",
       "      <th>1</th>\n",
       "      <td>-0.3</td>\n",
       "    </tr>\n",
       "    <tr>\n",
       "      <th>2</th>\n",
       "      <td>-1.3</td>\n",
       "    </tr>\n",
       "    <tr>\n",
       "      <th>3</th>\n",
       "      <td>-0.6</td>\n",
       "    </tr>\n",
       "    <tr>\n",
       "      <th>4</th>\n",
       "      <td>-0.5</td>\n",
       "    </tr>\n",
       "  </tbody>\n",
       "</table>\n",
       "</div>"
      ],
      "text/plain": [
       "   测试结果\n",
       "0   0.3\n",
       "1  -0.3\n",
       "2  -1.3\n",
       "3  -0.6\n",
       "4  -0.5"
      ]
     },
     "execution_count": 18,
     "metadata": {},
     "output_type": "execute_result"
    }
   ],
   "source": [
    "import pandas as pd\n",
    "data = pd.read_excel(\"./data/例8.9.xlsx\",head=1)\n",
    "data.head()"
   ]
  },
  {
   "cell_type": "code",
   "execution_count": 19,
   "metadata": {},
   "outputs": [
    {
     "data": {
      "text/plain": [
       "20.781599999999997"
      ]
     },
     "execution_count": 19,
     "metadata": {},
     "output_type": "execute_result"
    }
   ],
   "source": [
    "#假设方差<=1 \n",
    "# H1 方差>1\n",
    "d = data.iloc[:,0].var()\n",
    "chi2 = d*(len(data)-1)/1\n",
    "chi2"
   ]
  },
  {
   "cell_type": "code",
   "execution_count": 20,
   "metadata": {},
   "outputs": [],
   "source": [
    "chi2_ = stats.chi2.isf(0.05,len(data)-1)"
   ]
  },
  {
   "cell_type": "code",
   "execution_count": 21,
   "metadata": {},
   "outputs": [
    {
     "name": "stdout",
     "output_type": "stream",
     "text": [
      "True\n"
     ]
    }
   ],
   "source": [
    "print(chi2_>chi2)\n",
    "# 在拒接域外，达到要求"
   ]
  },
  {
   "cell_type": "markdown",
   "metadata": {},
   "source": [
    "## 两个参数的检验\n",
    "### 均值差\n",
    "#### σ1^2 σ2^2 已知 样本量大\n",
    "\n",
    "有两种方法可用于制造某种以抗拉强度为重要特征的产品。根据以往的 资料得知,第一种方法生产出的产品其抗拉强度的标准差为8公斤, 第二种方法的标准差为 10公斤。从两 种方法生产的产品中各抽取一个随机样本。样本量分别为n1=32,n2=40,测得x1= 50公斤,?x2= 44公斤。问这 两种方法生产的产品平均抗拉强度是否有显著区别（a= 0.05）\n",
    "假设  \n",
    "H0 = mu1 - mu2 = 0  \n",
    "H2 = mu1 - mu2 != 0"
   ]
  },
  {
   "cell_type": "code",
   "execution_count": 22,
   "metadata": {},
   "outputs": [
    {
     "data": {
      "text/plain": [
       "2.8284271247461903"
      ]
     },
     "execution_count": 22,
     "metadata": {},
     "output_type": "execute_result"
    }
   ],
   "source": [
    "z = ((50 -  44)-(0))/(8**2/32 + 10**2/40)**.5\n",
    "z"
   ]
  },
  {
   "cell_type": "code",
   "execution_count": 23,
   "metadata": {},
   "outputs": [
    {
     "data": {
      "text/plain": [
       "1.9599639845400545"
      ]
     },
     "execution_count": 23,
     "metadata": {},
     "output_type": "execute_result"
    }
   ],
   "source": [
    "za = stats.norm.isf(0.05/2)\n",
    "za"
   ]
  },
  {
   "cell_type": "code",
   "execution_count": 24,
   "metadata": {},
   "outputs": [
    {
     "data": {
      "text/plain": [
       "True"
      ]
     },
     "execution_count": 24,
     "metadata": {},
     "output_type": "execute_result"
    }
   ],
   "source": [
    "z>za\n",
    "#拒接域 有显著区别"
   ]
  },
  {
   "cell_type": "markdown",
   "metadata": {},
   "source": [
    "#### σ1^2 σ2^2 未知 样本量小\n",
    "尽管存在争议，但大多数科学家任务，使用含有高纤维的谷物有助于降低癌症发生的可能性。 然而一个科学家提出，如果人们在早餐中食用高纤维的谷类食物，那么平均而言，与早餐没有食用谷物的人群相比，食用谷物者在午餐中摄取的热量（大卡）将会减少。如果这个观点成立，谷物食品的生产商又将获得一个很好的机会，他们宣传说：“多吃谷物吧，早上也吃，这样有助于减肥。  \n",
    "为了验证这个假设，随机抽取了35人，询问他们早餐和中餐的通常食谱一类为经常谷类食用者（总体1），一类为非经常谷类食用者（总体2）。然后测度每人午餐的大卡摄取量。经过一段时间的实验，得到的结果如下"
   ]
  },
  {
   "cell_type": "code",
   "execution_count": 25,
   "metadata": {},
   "outputs": [
    {
     "data": {
      "text/html": [
       "<div>\n",
       "<style scoped>\n",
       "    .dataframe tbody tr th:only-of-type {\n",
       "        vertical-align: middle;\n",
       "    }\n",
       "\n",
       "    .dataframe tbody tr th {\n",
       "        vertical-align: top;\n",
       "    }\n",
       "\n",
       "    .dataframe thead th {\n",
       "        text-align: right;\n",
       "    }\n",
       "</style>\n",
       "<table border=\"1\" class=\"dataframe\">\n",
       "  <thead>\n",
       "    <tr style=\"text-align: right;\">\n",
       "      <th></th>\n",
       "      <th>总体1</th>\n",
       "      <th>总体2</th>\n",
       "    </tr>\n",
       "  </thead>\n",
       "  <tbody>\n",
       "    <tr>\n",
       "      <th>0</th>\n",
       "      <td>568.0</td>\n",
       "      <td>650</td>\n",
       "    </tr>\n",
       "    <tr>\n",
       "      <th>1</th>\n",
       "      <td>496.0</td>\n",
       "      <td>637</td>\n",
       "    </tr>\n",
       "    <tr>\n",
       "      <th>2</th>\n",
       "      <td>589.0</td>\n",
       "      <td>563</td>\n",
       "    </tr>\n",
       "    <tr>\n",
       "      <th>3</th>\n",
       "      <td>681.0</td>\n",
       "      <td>723</td>\n",
       "    </tr>\n",
       "    <tr>\n",
       "      <th>4</th>\n",
       "      <td>540.0</td>\n",
       "      <td>569</td>\n",
       "    </tr>\n",
       "  </tbody>\n",
       "</table>\n",
       "</div>"
      ],
      "text/plain": [
       "     总体1  总体2\n",
       "0  568.0  650\n",
       "1  496.0  637\n",
       "2  589.0  563\n",
       "3  681.0  723\n",
       "4  540.0  569"
      ]
     },
     "execution_count": 25,
     "metadata": {},
     "output_type": "execute_result"
    }
   ],
   "source": [
    "data = pd.read_excel(\"./data/例8.11.xlsx\",header=0)\n",
    "data.head()"
   ]
  },
  {
   "cell_type": "code",
   "execution_count": 26,
   "metadata": {},
   "outputs": [
    {
     "data": {
      "text/plain": [
       "32.73556998209824"
      ]
     },
     "execution_count": 26,
     "metadata": {},
     "output_type": "execute_result"
    }
   ],
   "source": [
    "# 假设 H0 =  mu1 - mu2 >= 0\n",
    "# H =  mu1 - mu2 < 0\n",
    "# 方差未知，不能判定相等\n",
    "n1 = data.iloc[:,0].count()\n",
    "n2 = data.iloc[:,1].count()\n",
    "s1 = data.iloc[:,0].var()\n",
    "s2 = data.iloc[:,1].var()\n",
    "f = (s1/n1 + s2/n2)**2 / ((s1/n1)**2/(n1-1)+(s2/n2)**2/(n2-1))\n",
    "f"
   ]
  },
  {
   "cell_type": "code",
   "execution_count": 27,
   "metadata": {},
   "outputs": [
    {
     "data": {
      "text/plain": [
       "-2.4868888763745463"
      ]
     },
     "execution_count": 27,
     "metadata": {},
     "output_type": "execute_result"
    }
   ],
   "source": [
    "sigma = (s1/n1+s2/n2)**.5\n",
    "mean1 = data.iloc[:,0].mean()\n",
    "mean2 = data.iloc[:,1].mean()\n",
    "t= (mean1-mean2)/sigma\n",
    "t"
   ]
  },
  {
   "cell_type": "code",
   "execution_count": 28,
   "metadata": {},
   "outputs": [
    {
     "data": {
      "text/plain": [
       "1.6927551375769798"
      ]
     },
     "execution_count": 28,
     "metadata": {},
     "output_type": "execute_result"
    }
   ],
   "source": [
    "ta = stats.t.isf(0.05,f)\n",
    "ta"
   ]
  },
  {
   "cell_type": "code",
   "execution_count": 29,
   "metadata": {},
   "outputs": [
    {
     "data": {
      "text/plain": [
       "True"
      ]
     },
     "execution_count": 29,
     "metadata": {},
     "output_type": "execute_result"
    }
   ],
   "source": [
    "abs(t)>ta\n",
    "#拒绝假设  热量大"
   ]
  },
  {
   "cell_type": "markdown",
   "metadata": {},
   "source": [
    "#### 比例之差\n",
    "\n",
    "（相等）人们普遍认为麦当劳的主要消费群里是青少年，但对市场经一部细分却发现有不同的看法，一种观点认为小学生更喜欢麦当劳另一种观点认为中学生对麦当劳的喜爱程度不亚于小学生。某市场调查公司对此在某地区进行了一项调查,随机 抽取了100名小学生和100名中学生,调查 的问题是如果有麦当劳和其他中式快餐(如兰州拉面),你会首选哪种作为首选的经常性午餐？调查结果如下: ? 小学生(样本1)100人中有76人把麦当劳作为首选的经常性午餐，中学生(样本2)100人中有69人作出同样的选择,调 查结果支持哪种观点?  \n",
    "假设H0 = pi1 -pi2 = 0    \n",
    "   H1 = pi1 -pi2 != 0"
   ]
  },
  {
   "cell_type": "code",
   "execution_count": 30,
   "metadata": {},
   "outputs": [
    {
     "data": {
      "text/plain": [
       "1.1085306154508552"
      ]
     },
     "execution_count": 30,
     "metadata": {},
     "output_type": "execute_result"
    }
   ],
   "source": [
    "p = (76+69)/200\n",
    "z = (0.76-0.69)/(p*(1-p)*(1/100+1/100))**.5\n",
    "z"
   ]
  },
  {
   "cell_type": "code",
   "execution_count": 31,
   "metadata": {},
   "outputs": [
    {
     "data": {
      "text/plain": [
       "True"
      ]
     },
     "execution_count": 31,
     "metadata": {},
     "output_type": "execute_result"
    }
   ],
   "source": [
    "za = norm.isf(0.05)\n",
    "za>z\n",
    "#没有明显区别 中学生和小学生一样"
   ]
  },
  {
   "cell_type": "markdown",
   "metadata": {},
   "source": [
    "（不相等）一项研究报告说青少年经常上网聊天，男生的比例 至少超过女生10个百分点。现对150个男生和150个女生进行上网 聊天的频度调查,其中经常聊天的男生有68人,经常聊天的女生有54人,问调查结果是否支持研究报告的结论(α=0.05)?  \n",
    "假设H0 = π1 - π2 >= 0.1"
   ]
  },
  {
   "cell_type": "code",
   "execution_count": 32,
   "metadata": {},
   "outputs": [
    {
     "data": {
      "text/plain": [
       "-0.11806998113871585"
      ]
     },
     "execution_count": 32,
     "metadata": {},
     "output_type": "execute_result"
    }
   ],
   "source": [
    "d0= 0.1\n",
    "p1 = 68/150\n",
    "p2 = 54/150\n",
    "z = (p1-p2-d0)/(p1*(1-p1)/150+p2*(1-p2)/150)**.5\n",
    "z"
   ]
  },
  {
   "cell_type": "code",
   "execution_count": 33,
   "metadata": {},
   "outputs": [
    {
     "data": {
      "text/plain": [
       "False"
      ]
     },
     "execution_count": 33,
     "metadata": {},
     "output_type": "execute_result"
    }
   ],
   "source": [
    "za = norm.isf(0.05)\n",
    "abs(z)>=za\n",
    "# 在拒绝域外，无法推翻原假设，假设正确"
   ]
  },
  {
   "cell_type": "markdown",
   "metadata": {},
   "source": [
    "#### 方差比检验"
   ]
  },
  {
   "cell_type": "code",
   "execution_count": 34,
   "metadata": {},
   "outputs": [
    {
     "name": "stdout",
     "output_type": "stream",
     "text": [
      "2431.4285714285716\n",
      "3675.4605263157896\n"
     ]
    }
   ],
   "source": [
    "#检验总体方差是否相等\n",
    "print(s1)\n",
    "print(s2)"
   ]
  },
  {
   "cell_type": "code",
   "execution_count": 35,
   "metadata": {},
   "outputs": [
    {
     "data": {
      "text/plain": [
       "0.6615303181791449"
      ]
     },
     "execution_count": 35,
     "metadata": {},
     "output_type": "execute_result"
    }
   ],
   "source": [
    "# 假设H0 = s1 = s2\n",
    "F = s1/s2\n",
    "F"
   ]
  },
  {
   "cell_type": "code",
   "execution_count": 36,
   "metadata": {},
   "outputs": [
    {
     "data": {
      "text/plain": [
       "2.6469279488440205"
      ]
     },
     "execution_count": 36,
     "metadata": {},
     "output_type": "execute_result"
    }
   ],
   "source": [
    "Fa= stats.f.isf(0.05/2,n1-1,n2-1)\n",
    "Fa"
   ]
  },
  {
   "cell_type": "code",
   "execution_count": 37,
   "metadata": {},
   "outputs": [
    {
     "data": {
      "text/plain": [
       "0.3495621602511073"
      ]
     },
     "execution_count": 37,
     "metadata": {},
     "output_type": "execute_result"
    }
   ],
   "source": [
    "F1a =1/ stats.f.isf(0.05/2,n2-1,n1-1)\n",
    "F1a"
   ]
  },
  {
   "cell_type": "markdown",
   "metadata": {},
   "source": [
    "F在两者之间，所以没有显著差异"
   ]
  },
  {
   "cell_type": "markdown",
   "metadata": {},
   "source": [
    "### 检验中的匹配样本\n",
    "\n",
    "一个以减肥为主要目标的健美俱乐部声称,参加其训练班至少可以使肥胖者 平均体重减重 8.5 公斤以上。为了验证该宣称是否可信,调查人员随机抽取了10 名参加者,得 到他们的体重记录，在 0.05的显著性水平下,调查结果是否支持声明？"
   ]
  },
  {
   "cell_type": "code",
   "execution_count": 38,
   "metadata": {},
   "outputs": [
    {
     "data": {
      "text/html": [
       "<div>\n",
       "<style scoped>\n",
       "    .dataframe tbody tr th:only-of-type {\n",
       "        vertical-align: middle;\n",
       "    }\n",
       "\n",
       "    .dataframe tbody tr th {\n",
       "        vertical-align: top;\n",
       "    }\n",
       "\n",
       "    .dataframe thead th {\n",
       "        text-align: right;\n",
       "    }\n",
       "</style>\n",
       "<table border=\"1\" class=\"dataframe\">\n",
       "  <thead>\n",
       "    <tr style=\"text-align: right;\">\n",
       "      <th></th>\n",
       "      <th>训练前</th>\n",
       "      <th>训练后</th>\n",
       "    </tr>\n",
       "  </thead>\n",
       "  <tbody>\n",
       "    <tr>\n",
       "      <th>0</th>\n",
       "      <td>94.5</td>\n",
       "      <td>85.0</td>\n",
       "    </tr>\n",
       "    <tr>\n",
       "      <th>1</th>\n",
       "      <td>101.0</td>\n",
       "      <td>89.5</td>\n",
       "    </tr>\n",
       "    <tr>\n",
       "      <th>2</th>\n",
       "      <td>110.0</td>\n",
       "      <td>101.5</td>\n",
       "    </tr>\n",
       "    <tr>\n",
       "      <th>3</th>\n",
       "      <td>103.5</td>\n",
       "      <td>96.0</td>\n",
       "    </tr>\n",
       "    <tr>\n",
       "      <th>4</th>\n",
       "      <td>97.0</td>\n",
       "      <td>86.0</td>\n",
       "    </tr>\n",
       "  </tbody>\n",
       "</table>\n",
       "</div>"
      ],
      "text/plain": [
       "     训练前    训练后\n",
       "0   94.5   85.0\n",
       "1  101.0   89.5\n",
       "2  110.0  101.5\n",
       "3  103.5   96.0\n",
       "4   97.0   86.0"
      ]
     },
     "execution_count": 38,
     "metadata": {},
     "output_type": "execute_result"
    }
   ],
   "source": [
    "data = pd.read_excel(\"./data/例8.15.xlsx\",header=0)\n",
    "data.head()"
   ]
  },
  {
   "cell_type": "code",
   "execution_count": 39,
   "metadata": {},
   "outputs": [
    {
     "name": "stdout",
     "output_type": "stream",
     "text": [
      "True\n"
     ]
    }
   ],
   "source": [
    "# 假设 平均差mu1 -mu2<=8.5\n",
    "x = data.iloc[:,0] - data.iloc[:,1]\n",
    "xmean = x.mean()\n",
    "s =  x.std()\n",
    "sigma = s/len(data)**.5\n",
    "t = stats.t.isf(0.05,len(data)-1)\n",
    "maxdata = 8.5+t*sigma\n",
    "print(xmean>maxdata)\n",
    "#拒绝域内，假设可信"
   ]
  },
  {
   "cell_type": "markdown",
   "metadata": {},
   "source": [
    "## 例题\n",
    "1. 人体体温的总体均值是否为98.6华氏度？  \n",
    "2. 人体的温度是否服从正态分布?\n",
    "3. 人体体温中存在的异常数据是哪些？\n",
    "4. 男女体温是否存在明显差异？\n",
    "5. 体温与心率间的相关性(强？弱？中等?)"
   ]
  },
  {
   "cell_type": "code",
   "execution_count": 40,
   "metadata": {},
   "outputs": [
    {
     "data": {
      "text/html": [
       "<div>\n",
       "<style scoped>\n",
       "    .dataframe tbody tr th:only-of-type {\n",
       "        vertical-align: middle;\n",
       "    }\n",
       "\n",
       "    .dataframe tbody tr th {\n",
       "        vertical-align: top;\n",
       "    }\n",
       "\n",
       "    .dataframe thead th {\n",
       "        text-align: right;\n",
       "    }\n",
       "</style>\n",
       "<table border=\"1\" class=\"dataframe\">\n",
       "  <thead>\n",
       "    <tr style=\"text-align: right;\">\n",
       "      <th></th>\n",
       "      <th>Temperature</th>\n",
       "      <th>Gender</th>\n",
       "      <th>HeartRate</th>\n",
       "    </tr>\n",
       "  </thead>\n",
       "  <tbody>\n",
       "    <tr>\n",
       "      <th>0</th>\n",
       "      <td>96.3</td>\n",
       "      <td>1</td>\n",
       "      <td>70</td>\n",
       "    </tr>\n",
       "    <tr>\n",
       "      <th>1</th>\n",
       "      <td>96.7</td>\n",
       "      <td>1</td>\n",
       "      <td>71</td>\n",
       "    </tr>\n",
       "    <tr>\n",
       "      <th>2</th>\n",
       "      <td>96.9</td>\n",
       "      <td>1</td>\n",
       "      <td>74</td>\n",
       "    </tr>\n",
       "    <tr>\n",
       "      <th>3</th>\n",
       "      <td>97.0</td>\n",
       "      <td>1</td>\n",
       "      <td>80</td>\n",
       "    </tr>\n",
       "    <tr>\n",
       "      <th>4</th>\n",
       "      <td>97.1</td>\n",
       "      <td>1</td>\n",
       "      <td>73</td>\n",
       "    </tr>\n",
       "  </tbody>\n",
       "</table>\n",
       "</div>"
      ],
      "text/plain": [
       "   Temperature  Gender  HeartRate\n",
       "0         96.3       1         70\n",
       "1         96.7       1         71\n",
       "2         96.9       1         74\n",
       "3         97.0       1         80\n",
       "4         97.1       1         73"
      ]
     },
     "execution_count": 40,
     "metadata": {},
     "output_type": "execute_result"
    }
   ],
   "source": [
    "data = pd .read_csv(\"data/test.csv\",header=0)\n",
    "data.head()"
   ]
  },
  {
   "cell_type": "code",
   "execution_count": 43,
   "metadata": {},
   "outputs": [
    {
     "name": "stdout",
     "output_type": "stream",
     "text": [
      "False\n",
      "均值为98.6\n"
     ]
    }
   ],
   "source": [
    "#样本均值\n",
    "#假设 均值为98.6\n",
    "temperature = data[\"Temperature\"]\n",
    "mean = temperature.mean()\n",
    "z = (mean - 98.6)/temperature.std()/len(temperature)**.5\n",
    "za = norm.isf(0.05/2)\n",
    "print(abs(z)>za)\n",
    "print(\"均值为\"+str(98.6))"
   ]
  },
  {
   "cell_type": "code",
   "execution_count": 170,
   "metadata": {},
   "outputs": [
    {
     "data": {
      "text/plain": [
       "<matplotlib.axes._subplots.AxesSubplot at 0x28c1151c780>"
      ]
     },
     "execution_count": 170,
     "metadata": {},
     "output_type": "execute_result"
    },
    {
     "data": {
      "image/png": "[encoded data removed]",
      "text/plain": [
       "<Figure size 432x288 with 1 Axes>"
      ]
     },
     "metadata": {
      "needs_background": "light"
     },
     "output_type": "display_data"
    }
   ],
   "source": [
    "# 人体的温度是否服从正态分布\n",
    "# 假设符合正态分布\n",
    "0"
   ]
  },
  {
   "cell_type": "code",
   "execution_count": 165,
   "metadata": {},
   "outputs": [
    {
     "data": {
      "text/plain": [
       "KstestResult(statistic=1.0, pvalue=0.0)"
      ]
     },
     "execution_count": 165,
     "metadata": {},
     "output_type": "execute_result"
    }
   ],
   "source": [
    "000000000000000000000000000000000000000000000000000000000000000000000000000000000000000000000000000000000000000000000000000000000000000000000000000000000000000stats.kstest(temperature,'norm')"
   ]
  },
  {
   "cell_type": "code",
   "execution_count": 166,
   "metadata": {},
   "outputs": [
    {
     "data": {
      "text/plain": [
       "NormaltestResult(statistic=2.703801433319236, pvalue=0.2587479863488212)"
      ]
     },
     "execution_count": 166,
     "metadata": {},
     "output_type": "execute_result"
    }
   ],
   "source": [
    "stats.normaltest(temperature)"
   ]
  },
  {
   "cell_type": "code",
   "execution_count": 208,
   "metadata": {},
   "outputs": [
    {
     "data": {
      "text/plain": [
       "(0.9865769743919373, 0.2331680953502655)"
      ]
     },
     "execution_count": 208,
     "metadata": {},
     "output_type": "execute_result"
    }
   ],
   "source": [
    "stats.shapiro(temperature)"
   ]
  },
  {
   "cell_type": "code",
   "execution_count": 210,
   "metadata": {},
   "outputs": [
    {
     "data": {
      "text/plain": [
       "Ttest_1sampResult(statistic=-478.2061752972698, pvalue=1.9624789419214605e-211)"
      ]
     },
     "execution_count": 210,
     "metadata": {},
     "output_type": "execute_result"
    }
   ],
   "source": [
    "stats.ttest_1samp(temperature,len(temperature)-1)"
   ]
  },
  {
   "cell_type": "markdown",
   "metadata": {},
   "source": [
    "上面有两个p值》0.05 所以不能拒绝是正态分布"
   ]
  },
  {
   "cell_type": "code",
   "execution_count": 175,
   "metadata": {},
   "outputs": [
    {
     "name": "stdout",
     "output_type": "stream",
     "text": [
      "区间 ：[96.04968129511393,100.4487802433476]\n"
     ]
    }
   ],
   "source": [
    "# 人体体温中存在的异常数据是哪些？\n",
    "sigma = temperature.std()\n",
    "mean = temperature.mean()\n",
    "top = mean + sigma*3\n",
    "end = mean - sigma*3\n",
    "print(\"区间 ：[\"+str(end)+\",\"+str(top)+\"]\")"
   ]
  },
  {
   "cell_type": "code",
   "execution_count": 179,
   "metadata": {},
   "outputs": [
    {
     "data": {
      "text/html": [
       "<div>\n",
       "<style scoped>\n",
       "    .dataframe tbody tr th:only-of-type {\n",
       "        vertical-align: middle;\n",
       "    }\n",
       "\n",
       "    .dataframe tbody tr th {\n",
       "        vertical-align: top;\n",
       "    }\n",
       "\n",
       "    .dataframe thead th {\n",
       "        text-align: right;\n",
       "    }\n",
       "</style>\n",
       "<table border=\"1\" class=\"dataframe\">\n",
       "  <thead>\n",
       "    <tr style=\"text-align: right;\">\n",
       "      <th></th>\n",
       "      <th>Temperature</th>\n",
       "      <th>Gender</th>\n",
       "      <th>HeartRate</th>\n",
       "    </tr>\n",
       "  </thead>\n",
       "  <tbody>\n",
       "    <tr>\n",
       "      <th>129</th>\n",
       "      <td>100.8</td>\n",
       "      <td>2</td>\n",
       "      <td>77</td>\n",
       "    </tr>\n",
       "  </tbody>\n",
       "</table>\n",
       "</div>"
      ],
      "text/plain": [
       "     Temperature  Gender  HeartRate\n",
       "129        100.8       2         77"
      ]
     },
     "execution_count": 179,
     "metadata": {},
     "output_type": "execute_result"
    }
   ],
   "source": [
    "data[(data[\"Temperature\"]>top)|( data[\"Temperature\"]<end)]"
   ]
  },
  {
   "cell_type": "code",
   "execution_count": 190,
   "metadata": {},
   "outputs": [
    {
     "name": "stdout",
     "output_type": "stream",
     "text": [
      "区间 ：[96.44999999999999,100.05000000000001]\n"
     ]
    }
   ],
   "source": [
    "p25 = temperature.quantile(.25)\n",
    "p75= temperature.quantile(.75)\n",
    "Q = p75 - p25\n",
    "top = p75+Q*1.5\n",
    "end = p25-Q*1.5\n",
    "print(\"区间 ：[\"+str(end)+\",\"+str(top)+\"]\")"
   ]
  },
  {
   "cell_type": "code",
   "execution_count": 191,
   "metadata": {},
   "outputs": [
    {
     "data": {
      "text/html": [
       "<div>\n",
       "<style scoped>\n",
       "    .dataframe tbody tr th:only-of-type {\n",
       "        vertical-align: middle;\n",
       "    }\n",
       "\n",
       "    .dataframe tbody tr th {\n",
       "        vertical-align: top;\n",
       "    }\n",
       "\n",
       "    .dataframe thead th {\n",
       "        text-align: right;\n",
       "    }\n",
       "</style>\n",
       "<table border=\"1\" class=\"dataframe\">\n",
       "  <thead>\n",
       "    <tr style=\"text-align: right;\">\n",
       "      <th></th>\n",
       "      <th>Temperature</th>\n",
       "      <th>Gender</th>\n",
       "      <th>HeartRate</th>\n",
       "    </tr>\n",
       "  </thead>\n",
       "  <tbody>\n",
       "    <tr>\n",
       "      <th>0</th>\n",
       "      <td>96.3</td>\n",
       "      <td>1</td>\n",
       "      <td>70</td>\n",
       "    </tr>\n",
       "    <tr>\n",
       "      <th>65</th>\n",
       "      <td>96.4</td>\n",
       "      <td>2</td>\n",
       "      <td>69</td>\n",
       "    </tr>\n",
       "    <tr>\n",
       "      <th>129</th>\n",
       "      <td>100.8</td>\n",
       "      <td>2</td>\n",
       "      <td>77</td>\n",
       "    </tr>\n",
       "  </tbody>\n",
       "</table>\n",
       "</div>"
      ],
      "text/plain": [
       "     Temperature  Gender  HeartRate\n",
       "0           96.3       1         70\n",
       "65          96.4       2         69\n",
       "129        100.8       2         77"
      ]
     },
     "execution_count": 191,
     "metadata": {},
     "output_type": "execute_result"
    }
   ],
   "source": [
    "data[(data[\"Temperature\"]>top)|( data[\"Temperature\"]<end)]"
   ]
  },
  {
   "cell_type": "code",
   "execution_count": 195,
   "metadata": {},
   "outputs": [
    {
     "name": "stdout",
     "output_type": "stream",
     "text": [
      "98.1046153846154\n",
      "98.39384615384616\n"
     ]
    }
   ],
   "source": [
    "#男女体温是否存在明显差异？\n",
    "manT = data[(data[\"Gender\"]==1)][\"Temperature\"]\n",
    "womanT = data[(data[\"Gender\"]==2)][\"Temperature\"]\n",
    "print(manT.mean())\n",
    "print(womanT.mean())\n",
    "# H0 = mu1 -mu2 = 0"
   ]
  },
  {
   "cell_type": "code",
   "execution_count": 197,
   "metadata": {},
   "outputs": [
    {
     "data": {
      "text/plain": [
       "-3.2320925197895405"
      ]
     },
     "execution_count": 197,
     "metadata": {},
     "output_type": "execute_result"
    }
   ],
   "source": [
    "mu1 =  manT.mean()\n",
    "mu2 =  womanT.mean()\n",
    "sigma1 =  manT.var()\n",
    "sigma2 =  womanT.var()\n",
    "sigma = (sigma1/len(data)+sigma2/len(data))**.5\n",
    "z = (mu1-mu2-0)/sigma\n",
    "z"
   ]
  },
  {
   "cell_type": "code",
   "execution_count": 198,
   "metadata": {},
   "outputs": [
    {
     "data": {
      "text/plain": [
       "1.9599639845400545"
      ]
     },
     "execution_count": 198,
     "metadata": {},
     "output_type": "execute_result"
    }
   ],
   "source": [
    "za2 = stats.norm.isf(0.05/2)\n",
    "za2"
   ]
  },
  {
   "cell_type": "code",
   "execution_count": 199,
   "metadata": {},
   "outputs": [
    {
     "data": {
      "text/plain": [
       "True"
      ]
     },
     "execution_count": 199,
     "metadata": {},
     "output_type": "execute_result"
    }
   ],
   "source": [
    "abs(z)>za2"
   ]
  },
  {
   "cell_type": "markdown",
   "metadata": {},
   "source": [
    " 拒绝域内，假设失败，有明显差距"
   ]
  },
  {
   "cell_type": "code",
   "execution_count": 200,
   "metadata": {},
   "outputs": [
    {
     "name": "stdout",
     "output_type": "stream",
     "text": [
      "(0.25365640272076423, 0.003591489250708233)\n"
     ]
    }
   ],
   "source": [
    "T_H_pearsonr=stats.pearsonr(data['Temperature'],data['HeartRate'])\n",
    "print(T_H_pearsonr)"
   ]
  },
  {
   "cell_type": "markdown",
   "metadata": {},
   "source": [
    "0.25365640272076423 较小 相关性弱"
   ]
  },
  {
   "cell_type": "code",
   "execution_count": null,
   "metadata": {},
   "outputs": [],
   "source": []
  }
 ],
 "metadata": {
  "kernelspec": {
   "display_name": "Python 3",
   "language": "python",
   "name": "python3"
  },
  "language_info": {
   "codemirror_mode": {
    "name": "ipython",
    "version": 3
   },
   "file_extension": ".py",
   "mimetype": "text/x-python",
   "name": "python",
   "nbconvert_exporter": "python",
   "pygments_lexer": "ipython3",
   "version": "3.7.3"
  }
 },
 "nbformat": 4,
 "nbformat_minor": 2
}
