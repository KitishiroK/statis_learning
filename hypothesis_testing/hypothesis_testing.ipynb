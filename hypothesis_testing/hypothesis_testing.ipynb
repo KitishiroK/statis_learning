{
 "cells": [
  {
   "cell_type": "markdown",
   "metadata": {},
   "source": [
    "# 假设检验"
   ]
  },
  {
   "cell_type": "markdown",
   "metadata": {},
   "source": [
    "## 区域检验\n",
    "89年新生儿体重，均值3190， 方差80 ，样本量100，置信水平95%"
   ]
  },
  {
   "cell_type": "code",
   "execution_count": 2,
   "metadata": {},
   "outputs": [
    {
     "data": {
      "text/plain": [
       "15.680000000000001"
      ]
     },
     "execution_count": 2,
     "metadata": {},
     "output_type": "execute_result"
    }
   ],
   "source": [
    "mu = 3190\n",
    "r = 1.96* 80/100**.5\n",
    "r"
   ]
  },
  {
   "cell_type": "code",
   "execution_count": 7,
   "metadata": {},
   "outputs": [
    {
     "name": "stdout",
     "output_type": "stream",
     "text": [
      "置信区间：[3174.32,3205.68]\n"
     ]
    }
   ],
   "source": [
    "print(\"置信区间：[\"+str(mu-r)+\",\"+str(mu+r)+\"]\")"
   ]
  },
  {
   "cell_type": "markdown",
   "metadata": {},
   "source": [
    "即95%的样本均值落在改区间"
   ]
  },
  {
   "cell_type": "markdown",
   "metadata": {},
   "source": [
    " 90年，均值3210， 方差80 ，样本量100"
   ]
  },
  {
   "cell_type": "code",
   "execution_count": 6,
   "metadata": {},
   "outputs": [
    {
     "data": {
      "text/plain": [
       "2.5"
      ]
     },
     "execution_count": 6,
     "metadata": {},
     "output_type": "execute_result"
    }
   ],
   "source": [
    "#z分布为\n",
    "mu1 = 3210\n",
    "z= (mu1-mu)/(80/100**.5)\n",
    "z"
   ]
  },
  {
   "cell_type": "markdown",
   "metadata": {},
   "source": [
    "![8-3](./img/8-3.jpg)\n",
    "2.5>1.96 则根据小概率原理（发生概率很小的随机事件在一次实验中几乎不可能发生），认为总体的真值不是3190克"
   ]
  },
  {
   "cell_type": "markdown",
   "metadata": {},
   "source": [
    "## 单侧检验"
   ]
  },
  {
   "cell_type": "markdown",
   "metadata": {},
   "source": [
    "某批发商欲从厂家购进一批灯泡, 定灯泡的使用寿命平均不能低于1000小时，已知灯泡使用寿命服从正态分布，标准差为20小时。在总体中随机抽取100只灯泡，测得样本均值为960小时。批发商是否应该购买这批灯泡"
   ]
  },
  {
   "cell_type": "code",
   "execution_count": 16,
   "metadata": {},
   "outputs": [
    {
     "name": "stdout",
     "output_type": "stream",
     "text": [
      "不该购买\n"
     ]
    }
   ],
   "source": [
    "z1 = (-40)/(20/100**.5)\n",
    "print()\n",
    "print( \"不该购买\" if z1<1.96 else \"可以购买\")"
   ]
  },
  {
   "cell_type": "markdown",
   "metadata": {},
   "source": [
    "## 单参数的检验\n",
    "### 样本量大\n",
    "某机床厂加工一种零件。根据经验知道,该厂加工零件的椭圆度近似服从正态分布,其总体均值为0.081mm,总体标准差为0.025。今另换一种新机床进行加工，取200个零件进行检验，得到椭圆度均值为0．072mm。试问新机床加工零件的椭圆度总体均值与以前有无显著差别？  \n",
    "假设  \n",
    "H0:mu = 0.081mm 无显著差别  \n",
    "H1:mu !=0.081mm 有显著差别  "
   ]
  },
  {
   "cell_type": "code",
   "execution_count": 18,
   "metadata": {},
   "outputs": [
    {
     "data": {
      "text/plain": [
       "-2.8284271247461925"
      ]
     },
     "execution_count": 18,
     "metadata": {},
     "output_type": "execute_result"
    }
   ],
   "source": [
    "z = (0.076-0.081)/(0.025/200**.5)\n",
    "z"
   ]
  },
  {
   "cell_type": "markdown",
   "metadata": {},
   "source": [
    "z<-1.96 有显著差别"
   ]
  },
  {
   "cell_type": "code",
   "execution_count": null,
   "metadata": {},
   "outputs": [],
   "source": []
  }
 ],
 "metadata": {
  "kernelspec": {
   "display_name": "Python 3",
   "language": "python",
   "name": "python3"
  },
  "language_info": {
   "codemirror_mode": {
    "name": "ipython",
    "version": 3
   },
   "file_extension": ".py",
   "mimetype": "text/x-python",
   "name": "python",
   "nbconvert_exporter": "python",
   "pygments_lexer": "ipython3",
   "version": "3.7.3"
  }
 },
 "nbformat": 4,
 "nbformat_minor": 2
}
