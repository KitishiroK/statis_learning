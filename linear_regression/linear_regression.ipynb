{
 "cells": [
  {
   "cell_type": "markdown",
   "metadata": {},
   "source": [
    "# 一元线性回归\n",
    "## 散点图\n",
    "一家大型商业银行在多个地区设有分行, 其业务主要是进行基础设施建设、国家重点项目建设、固定资产投资等项目的贷款。近年来，该银行的贷款额平稳增长，但不良贷款额也有较大比例的增长，这给银行业务的发展带来较大压力。为弄清楚不良贷款形成的原因，管理者希望利用银行业务的有关数据做些定量分析，以便找出控制不良贷款的办法。该银行所属的25家分行2002年的有关业务数据如下。管理者想知道,不良贷款是否与贷款余额、累计应收贷款、项目贷款的多 少、固定资产投资额等因素有关?如果有关系，他们之间是一种什么样的关系？关系强度如何？试绘制散点图，分析他们之间的关系。 \n"
   ]
  },
  {
   "cell_type": "code",
   "execution_count": 2,
   "metadata": {},
   "outputs": [],
   "source": [
    "import pandas as pd\n",
    "import numpy as np\n",
    "import scipy.stats as stats\n",
    "import seaborn as sns\n",
    "import matplotlib.pyplot as plt\n",
    "plt.rcParams['font.sans-serif']=['SimHei'] #用来正常显示中文标签\n",
    "plt.rcParams['axes.unicode_minus']=False #用来正常显示负号"
   ]
  },
  {
   "cell_type": "code",
   "execution_count": 3,
   "metadata": {},
   "outputs": [
    {
     "data": {
      "text/html": [
       "<div>\n",
       "<style scoped>\n",
       "    .dataframe tbody tr th:only-of-type {\n",
       "        vertical-align: middle;\n",
       "    }\n",
       "\n",
       "    .dataframe tbody tr th {\n",
       "        vertical-align: top;\n",
       "    }\n",
       "\n",
       "    .dataframe thead th {\n",
       "        text-align: right;\n",
       "    }\n",
       "</style>\n",
       "<table border=\"1\" class=\"dataframe\">\n",
       "  <thead>\n",
       "    <tr style=\"text-align: right;\">\n",
       "      <th></th>\n",
       "      <th>分行编号</th>\n",
       "      <th>不良贷款\n",
       "(亿元）</th>\n",
       "      <th>各项贷款余额\n",
       "(亿元)</th>\n",
       "      <th>本年累计应收贷款\n",
       "(亿元)</th>\n",
       "      <th>贷款项目个数\n",
       "(个)</th>\n",
       "      <th>本年固定资产投资额\n",
       "(亿元)</th>\n",
       "    </tr>\n",
       "  </thead>\n",
       "  <tbody>\n",
       "    <tr>\n",
       "      <th>0</th>\n",
       "      <td>1</td>\n",
       "      <td>0.9</td>\n",
       "      <td>67.3</td>\n",
       "      <td>6.8</td>\n",
       "      <td>5</td>\n",
       "      <td>51.9</td>\n",
       "    </tr>\n",
       "    <tr>\n",
       "      <th>1</th>\n",
       "      <td>2</td>\n",
       "      <td>1.1</td>\n",
       "      <td>111.3</td>\n",
       "      <td>19.8</td>\n",
       "      <td>16</td>\n",
       "      <td>90.9</td>\n",
       "    </tr>\n",
       "    <tr>\n",
       "      <th>2</th>\n",
       "      <td>3</td>\n",
       "      <td>4.8</td>\n",
       "      <td>173.0</td>\n",
       "      <td>7.7</td>\n",
       "      <td>17</td>\n",
       "      <td>73.7</td>\n",
       "    </tr>\n",
       "    <tr>\n",
       "      <th>3</th>\n",
       "      <td>4</td>\n",
       "      <td>3.2</td>\n",
       "      <td>80.8</td>\n",
       "      <td>7.2</td>\n",
       "      <td>10</td>\n",
       "      <td>14.5</td>\n",
       "    </tr>\n",
       "    <tr>\n",
       "      <th>4</th>\n",
       "      <td>5</td>\n",
       "      <td>7.8</td>\n",
       "      <td>199.7</td>\n",
       "      <td>16.5</td>\n",
       "      <td>19</td>\n",
       "      <td>63.2</td>\n",
       "    </tr>\n",
       "  </tbody>\n",
       "</table>\n",
       "</div>"
      ],
      "text/plain": [
       "   分行编号  不良贷款\\n(亿元）  各项贷款余额\\n(亿元)  本年累计应收贷款\\n(亿元)  贷款项目个数\\n(个)  \\\n",
       "0     1         0.9          67.3             6.8            5   \n",
       "1     2         1.1         111.3            19.8           16   \n",
       "2     3         4.8         173.0             7.7           17   \n",
       "3     4         3.2          80.8             7.2           10   \n",
       "4     5         7.8         199.7            16.5           19   \n",
       "\n",
       "   本年固定资产投资额\\n(亿元)  \n",
       "0             51.9  \n",
       "1             90.9  \n",
       "2             73.7  \n",
       "3             14.5  \n",
       "4             63.2  "
      ]
     },
     "execution_count": 3,
     "metadata": {},
     "output_type": "execute_result"
    }
   ],
   "source": [
    "data = pd.read_excel(\"data/例11.6.xlsx\",header=0)\n",
    "data.head()"
   ]
  },
  {
   "cell_type": "code",
   "execution_count": 4,
   "metadata": {},
   "outputs": [
    {
     "data": {
      "text/plain": [
       "<matplotlib.collections.PathCollection at 0x1de3f083588>"
      ]
     },
     "execution_count": 4,
     "metadata": {},
     "output_type": "execute_result"
    },
    {
     "data": {
      "image/png": "[encoded data removed]",
      "text/plain": [
       "<Figure size 432x288 with 4 Axes>"
      ]
     },
     "metadata": {
      "needs_background": "light"
     },
     "output_type": "display_data"
    }
   ],
   "source": [
    "index = data.iloc[:,1:6] \n",
    "index1 = data.iloc[:,2] \n",
    "index2 = data.iloc[:,3] \n",
    "index3 = data.iloc[:,4] \n",
    "index4 = data.iloc[:,5] \n",
    "y = data.iloc[:,1]\n",
    "fig=plt.figure()\n",
    "ax1=fig.add_subplot(221)\n",
    "ax1.scatter(index1,y)\n",
    "ax2=fig.add_subplot(222)\n",
    "ax2.scatter(index2,y)\n",
    "ax3=fig.add_subplot(223)\n",
    "ax3.scatter(index3,y)\n",
    "ax4=fig.add_subplot(224)\n",
    "ax4.scatter(index4,y)"
   ]
  },
  {
   "cell_type": "markdown",
   "metadata": {},
   "source": [
    "## 相关系数\n",
    "### 协方差\n",
    "![协方差](img/equation.svg)"
   ]
  },
  {
   "cell_type": "code",
   "execution_count": 5,
   "metadata": {},
   "outputs": [
    {
     "name": "stdout",
     "output_type": "stream",
     "text": [
      "[[6455.5656      244.63176667]\n",
      " [ 244.63176667   13.0271    ]]\n",
      "[[40.1291     16.72518333]\n",
      " [16.72518333 13.0271    ]]\n",
      "[[73.32666667 21.6435    ]\n",
      " [21.6435     13.0271    ]]\n",
      "[[1613.82776667   75.18243333]\n",
      " [  75.18243333   13.0271    ]]\n"
     ]
    }
   ],
   "source": [
    "#print(index1.cov(y))\n",
    "print(np.cov(index1,y)) # 对角线是方差\n",
    "print(np.cov(index2,y))\n",
    "print(np.cov(index3,y))\n",
    "print(np.cov(index4,y))"
   ]
  },
  {
   "cell_type": "markdown",
   "metadata": {},
   "source": [
    "### 相关系数                                                                                            "
   ]
  },
  {
   "cell_type": "code",
   "execution_count": 6,
   "metadata": {},
   "outputs": [
    {
     "name": "stdout",
     "output_type": "stream",
     "text": [
      "0.843571364359289\n",
      "0.7315050079594156\n",
      "0.7002814906071179\n",
      "0.5185180900791034\n"
     ]
    }
   ],
   "source": [
    "print(index1.corr(y))\n",
    "print(index2.corr(y))\n",
    "print(index3.corr(y))\n",
    "print(index4.corr(y))"
   ]
  },
  {
   "cell_type": "code",
   "execution_count": 7,
   "metadata": {},
   "outputs": [
    {
     "data": {
      "text/plain": [
       "array([[1.        , 0.84357136, 0.73150501, 0.70028149, 0.51851809],\n",
       "       [0.84357136, 1.        , 0.67877176, 0.8484164 , 0.77970216],\n",
       "       [0.73150501, 0.67877176, 1.        , 0.58583149, 0.47243096],\n",
       "       [0.70028149, 0.8484164 , 0.58583149, 1.        , 0.74664584],\n",
       "       [0.51851809, 0.77970216, 0.47243096, 0.74664584, 1.        ]])"
      ]
     },
     "execution_count": 7,
     "metadata": {},
     "output_type": "execute_result"
    }
   ],
   "source": [
    "#列之间的相关系数\n",
    "indexCorr = np.corrcoef(index,rowvar=0)\n",
    "indexCorr"
   ]
  },
  {
   "cell_type": "code",
   "execution_count": 8,
   "metadata": {},
   "outputs": [
    {
     "data": {
      "text/plain": [
       "Text(0.5, 103.95874999999997, '亿元')"
      ]
     },
     "execution_count": 8,
     "metadata": {},
     "output_type": "execute_result"
    },
    {
     "data": {
      "image/png": "[encoded data removed]",
      "text/plain": [
       "<Figure size 648x648 with 2 Axes>"
      ]
     },
     "metadata": {
      "needs_background": "light"
     },
     "output_type": "display_data"
    }
   ],
   "source": [
    "fig, ax = plt.subplots(figsize = (9,9))\n",
    "#二维的数组的热力图，横轴和数轴的ticklabels要加上去的话，既可以通过将array转换成有column\n",
    "#和index的DataFrame直接绘图生成，也可以后续再加上去。后面加上去的话，更灵活，包括可设置labels大小方向等。\n",
    "dataCorrPd = pd.DataFrame(np.round(indexCorr,6), columns = ['不良贷款', '各项贷款余额', '本年累计应收贷款','贷款项目个数','本年固定资产投资额'], \n",
    "                         index = ['不良贷款', '各项贷款余额', '本年累计应收贷款','贷款项目个数','本年固定资产投资额'])\n",
    "sns.heatmap(dataCorrPd,annot=True, vmax=1,vmin = 0, xticklabels= True, yticklabels= True, square=True, cmap=\"YlGnBu\")\n",
    "#sns.heatmap(np.round(a,2), annot=True, vmax=1,vmin = 0, xticklabels= True, yticklabels= True, \n",
    "#            square=True, cmap=\"YlGnBu\")\n",
    "ax.set_title('相关系数列表', fontsize = 18)\n",
    "ax.set_ylabel('亿元', fontsize = 18)\n",
    "ax.set_xlabel('亿元', fontsize = 18) "
   ]
  },
  {
   "cell_type": "markdown",
   "metadata": {},
   "source": [
    "|r|说明：  \n",
    "\\[0.8,1\\]: 高度相关  \n",
    "\\[0.5,0.8): 中度相关   \n",
    "\\[0.3,0.5): 低度相关  \n",
    "\\[0,0.3): 不相关 （需进行显著性检验） "
   ]
  },
  {
   "cell_type": "markdown",
   "metadata": {},
   "source": [
    "###  相关关系的显著性检验\n",
    "#### 1. r 的抽样分布  \n",
    "ρ为较大正值时，r呈现左偏分布   \n",
    "ρ为较大负值时，r呈现右偏分布  \n",
    "ρ接近0时，样本量n很大时，才能认为r时接近正太分布的随机变量。  \n",
    "然而以r代替ρ，总假设r为正态分布，容易带来严重后果  \n",
    "####  2. r的显著性检验\n",
    "采用t检验\n",
    "t = |r|((n-2)/(1-r^2))^.5  ~~~ t(n-2)\n",
    "\n",
    "计算不良贷款和贷款余额之间的相关系数是否显著a = 0.05\n",
    "假设   \n",
    "H0 : ρ=0  \n",
    "H1 : ρ!=0"
   ]
  },
  {
   "cell_type": "code",
   "execution_count": 9,
   "metadata": {},
   "outputs": [
    {
     "data": {
      "text/plain": [
       "7.424621202458748"
      ]
     },
     "execution_count": 9,
     "metadata": {},
     "output_type": "execute_result"
    }
   ],
   "source": [
    "r = 0.84\n",
    "t = r * ((len(index1)-2)/(1-r**2))**.5\n",
    "t"
   ]
  },
  {
   "cell_type": "code",
   "execution_count": 10,
   "metadata": {},
   "outputs": [
    {
     "data": {
      "text/plain": [
       "2.068657610419041"
      ]
     },
     "execution_count": 10,
     "metadata": {},
     "output_type": "execute_result"
    }
   ],
   "source": [
    "ta = stats.t.isf(0.05/2,len(index)-2)\n",
    "ta"
   ]
  },
  {
   "cell_type": "code",
   "execution_count": 11,
   "metadata": {},
   "outputs": [
    {
     "name": "stdout",
     "output_type": "stream",
     "text": [
      "True\n",
      "拒绝原假设\n"
     ]
    }
   ],
   "source": [
    "print(t>ta)\n",
    "print(\"拒绝原假设\")"
   ]
  },
  {
   "cell_type": "markdown",
   "metadata": {},
   "source": [
    "## 一元线性回归\n",
    "![1-1](img/1-1.jpg) 或者![1-2](img/1-2.jpg)\n"
   ]
  },
  {
   "cell_type": "code",
   "execution_count": 12,
   "metadata": {},
   "outputs": [
    {
     "data": {
      "text/plain": [
       "0.03789470695901016"
      ]
     },
     "execution_count": 12,
     "metadata": {},
     "output_type": "execute_result"
    }
   ],
   "source": [
    "n = len(index1)\n",
    "beta1 = (n *sum(index1 * y) - sum(index1) *sum(y))/(n* sum(index1**2)- sum(index1)**2)\n",
    "beta1"
   ]
  },
  {
   "cell_type": "code",
   "execution_count": 13,
   "metadata": {},
   "outputs": [
    {
     "data": {
      "text/plain": [
       "-0.8295206165462328"
      ]
     },
     "execution_count": 13,
     "metadata": {},
     "output_type": "execute_result"
    }
   ],
   "source": [
    "beta0 = y.mean() - beta1* index1.mean()\n",
    "beta0"
   ]
  },
  {
   "cell_type": "code",
   "execution_count": 14,
   "metadata": {},
   "outputs": [],
   "source": [
    "def regression1(x):\n",
    "    return beta0+beta1*x "
   ]
  },
  {
   "cell_type": "markdown",
   "metadata": {},
   "source": [
    "### 回归直线的拟合优度\n",
    "#### 判定系数"
   ]
  },
  {
   "cell_type": "markdown",
   "metadata": {},
   "source": [
    "![1-3](img/1-3.jpg)"
   ]
  },
  {
   "cell_type": "code",
   "execution_count": 17,
   "metadata": {},
   "outputs": [
    {
     "data": {
      "text/plain": [
       "222.4859786567588"
      ]
     },
     "execution_count": 17,
     "metadata": {},
     "output_type": "execute_result"
    }
   ],
   "source": [
    "SSR = (regression1(index1)-y.mean())**2\n",
    "SSR.sum()"
   ]
  },
  {
   "cell_type": "code",
   "execution_count": 20,
   "metadata": {},
   "outputs": [
    {
     "data": {
      "text/plain": [
       "312.6504"
      ]
     },
     "execution_count": 20,
     "metadata": {},
     "output_type": "execute_result"
    }
   ],
   "source": [
    "SST = (y-y.mean())**2\n",
    "SST.sum()"
   ]
  },
  {
   "cell_type": "code",
   "execution_count": 25,
   "metadata": {},
   "outputs": [
    {
     "data": {
      "text/plain": [
       "0.7116126467669921"
      ]
     },
     "execution_count": 25,
     "metadata": {},
     "output_type": "execute_result"
    }
   ],
   "source": [
    "#相关系数根号\n",
    "RR = SSR.sum()/SST.sum()\n",
    "RR"
   ]
  },
  {
   "cell_type": "markdown",
   "metadata": {},
   "source": [
    "#### 估计标准误差\n",
    "![1-4](img/1-4.jpg)"
   ]
  },
  {
   "cell_type": "code",
   "execution_count": 24,
   "metadata": {},
   "outputs": [
    {
     "data": {
      "text/plain": [
       "1.9799475327176819"
      ]
     },
     "execution_count": 24,
     "metadata": {},
     "output_type": "execute_result"
    }
   ],
   "source": [
    "Se = ((1-RR)*SST.sum()/(len(y)-2))**.5\n",
    "Se"
   ]
  },
  {
   "cell_type": "markdown",
   "metadata": {},
   "source": [
    "即平均的估计误差为1.9799475327176819 亿元\n",
    "### 显著性检测\n",
    "![1-5](img/1-5.jpg)\n",
    "![1-6](img/1-6.jpg)"
   ]
  },
  {
   "cell_type": "code",
   "execution_count": 32,
   "metadata": {},
   "outputs": [
    {
     "data": {
      "text/plain": [
       "56.75384406478021"
      ]
     },
     "execution_count": 32,
     "metadata": {},
     "output_type": "execute_result"
    }
   ],
   "source": [
    "SSE = SST.sum() - SSR.sum()\n",
    "n= len(y)\n",
    "F =  (SSR.sum()/1) / (SSE/(n-2))\n",
    "F"
   ]
  },
  {
   "cell_type": "code",
   "execution_count": 33,
   "metadata": {},
   "outputs": [
    {
     "data": {
      "text/plain": [
       "4.279344309144648"
      ]
     },
     "execution_count": 33,
     "metadata": {},
     "output_type": "execute_result"
    }
   ],
   "source": [
    "Fa = stats.f.isf(0.05,1,n-2)\n",
    "Fa"
   ]
  },
  {
   "cell_type": "code",
   "execution_count": 34,
   "metadata": {},
   "outputs": [
    {
     "data": {
      "text/plain": [
       "True"
      ]
     },
     "execution_count": 34,
     "metadata": {},
     "output_type": "execute_result"
    }
   ],
   "source": [
    "F> Fa"
   ]
  },
  {
   "cell_type": "markdown",
   "metadata": {},
   "source": [
    "拒接原假设，两者有显著的线性关系\n",
    "### 回归系数检验\n",
    "```\n",
    "    yi = β0 +β1xi\n",
    "```  \n",
    "β1服从正态分布，数学期望为：E(β1) = β1  \n",
    "标准差为：  \n",
    "![1-7](img/1-7.jpg)\n",
    "![1-8](img/1-8.jpg)"
   ]
  },
  {
   "cell_type": "code",
   "execution_count": 44,
   "metadata": {},
   "outputs": [
    {
     "data": {
      "text/plain": [
       "0.005030149718689911"
      ]
     },
     "execution_count": 44,
     "metadata": {},
     "output_type": "execute_result"
    }
   ],
   "source": [
    "#假设beta1 = 0\n",
    "Sbeta1 = Se/((index1**2).sum()- (index1.sum()**2)/n)**0.5\n",
    "Sbeta1"
   ]
  },
  {
   "cell_type": "code",
   "execution_count": 41,
   "metadata": {},
   "outputs": [
    {
     "data": {
      "text/plain": [
       "7.533514721879837"
      ]
     },
     "execution_count": 41,
     "metadata": {},
     "output_type": "execute_result"
    }
   ],
   "source": [
    "t = beta1/Sbeta1\n",
    "t"
   ]
  },
  {
   "cell_type": "code",
   "execution_count": 42,
   "metadata": {},
   "outputs": [
    {
     "data": {
      "text/plain": [
       "2.068657610419041"
      ]
     },
     "execution_count": 42,
     "metadata": {},
     "output_type": "execute_result"
    }
   ],
   "source": [
    "ta = stats.t.isf(0.05/2,n-2)\n",
    "ta"
   ]
  },
  {
   "cell_type": "code",
   "execution_count": 43,
   "metadata": {},
   "outputs": [
    {
     "data": {
      "text/plain": [
       "True"
      ]
     },
     "execution_count": 43,
     "metadata": {},
     "output_type": "execute_result"
    }
   ],
   "source": [
    "t>ta"
   ]
  },
  {
   "cell_type": "markdown",
   "metadata": {},
   "source": [
    "拒绝原假设，两者存在明显的线性关系\n",
    "## 利用回归方程进行预测\n",
    "### 平均值区间估计\n",
    "![1-9](img/1-9.jpg)"
   ]
  },
  {
   "cell_type": "code",
   "execution_count": 46,
   "metadata": {},
   "outputs": [
    {
     "data": {
      "text/plain": [
       "2.9599500793547837"
      ]
     },
     "execution_count": 46,
     "metadata": {},
     "output_type": "execute_result"
    }
   ],
   "source": [
    "#当x0 = 100 时 95%置信区间\n",
    "y0 = regression1(100)\n",
    "y0"
   ]
  },
  {
   "cell_type": "code",
   "execution_count": 52,
   "metadata": {},
   "outputs": [
    {
     "data": {
      "text/plain": [
       "0.8458804229621194"
      ]
     },
     "execution_count": 52,
     "metadata": {},
     "output_type": "execute_result"
    }
   ],
   "source": [
    "r = ta * Se * (1/n + (100 - index1.mean())**2/sum((index1 - index1.mean())**2))**0.5\n",
    "r"
   ]
  },
  {
   "cell_type": "code",
   "execution_count": 54,
   "metadata": {},
   "outputs": [
    {
     "name": "stdout",
     "output_type": "stream",
     "text": [
      "y均值在2.1140696563926644和3.805830502316903之间\n"
     ]
    }
   ],
   "source": [
    "print(\"y均值在\"+str(y0-r)+\"和\"+str(y0+r)+\"之间\")"
   ]
  },
  {
   "cell_type": "markdown",
   "metadata": {},
   "source": [
    "### 个别值的区间估计\n",
    "![1-10](img/1-10.jpg)"
   ]
  },
  {
   "cell_type": "code",
   "execution_count": 60,
   "metadata": {},
   "outputs": [
    {
     "data": {
      "text/plain": [
       "4.206050277649333"
      ]
     },
     "execution_count": 60,
     "metadata": {},
     "output_type": "execute_result"
    }
   ],
   "source": [
    "y0 = regression1(72.8)\n",
    "r = ta * Se * ((n+1)/n + (72.8 - index1.mean())**2/sum((index1 - index1.mean())**2))**0.5\n",
    "r"
   ]
  },
  {
   "cell_type": "code",
   "execution_count": 61,
   "metadata": {},
   "outputs": [
    {
     "name": "stdout",
     "output_type": "stream",
     "text": [
      "y预测在-2.276836227579626和6.135264327719041之间\n"
     ]
    }
   ],
   "source": [
    "print(\"y预测在\"+str(y0-r)+\"和\"+str(y0+r)+\"之间\")"
   ]
  },
  {
   "cell_type": "markdown",
   "metadata": {},
   "source": [
    "### 残差分析"
   ]
  },
  {
   "cell_type": "code",
   "execution_count": 63,
   "metadata": {},
   "outputs": [
    {
     "data": {
      "text/plain": [
       "0    -0.820793\n",
       "1    -2.288160\n",
       "2    -0.926264\n",
       "3     0.967628\n",
       "4     1.061948\n",
       "5     2.915626\n",
       "6    -1.640371\n",
       "7     6.303842\n",
       "8    -1.812161\n",
       "9     0.670786\n",
       "10   -1.303320\n",
       "11   -0.180160\n",
       "12   -0.591109\n",
       "13   -2.286895\n",
       "14    1.044265\n",
       "15    0.824470\n",
       "16    0.468679\n",
       "17   -1.555740\n",
       "18    0.893521\n",
       "19    2.346998\n",
       "20   -1.523310\n",
       "21   -1.197003\n",
       "22   -2.123739\n",
       "23    0.594579\n",
       "24    0.156682\n",
       "dtype: float64"
      ]
     },
     "execution_count": 63,
     "metadata": {},
     "output_type": "execute_result"
    }
   ],
   "source": [
    "y_ = y- regression1(index1)\n",
    "y_"
   ]
  },
  {
   "cell_type": "code",
   "execution_count": 64,
   "metadata": {},
   "outputs": [
    {
     "data": {
      "text/plain": [
       "<matplotlib.collections.PathCollection at 0x1de44b7d208>"
      ]
     },
     "execution_count": 64,
     "metadata": {},
     "output_type": "execute_result"
    },
    {
     "data": {
      "image/png": "[encoded data removed]",
      "text/plain": [
       "<Figure size 432x288 with 1 Axes>"
      ]
     },
     "metadata": {
      "needs_background": "light"
     },
     "output_type": "display_data"
    }
   ],
   "source": [
    "plt.scatter(index1, y_)"
   ]
  },
  {
   "cell_type": "markdown",
   "metadata": {},
   "source": [
    "# 多元线性回归"
   ]
  },
  {
   "cell_type": "markdown",
   "metadata": {},
   "source": [
    "![2-1](img/2-1.jpg)"
   ]
  },
  {
   "cell_type": "code",
   "execution_count": 131,
   "metadata": {},
   "outputs": [
    {
     "data": {
      "text/plain": [
       "LinearRegression(copy_X=True, fit_intercept=True, n_jobs=None, normalize=False)"
      ]
     },
     "execution_count": 131,
     "metadata": {},
     "output_type": "execute_result"
    }
   ],
   "source": [
    "from sklearn import linear_model \n",
    "feature  = index.iloc[:,1:5]\n",
    "feature.insert(0,'x',np.ones(n))\n",
    "model = linear_model.LinearRegression()\n",
    "model.fit(feature, y)"
   ]
  },
  {
   "cell_type": "code",
   "execution_count": 149,
   "metadata": {},
   "outputs": [
    {
     "data": {
      "text/plain": [
       "array([ 0.        ,  0.04003935,  0.14803389,  0.01452935, -0.02919287])"
      ]
     },
     "execution_count": 149,
     "metadata": {},
     "output_type": "execute_result"
    }
   ],
   "source": [
    "model.coef_"
   ]
  },
  {
   "cell_type": "markdown",
   "metadata": {},
   "source": [
    "![2-2](img/2-2.jpg)\n",
    "![2-3](img/2-3.jpg)\n",
    "![2-4](img/2-4.jpg)"
   ]
  },
  {
   "cell_type": "code",
   "execution_count": 133,
   "metadata": {},
   "outputs": [
    {
     "data": {
      "text/plain": [
       "-1.021639762985917"
      ]
     },
     "execution_count": 133,
     "metadata": {},
     "output_type": "execute_result"
    }
   ],
   "source": [
    "model.intercept_"
   ]
  },
  {
   "cell_type": "code",
   "execution_count": 134,
   "metadata": {},
   "outputs": [
    {
     "data": {
      "text/plain": [
       "array([ 1.23717617,  3.94464939,  5.14051401,  3.00138093,  7.84784677,\n",
       "       -0.09702264,  4.51985246,  9.39625551,  1.59121198,  1.56664319,\n",
       "        0.77304537,  4.02462456,  1.75068325,  4.80854023,  8.04946297,\n",
       "        2.81605615, -1.54019795,  2.215896  ,  0.37443472,  4.15541063,\n",
       "       11.88804787,  2.21886608,  3.11263773,  8.2465296 ,  2.15745504])"
      ]
     },
     "execution_count": 134,
     "metadata": {},
     "output_type": "execute_result"
    }
   ],
   "source": [
    "y_pred = model.predict(index)\n",
    "y_pred"
   ]
  },
  {
   "cell_type": "code",
   "execution_count": 141,
   "metadata": {},
   "outputs": [
    {
     "data": {
      "text/plain": [
       "0.7976039890844782"
      ]
     },
     "execution_count": 141,
     "metadata": {},
     "output_type": "execute_result"
    }
   ],
   "source": [
    "SSE = sum((y_pred - y)**2)\n",
    "SST = sum((y - y.mean())**2)\n",
    "RR = 1-SSE/SST\n",
    "RR"
   ]
  },
  {
   "attachments": {},
   "cell_type": "markdown",
   "metadata": {},
   "source": [
    "#### 调整的多重判定系数\n",
    "![2-5](img/2-5.jpg)"
   ]
  },
  {
   "cell_type": "code",
   "execution_count": 137,
   "metadata": {},
   "outputs": [
    {
     "data": {
      "text/plain": [
       "0.7571247869013737"
      ]
     },
     "execution_count": 137,
     "metadata": {},
     "output_type": "execute_result"
    }
   ],
   "source": [
    "RRa =1-(1-RR)*((n-1)/(n-4-1))\n",
    "RRa"
   ]
  },
  {
   "cell_type": "markdown",
   "metadata": {},
   "source": [
    "在4个参数的多元方程中可解释性为75.7%\n",
    "![2-6](img/2-6.jpg)"
   ]
  },
  {
   "cell_type": "code",
   "execution_count": 138,
   "metadata": {},
   "outputs": [
    {
     "data": {
      "text/plain": [
       "1.7787522842029224"
      ]
     },
     "execution_count": 138,
     "metadata": {},
     "output_type": "execute_result"
    }
   ],
   "source": [
    "Se =(SSE/(n-4-1))**.5\n",
    "Se"
   ]
  },
  {
   "cell_type": "markdown",
   "metadata": {},
   "source": [
    "平均预测误差为1.78亿元\n",
    "### 显著性检测\n",
    "\n",
    "多元回归中，多个自变量只要有一个自变量和与因变量线性关系显著，F检验就能通过，但是这并不意味着所有的自变量都线性相关。\n",
    "回归系数检测用于判断每个自变量对因变量的影响是否显著。\n",
    "#### 线性检验\n",
    "\n",
    "![2-7](img/2-7.jpg)"
   ]
  },
  {
   "cell_type": "code",
   "execution_count": 145,
   "metadata": {},
   "outputs": [
    {
     "data": {
      "text/plain": [
       "19.704044202170337"
      ]
     },
     "execution_count": 145,
     "metadata": {},
     "output_type": "execute_result"
    }
   ],
   "source": [
    "SSR = sum((y_pred - y.mean())**2)\n",
    "F = SSR/4 /(SSE/(n-4-1))\n",
    "F"
   ]
  },
  {
   "cell_type": "code",
   "execution_count": 146,
   "metadata": {},
   "outputs": [
    {
     "data": {
      "text/plain": [
       "2.8660814020156584"
      ]
     },
     "execution_count": 146,
     "metadata": {},
     "output_type": "execute_result"
    }
   ],
   "source": [
    "Fa = stats.f.isf(0.05,4,n-5)\n",
    "Fa"
   ]
  },
  {
   "cell_type": "code",
   "execution_count": 147,
   "metadata": {},
   "outputs": [
    {
     "data": {
      "text/plain": [
       "True"
      ]
     },
     "execution_count": 147,
     "metadata": {},
     "output_type": "execute_result"
    }
   ],
   "source": [
    "F>Fa"
   ]
  },
  {
   "cell_type": "markdown",
   "metadata": {},
   "source": [
    "拒绝原假设，关系是显著的\n",
    "#### 回归系数检验和推断\n",
    "![2-8](img/2-8.jpg)\n",
    "![2-9](img/2-9.jpg)"
   ]
  },
  {
   "cell_type": "code",
   "execution_count": 159,
   "metadata": {},
   "outputs": [],
   "source": [
    "def t(beta,x):\n",
    "    return beta/(Se/(sum(x**2)-1/n*(sum(x)**2))**.5)"
   ]
  },
  {
   "cell_type": "code",
   "execution_count": 160,
   "metadata": {},
   "outputs": [
    {
     "data": {
      "text/plain": [
       "8.860216776029759"
      ]
     },
     "execution_count": 160,
     "metadata": {},
     "output_type": "execute_result"
    }
   ],
   "source": [
    "t1 =t(model.coef_[1],index1)\n",
    "t1"
   ]
  },
  {
   "cell_type": "code",
   "execution_count": 155,
   "metadata": {},
   "outputs": [
    {
     "data": {
      "text/plain": [
       "1.9924515465819136e-26"
      ]
     },
     "execution_count": 155,
     "metadata": {},
     "output_type": "execute_result"
    }
   ],
   "source": [
    "Se/(sum(index1**2)- (index1.sum()**2)/n)**5"
   ]
  },
  {
   "cell_type": "code",
   "execution_count": 166,
   "metadata": {},
   "outputs": [
    {
     "data": {
      "text/plain": [
       "154933.57440000022"
      ]
     },
     "execution_count": 166,
     "metadata": {},
     "output_type": "execute_result"
    }
   ],
   "source": [
    "sum(index1**2) - 1/25 * sum(index1)**2"
   ]
  },
  {
   "cell_type": "code",
   "execution_count": 169,
   "metadata": {},
   "outputs": [
    {
     "data": {
      "text/plain": [
       "8.860216776029757"
      ]
     },
     "execution_count": 169,
     "metadata": {},
     "output_type": "execute_result"
    }
   ],
   "source": [
    "model.coef_[1]*154933.57440000022**.5/Se"
   ]
  },
  {
   "cell_type": "code",
   "execution_count": null,
   "metadata": {},
   "outputs": [],
   "source": []
  }
 ],
 "metadata": {
  "kernelspec": {
   "display_name": "Python 3",
   "language": "python",
   "name": "python3"
  },
  "language_info": {
   "codemirror_mode": {
    "name": "ipython",
    "version": 3
   },
   "file_extension": ".py",
   "mimetype": "text/x-python",
   "name": "python",
   "nbconvert_exporter": "python",
   "pygments_lexer": "ipython3",
   "version": "3.7.3"
  }
 },
 "nbformat": 4,
 "nbformat_minor": 2
}
