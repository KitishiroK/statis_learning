{
 "cells": [
  {
   "cell_type": "markdown",
   "metadata": {},
   "source": [
    "# 统计学\n",
    "\n",
    "收集分析解释数据并从数据中得出结论的科学 ---摘自统计学第七版\n",
    "    \n",
    "![统计数据类型](./img/data_type.png)"
   ]
  },
  {
   "cell_type": "markdown",
   "metadata": {},
   "source": [
    "# 数据的图表展示\n",
    "\n",
    "![统计数据类型](./img/data_type.jpg)\n",
    "\n",
    "## 1.数据的预处理"
   ]
  },
  {
   "cell_type": "code",
   "execution_count": 1,
   "metadata": {},
   "outputs": [],
   "source": [
    "import pandas as pd\n",
    "from pandas import Series, DataFrame\n",
    "import seaborn as sns\n",
    "import matplotlib.pyplot as plt\n",
    "import numpy as np"
   ]
  },
  {
   "cell_type": "code",
   "execution_count": 2,
   "metadata": {},
   "outputs": [],
   "source": [
    "data=pd.read_csv('data/1.txt',sep='\\t',header=0)"
   ]
  },
  {
   "cell_type": "code",
   "execution_count": 3,
   "metadata": {},
   "outputs": [
    {
     "data": {
      "text/html": [
       "<div>\n",
       "<style scoped>\n",
       "    .dataframe tbody tr th:only-of-type {\n",
       "        vertical-align: middle;\n",
       "    }\n",
       "\n",
       "    .dataframe tbody tr th {\n",
       "        vertical-align: top;\n",
       "    }\n",
       "\n",
       "    .dataframe thead th {\n",
       "        text-align: right;\n",
       "    }\n",
       "</style>\n",
       "<table border=\"1\" class=\"dataframe\">\n",
       "  <thead>\n",
       "    <tr style=\"text-align: right;\">\n",
       "      <th></th>\n",
       "      <th>姓名</th>\n",
       "      <th>统计学成绩</th>\n",
       "      <th>数学成绩</th>\n",
       "      <th>英语成绩</th>\n",
       "      <th>经济学成绩</th>\n",
       "    </tr>\n",
       "  </thead>\n",
       "  <tbody>\n",
       "    <tr>\n",
       "      <th>0</th>\n",
       "      <td>张松</td>\n",
       "      <td>69</td>\n",
       "      <td>68</td>\n",
       "      <td>84</td>\n",
       "      <td>86</td>\n",
       "    </tr>\n",
       "    <tr>\n",
       "      <th>1</th>\n",
       "      <td>王翔</td>\n",
       "      <td>91</td>\n",
       "      <td>75</td>\n",
       "      <td>95</td>\n",
       "      <td>94</td>\n",
       "    </tr>\n",
       "    <tr>\n",
       "      <th>2</th>\n",
       "      <td>田雨</td>\n",
       "      <td>54</td>\n",
       "      <td>88</td>\n",
       "      <td>67</td>\n",
       "      <td>78</td>\n",
       "    </tr>\n",
       "    <tr>\n",
       "      <th>3</th>\n",
       "      <td>李华</td>\n",
       "      <td>81</td>\n",
       "      <td>60</td>\n",
       "      <td>86</td>\n",
       "      <td>64</td>\n",
       "    </tr>\n",
       "    <tr>\n",
       "      <th>4</th>\n",
       "      <td>赵颖</td>\n",
       "      <td>75</td>\n",
       "      <td>96</td>\n",
       "      <td>81</td>\n",
       "      <td>83</td>\n",
       "    </tr>\n",
       "  </tbody>\n",
       "</table>\n",
       "</div>"
      ],
      "text/plain": [
       "   姓名  统计学成绩  数学成绩  英语成绩  经济学成绩\n",
       "0  张松     69    68    84     86\n",
       "1  王翔     91    75    95     94\n",
       "2  田雨     54    88    67     78\n",
       "3  李华     81    60    86     64\n",
       "4  赵颖     75    96    81     83"
      ]
     },
     "execution_count": 3,
     "metadata": {},
     "output_type": "execute_result"
    }
   ],
   "source": [
    "data.head()"
   ]
  },
  {
   "cell_type": "markdown",
   "metadata": {},
   "source": [
    "### 数据筛选"
   ]
  },
  {
   "cell_type": "code",
   "execution_count": 4,
   "metadata": {},
   "outputs": [
    {
     "data": {
      "text/html": [
       "<div>\n",
       "<style scoped>\n",
       "    .dataframe tbody tr th:only-of-type {\n",
       "        vertical-align: middle;\n",
       "    }\n",
       "\n",
       "    .dataframe tbody tr th {\n",
       "        vertical-align: top;\n",
       "    }\n",
       "\n",
       "    .dataframe thead th {\n",
       "        text-align: right;\n",
       "    }\n",
       "</style>\n",
       "<table border=\"1\" class=\"dataframe\">\n",
       "  <thead>\n",
       "    <tr style=\"text-align: right;\">\n",
       "      <th></th>\n",
       "      <th>姓名</th>\n",
       "      <th>统计学成绩</th>\n",
       "      <th>数学成绩</th>\n",
       "      <th>英语成绩</th>\n",
       "      <th>经济学成绩</th>\n",
       "    </tr>\n",
       "  </thead>\n",
       "  <tbody>\n",
       "    <tr>\n",
       "      <th>1</th>\n",
       "      <td>王翔</td>\n",
       "      <td>91</td>\n",
       "      <td>75</td>\n",
       "      <td>95</td>\n",
       "      <td>94</td>\n",
       "    </tr>\n",
       "    <tr>\n",
       "      <th>3</th>\n",
       "      <td>李华</td>\n",
       "      <td>81</td>\n",
       "      <td>60</td>\n",
       "      <td>86</td>\n",
       "      <td>64</td>\n",
       "    </tr>\n",
       "    <tr>\n",
       "      <th>5</th>\n",
       "      <td>宋媛</td>\n",
       "      <td>83</td>\n",
       "      <td>72</td>\n",
       "      <td>66</td>\n",
       "      <td>71</td>\n",
       "    </tr>\n",
       "    <tr>\n",
       "      <th>7</th>\n",
       "      <td>陈风</td>\n",
       "      <td>87</td>\n",
       "      <td>76</td>\n",
       "      <td>92</td>\n",
       "      <td>77</td>\n",
       "    </tr>\n",
       "    <tr>\n",
       "      <th>8</th>\n",
       "      <td>南北</td>\n",
       "      <td>84</td>\n",
       "      <td>32</td>\n",
       "      <td>45</td>\n",
       "      <td>65</td>\n",
       "    </tr>\n",
       "  </tbody>\n",
       "</table>\n",
       "</div>"
      ],
      "text/plain": [
       "   姓名  统计学成绩  数学成绩  英语成绩  经济学成绩\n",
       "1  王翔     91    75    95     94\n",
       "3  李华     81    60    86     64\n",
       "5  宋媛     83    72    66     71\n",
       "7  陈风     87    76    92     77\n",
       "8  南北     84    32    45     65"
      ]
     },
     "execution_count": 4,
     "metadata": {},
     "output_type": "execute_result"
    }
   ],
   "source": [
    "#统计学>80\n",
    "data.loc[data[\"统计学成绩\"] >80].head()"
   ]
  },
  {
   "cell_type": "code",
   "execution_count": 5,
   "metadata": {},
   "outputs": [
    {
     "data": {
      "text/html": [
       "<div>\n",
       "<style scoped>\n",
       "    .dataframe tbody tr th:only-of-type {\n",
       "        vertical-align: middle;\n",
       "    }\n",
       "\n",
       "    .dataframe tbody tr th {\n",
       "        vertical-align: top;\n",
       "    }\n",
       "\n",
       "    .dataframe thead th {\n",
       "        text-align: right;\n",
       "    }\n",
       "</style>\n",
       "<table border=\"1\" class=\"dataframe\">\n",
       "  <thead>\n",
       "    <tr style=\"text-align: right;\">\n",
       "      <th></th>\n",
       "      <th>姓名</th>\n",
       "      <th>统计学成绩</th>\n",
       "      <th>数学成绩</th>\n",
       "      <th>英语成绩</th>\n",
       "      <th>经济学成绩</th>\n",
       "    </tr>\n",
       "  </thead>\n",
       "  <tbody>\n",
       "    <tr>\n",
       "      <th>1</th>\n",
       "      <td>王翔</td>\n",
       "      <td>91</td>\n",
       "      <td>75</td>\n",
       "      <td>95</td>\n",
       "      <td>94</td>\n",
       "    </tr>\n",
       "    <tr>\n",
       "      <th>3</th>\n",
       "      <td>李华</td>\n",
       "      <td>81</td>\n",
       "      <td>60</td>\n",
       "      <td>86</td>\n",
       "      <td>64</td>\n",
       "    </tr>\n",
       "    <tr>\n",
       "      <th>7</th>\n",
       "      <td>陈风</td>\n",
       "      <td>87</td>\n",
       "      <td>76</td>\n",
       "      <td>92</td>\n",
       "      <td>77</td>\n",
       "    </tr>\n",
       "  </tbody>\n",
       "</table>\n",
       "</div>"
      ],
      "text/plain": [
       "   姓名  统计学成绩  数学成绩  英语成绩  经济学成绩\n",
       "1  王翔     91    75    95     94\n",
       "3  李华     81    60    86     64\n",
       "7  陈风     87    76    92     77"
      ]
     },
     "execution_count": 5,
     "metadata": {},
     "output_type": "execute_result"
    }
   ],
   "source": [
    "#统计学>80和英语成绩>80\n",
    "data.loc[(data[\"统计学成绩\"] >80)&(data[\"英语成绩\"] >80)].head()"
   ]
  },
  {
   "cell_type": "markdown",
   "metadata": {},
   "source": [
    "### 数据排序"
   ]
  },
  {
   "cell_type": "code",
   "execution_count": 6,
   "metadata": {},
   "outputs": [
    {
     "data": {
      "text/html": [
       "<div>\n",
       "<style scoped>\n",
       "    .dataframe tbody tr th:only-of-type {\n",
       "        vertical-align: middle;\n",
       "    }\n",
       "\n",
       "    .dataframe tbody tr th {\n",
       "        vertical-align: top;\n",
       "    }\n",
       "\n",
       "    .dataframe thead th {\n",
       "        text-align: right;\n",
       "    }\n",
       "</style>\n",
       "<table border=\"1\" class=\"dataframe\">\n",
       "  <thead>\n",
       "    <tr style=\"text-align: right;\">\n",
       "      <th></th>\n",
       "      <th>姓名</th>\n",
       "      <th>统计学成绩</th>\n",
       "      <th>数学成绩</th>\n",
       "      <th>英语成绩</th>\n",
       "      <th>经济学成绩</th>\n",
       "    </tr>\n",
       "  </thead>\n",
       "  <tbody>\n",
       "    <tr>\n",
       "      <th>1</th>\n",
       "      <td>王翔</td>\n",
       "      <td>91</td>\n",
       "      <td>75</td>\n",
       "      <td>95</td>\n",
       "      <td>94</td>\n",
       "    </tr>\n",
       "    <tr>\n",
       "      <th>7</th>\n",
       "      <td>陈风</td>\n",
       "      <td>87</td>\n",
       "      <td>76</td>\n",
       "      <td>92</td>\n",
       "      <td>77</td>\n",
       "    </tr>\n",
       "    <tr>\n",
       "      <th>8</th>\n",
       "      <td>南北</td>\n",
       "      <td>84</td>\n",
       "      <td>32</td>\n",
       "      <td>45</td>\n",
       "      <td>65</td>\n",
       "    </tr>\n",
       "    <tr>\n",
       "      <th>5</th>\n",
       "      <td>宋媛</td>\n",
       "      <td>83</td>\n",
       "      <td>72</td>\n",
       "      <td>66</td>\n",
       "      <td>71</td>\n",
       "    </tr>\n",
       "    <tr>\n",
       "      <th>3</th>\n",
       "      <td>李华</td>\n",
       "      <td>81</td>\n",
       "      <td>60</td>\n",
       "      <td>86</td>\n",
       "      <td>64</td>\n",
       "    </tr>\n",
       "  </tbody>\n",
       "</table>\n",
       "</div>"
      ],
      "text/plain": [
       "   姓名  统计学成绩  数学成绩  英语成绩  经济学成绩\n",
       "1  王翔     91    75    95     94\n",
       "7  陈风     87    76    92     77\n",
       "8  南北     84    32    45     65\n",
       "5  宋媛     83    72    66     71\n",
       "3  李华     81    60    86     64"
      ]
     },
     "execution_count": 6,
     "metadata": {},
     "output_type": "execute_result"
    }
   ],
   "source": [
    "#按照降序排列\n",
    "data.sort_values(by='统计学成绩', ascending=False).head()"
   ]
  },
  {
   "cell_type": "markdown",
   "metadata": {},
   "source": [
    "### 数据透视表"
   ]
  },
  {
   "cell_type": "code",
   "execution_count": 7,
   "metadata": {},
   "outputs": [],
   "source": [
    "#指定索引和列名 \\t 分割\n",
    "data2=pd.read_csv('data/2.txt',sep='\\t',header=0, index_col=0)"
   ]
  },
  {
   "cell_type": "code",
   "execution_count": 8,
   "metadata": {
    "scrolled": true
   },
   "outputs": [
    {
     "data": {
      "text/html": [
       "<div>\n",
       "<style scoped>\n",
       "    .dataframe tbody tr th:only-of-type {\n",
       "        vertical-align: middle;\n",
       "    }\n",
       "\n",
       "    .dataframe tbody tr th {\n",
       "        vertical-align: top;\n",
       "    }\n",
       "\n",
       "    .dataframe thead th {\n",
       "        text-align: right;\n",
       "    }\n",
       "</style>\n",
       "<table border=\"1\" class=\"dataframe\">\n",
       "  <thead>\n",
       "    <tr style=\"text-align: right;\">\n",
       "      <th></th>\n",
       "      <th></th>\n",
       "      <th>平均月生活费(元)</th>\n",
       "      <th>月平均衣物支出(元)</th>\n",
       "    </tr>\n",
       "    <tr>\n",
       "      <th>性别</th>\n",
       "      <th>买衣物首选因素</th>\n",
       "      <th></th>\n",
       "      <th></th>\n",
       "    </tr>\n",
       "  </thead>\n",
       "  <tbody>\n",
       "    <tr>\n",
       "      <th rowspan=\"3\" valign=\"top\">女</th>\n",
       "      <th>价格</th>\n",
       "      <td>462.5</td>\n",
       "      <td>101.875</td>\n",
       "    </tr>\n",
       "    <tr>\n",
       "      <th>品牌</th>\n",
       "      <td>650.0</td>\n",
       "      <td>65.000</td>\n",
       "    </tr>\n",
       "    <tr>\n",
       "      <th>款式</th>\n",
       "      <td>640.0</td>\n",
       "      <td>186.000</td>\n",
       "    </tr>\n",
       "    <tr>\n",
       "      <th rowspan=\"3\" valign=\"top\">男</th>\n",
       "      <th>价格</th>\n",
       "      <td>550.0</td>\n",
       "      <td>75.000</td>\n",
       "    </tr>\n",
       "    <tr>\n",
       "      <th>品牌</th>\n",
       "      <td>850.0</td>\n",
       "      <td>255.000</td>\n",
       "    </tr>\n",
       "    <tr>\n",
       "      <th>款式</th>\n",
       "      <td>700.0</td>\n",
       "      <td>190.000</td>\n",
       "    </tr>\n",
       "  </tbody>\n",
       "</table>\n",
       "</div>"
      ],
      "text/plain": [
       "            平均月生活费(元)  月平均衣物支出(元)\n",
       "性别 买衣物首选因素                       \n",
       "女  价格           462.5     101.875\n",
       "   品牌           650.0      65.000\n",
       "   款式           640.0     186.000\n",
       "男  价格           550.0      75.000\n",
       "   品牌           850.0     255.000\n",
       "   款式           700.0     190.000"
      ]
     },
     "execution_count": 8,
     "metadata": {},
     "output_type": "execute_result"
    }
   ],
   "source": [
    "pd.pivot_table(data2,index=[\"性别\",\"买衣物首选因素\"])"
   ]
  },
  {
   "cell_type": "markdown",
   "metadata": {},
   "source": [
    "pivot_table参数说明  \n",
    "名称\t说明   \n",
    "data\t接收DataFrame。表示透视表的数据。无默认。  \n",
    "values\t接收字符串。用于指定想要聚合的数据字段名，默认使用全部数据。默认为None。\n",
    "index\t接收string或list。表示行分组键。默认为None。  \n",
    "columns\t接收string或list。表示列分组键。默认为None。  \n",
    "aggfunc\t接收functions。表示聚合函数。默认为mean。  \n",
    "fill_value\t接受scalar。表示是否将fill_value的数值代替缺失值。默认为None。  \n",
    "margins\t接收boolearn。表示汇总（Total）功能的开关，设为True后结果集中会出现名为“ALL”的行和列。默认为True。  \n",
    "dropna\t接收boolearn。表示是否删掉全为NaN的列。默认为False。  \n",
    "margins_name\t 接收string。表示margins为True时，'All'的名称。  "
   ]
  },
  {
   "cell_type": "markdown",
   "metadata": {},
   "source": [
    "## 2.品质数据的整理与展示"
   ]
  },
  {
   "cell_type": "markdown",
   "metadata": {},
   "source": [
    "### 分类数据的整理与图示"
   ]
  },
  {
   "cell_type": "code",
   "execution_count": 9,
   "metadata": {},
   "outputs": [
    {
     "data": {
      "text/html": [
       "<div>\n",
       "<style scoped>\n",
       "    .dataframe tbody tr th:only-of-type {\n",
       "        vertical-align: middle;\n",
       "    }\n",
       "\n",
       "    .dataframe tbody tr th {\n",
       "        vertical-align: top;\n",
       "    }\n",
       "\n",
       "    .dataframe thead th {\n",
       "        text-align: right;\n",
       "    }\n",
       "</style>\n",
       "<table border=\"1\" class=\"dataframe\">\n",
       "  <thead>\n",
       "    <tr style=\"text-align: right;\">\n",
       "      <th></th>\n",
       "      <th>顾客性别</th>\n",
       "      <th>饮料类型</th>\n",
       "      <th>count</th>\n",
       "    </tr>\n",
       "  </thead>\n",
       "  <tbody>\n",
       "    <tr>\n",
       "      <th>0</th>\n",
       "      <td>女</td>\n",
       "      <td>碳酸饮料</td>\n",
       "      <td>1</td>\n",
       "    </tr>\n",
       "    <tr>\n",
       "      <th>1</th>\n",
       "      <td>男</td>\n",
       "      <td>绿茶</td>\n",
       "      <td>1</td>\n",
       "    </tr>\n",
       "    <tr>\n",
       "      <th>2</th>\n",
       "      <td>男</td>\n",
       "      <td>矿泉水</td>\n",
       "      <td>1</td>\n",
       "    </tr>\n",
       "    <tr>\n",
       "      <th>3</th>\n",
       "      <td>女</td>\n",
       "      <td>矿泉水</td>\n",
       "      <td>1</td>\n",
       "    </tr>\n",
       "    <tr>\n",
       "      <th>4</th>\n",
       "      <td>男</td>\n",
       "      <td>碳酸饮料</td>\n",
       "      <td>1</td>\n",
       "    </tr>\n",
       "  </tbody>\n",
       "</table>\n",
       "</div>"
      ],
      "text/plain": [
       "  顾客性别  饮料类型  count\n",
       "0    女  碳酸饮料      1\n",
       "1    男    绿茶      1\n",
       "2    男   矿泉水      1\n",
       "3    女   矿泉水      1\n",
       "4    男  碳酸饮料      1"
      ]
     },
     "execution_count": 9,
     "metadata": {},
     "output_type": "execute_result"
    }
   ],
   "source": [
    "data3 = pd.read_excel('./data/3.xlsx',header=0)\n",
    "data3['count']=1\n",
    "data3.head()"
   ]
  },
  {
   "cell_type": "markdown",
   "metadata": {},
   "source": [
    "#### 频数"
   ]
  },
  {
   "cell_type": "code",
   "execution_count": 10,
   "metadata": {},
   "outputs": [
    {
     "data": {
      "text/plain": [
       "女    28\n",
       "男    22\n",
       "Name: 顾客性别, dtype: int64"
      ]
     },
     "execution_count": 10,
     "metadata": {},
     "output_type": "execute_result"
    }
   ],
   "source": [
    "data3.顾客性别.value_counts() "
   ]
  },
  {
   "cell_type": "markdown",
   "metadata": {},
   "source": [
    "normalize : boolean, default False　如果设置为true，则以百分比的形式显示  \n",
    "sort : boolean, default True　是否排序  \n",
    "ascending : boolean, default False　默认降序排序  \n",
    "bins : integer, optional 而不是数值计算，把它们分成半开放的箱子，一个方便的pd.cut，只适用于数字数据  \n",
    "dropna : boolean, default True　默认删除na值  "
   ]
  },
  {
   "cell_type": "code",
   "execution_count": 11,
   "metadata": {},
   "outputs": [
    {
     "data": {
      "text/plain": [
       "女    (28, 56.00000000000001%)\n",
       "男                 (22, 44.0%)\n",
       "Name: 顾客性别, dtype: object"
      ]
     },
     "execution_count": 11,
     "metadata": {},
     "output_type": "execute_result"
    }
   ],
   "source": [
    "total = data3['顾客性别'].count()\n",
    "data3.顾客性别.value_counts().apply(lambda x :(x,str(x/total*100)+'%'))"
   ]
  },
  {
   "cell_type": "code",
   "execution_count": 12,
   "metadata": {},
   "outputs": [
    {
     "data": {
      "text/html": [
       "<div>\n",
       "<style scoped>\n",
       "    .dataframe tbody tr th:only-of-type {\n",
       "        vertical-align: middle;\n",
       "    }\n",
       "\n",
       "    .dataframe tbody tr th {\n",
       "        vertical-align: top;\n",
       "    }\n",
       "\n",
       "    .dataframe thead th {\n",
       "        text-align: right;\n",
       "    }\n",
       "</style>\n",
       "<table border=\"1\" class=\"dataframe\">\n",
       "  <thead>\n",
       "    <tr style=\"text-align: right;\">\n",
       "      <th></th>\n",
       "      <th></th>\n",
       "      <th>count</th>\n",
       "    </tr>\n",
       "    <tr>\n",
       "      <th>饮料类型</th>\n",
       "      <th>顾客性别</th>\n",
       "      <th></th>\n",
       "    </tr>\n",
       "  </thead>\n",
       "  <tbody>\n",
       "    <tr>\n",
       "      <th rowspan=\"2\" valign=\"top\">其他</th>\n",
       "      <th>女</th>\n",
       "      <td>6</td>\n",
       "    </tr>\n",
       "    <tr>\n",
       "      <th>男</th>\n",
       "      <td>2</td>\n",
       "    </tr>\n",
       "    <tr>\n",
       "      <th rowspan=\"2\" valign=\"top\">果汁</th>\n",
       "      <th>女</th>\n",
       "      <td>5</td>\n",
       "    </tr>\n",
       "    <tr>\n",
       "      <th>男</th>\n",
       "      <td>1</td>\n",
       "    </tr>\n",
       "    <tr>\n",
       "      <th rowspan=\"2\" valign=\"top\">矿泉水</th>\n",
       "      <th>女</th>\n",
       "      <td>4</td>\n",
       "    </tr>\n",
       "    <tr>\n",
       "      <th>男</th>\n",
       "      <td>6</td>\n",
       "    </tr>\n",
       "    <tr>\n",
       "      <th rowspan=\"2\" valign=\"top\">碳酸饮料</th>\n",
       "      <th>女</th>\n",
       "      <td>9</td>\n",
       "    </tr>\n",
       "    <tr>\n",
       "      <th>男</th>\n",
       "      <td>6</td>\n",
       "    </tr>\n",
       "    <tr>\n",
       "      <th rowspan=\"2\" valign=\"top\">绿茶</th>\n",
       "      <th>女</th>\n",
       "      <td>4</td>\n",
       "    </tr>\n",
       "    <tr>\n",
       "      <th>男</th>\n",
       "      <td>7</td>\n",
       "    </tr>\n",
       "  </tbody>\n",
       "</table>\n",
       "</div>"
      ],
      "text/plain": [
       "           count\n",
       "饮料类型 顾客性别       \n",
       "其他   女         6\n",
       "     男         2\n",
       "果汁   女         5\n",
       "     男         1\n",
       "矿泉水  女         4\n",
       "     男         6\n",
       "碳酸饮料 女         9\n",
       "     男         6\n",
       "绿茶   女         4\n",
       "     男         7"
      ]
     },
     "execution_count": 12,
     "metadata": {},
     "output_type": "execute_result"
    }
   ],
   "source": [
    "tmp3 = data3.groupby(['饮料类型','顾客性别'])\n",
    "tmp3.count()"
   ]
  },
  {
   "cell_type": "code",
   "execution_count": 13,
   "metadata": {},
   "outputs": [
    {
     "data": {
      "text/html": [
       "<div>\n",
       "<style scoped>\n",
       "    .dataframe tbody tr th:only-of-type {\n",
       "        vertical-align: middle;\n",
       "    }\n",
       "\n",
       "    .dataframe tbody tr th {\n",
       "        vertical-align: top;\n",
       "    }\n",
       "\n",
       "    .dataframe thead tr th {\n",
       "        text-align: left;\n",
       "    }\n",
       "\n",
       "    .dataframe thead tr:last-of-type th {\n",
       "        text-align: right;\n",
       "    }\n",
       "</style>\n",
       "<table border=\"1\" class=\"dataframe\">\n",
       "  <thead>\n",
       "    <tr>\n",
       "      <th></th>\n",
       "      <th colspan=\"2\" halign=\"left\">count</th>\n",
       "    </tr>\n",
       "    <tr>\n",
       "      <th>顾客性别</th>\n",
       "      <th>女</th>\n",
       "      <th>男</th>\n",
       "    </tr>\n",
       "    <tr>\n",
       "      <th>饮料类型</th>\n",
       "      <th></th>\n",
       "      <th></th>\n",
       "    </tr>\n",
       "  </thead>\n",
       "  <tbody>\n",
       "    <tr>\n",
       "      <th>其他</th>\n",
       "      <td>6</td>\n",
       "      <td>2</td>\n",
       "    </tr>\n",
       "    <tr>\n",
       "      <th>果汁</th>\n",
       "      <td>5</td>\n",
       "      <td>1</td>\n",
       "    </tr>\n",
       "    <tr>\n",
       "      <th>矿泉水</th>\n",
       "      <td>4</td>\n",
       "      <td>6</td>\n",
       "    </tr>\n",
       "    <tr>\n",
       "      <th>碳酸饮料</th>\n",
       "      <td>9</td>\n",
       "      <td>6</td>\n",
       "    </tr>\n",
       "    <tr>\n",
       "      <th>绿茶</th>\n",
       "      <td>4</td>\n",
       "      <td>7</td>\n",
       "    </tr>\n",
       "  </tbody>\n",
       "</table>\n",
       "</div>"
      ],
      "text/plain": [
       "     count   \n",
       "顾客性别     女  男\n",
       "饮料类型         \n",
       "其他       6  2\n",
       "果汁       5  1\n",
       "矿泉水      4  6\n",
       "碳酸饮料     9  6\n",
       "绿茶       4  7"
      ]
     },
     "execution_count": 13,
     "metadata": {},
     "output_type": "execute_result"
    }
   ],
   "source": [
    "#频数分布表\n",
    "countTable = pd.pivot_table(data3,values=['饮料类型','顾客性别'],index=['饮料类型'],columns=['顾客性别'],aggfunc='count')\n",
    "countTable"
   ]
  },
  {
   "cell_type": "markdown",
   "metadata": {},
   "source": [
    "#### 分类数据的图示"
   ]
  },
  {
   "cell_type": "code",
   "execution_count": 14,
   "metadata": {},
   "outputs": [
    {
     "data": {
      "text/plain": [
       "碳酸饮料    15\n",
       "绿茶      11\n",
       "矿泉水     10\n",
       "其他       8\n",
       "果汁       6\n",
       "Name: 饮料类型, dtype: int64"
      ]
     },
     "execution_count": 14,
     "metadata": {},
     "output_type": "execute_result"
    }
   ],
   "source": [
    "drinkTable = data3.饮料类型.value_counts()\n",
    "drinkTable"
   ]
  },
  {
   "cell_type": "code",
   "execution_count": 15,
   "metadata": {},
   "outputs": [
    {
     "data": {
      "image/png": "[encoded data removed]",
      "text/plain": [
       "<Figure size 432x288 with 1 Axes>"
      ]
     },
     "metadata": {
      "needs_background": "light"
     },
     "output_type": "display_data"
    }
   ],
   "source": [
    "#条形图\n",
    "# 将全局的字体设置为黑体\n",
    "plt.rcParams['font.family'] = 'SimHei'\n",
    "# 绘图 x x轴， height 高度, 默认：c|olor=\"blue\", width=0.8\n",
    "p1 = plt.bar(range(len(drinkTable)), height=drinkTable.values, width=0.5,tick_label=drinkTable.index)\n",
    "# 展示图形\n",
    "plt.show()"
   ]
  },
  {
   "cell_type": "markdown",
   "metadata": {},
   "source": [
    "bar说明  \n",
    "参数\t说明\t类型  \n",
    "x\tx坐标\tint,float  \n",
    "height\t条形的高度\tint,float  \n",
    "width\t宽度\t0~1，默认0.8  \n",
    "botton\t条形的起始位置\t也是y轴的起始坐标  \n",
    "align\t条形的中心位置\t“center”,\"lege\"边缘  \n",
    "color\t条形的颜色\t“r\",\"b\",\"g\",\"#123465\"，默认“b\"  \n",
    "edgecolor\t边框的颜色\t同上  \n",
    "linewidth\t边框的宽度\t像素，默认无，int  \n",
    "tick_label\t下标的标签\t可以是元组类型的字符组合  \n",
    "log\ty轴使用科学计算法表示\tbool   \n",
    "orientation\t是竖直条还是水平条\t竖直：\"vertical\"，水平条：\"horizontal\"  "
   ]
  },
  {
   "cell_type": "code",
   "execution_count": 16,
   "metadata": {},
   "outputs": [
    {
     "data": {
      "text/html": [
       "<div>\n",
       "<style scoped>\n",
       "    .dataframe tbody tr th:only-of-type {\n",
       "        vertical-align: middle;\n",
       "    }\n",
       "\n",
       "    .dataframe tbody tr th {\n",
       "        vertical-align: top;\n",
       "    }\n",
       "\n",
       "    .dataframe thead tr th {\n",
       "        text-align: left;\n",
       "    }\n",
       "\n",
       "    .dataframe thead tr:last-of-type th {\n",
       "        text-align: right;\n",
       "    }\n",
       "</style>\n",
       "<table border=\"1\" class=\"dataframe\">\n",
       "  <thead>\n",
       "    <tr>\n",
       "      <th></th>\n",
       "      <th colspan=\"2\" halign=\"left\">count</th>\n",
       "    </tr>\n",
       "    <tr>\n",
       "      <th>顾客性别</th>\n",
       "      <th>女</th>\n",
       "      <th>男</th>\n",
       "    </tr>\n",
       "    <tr>\n",
       "      <th>饮料类型</th>\n",
       "      <th></th>\n",
       "      <th></th>\n",
       "    </tr>\n",
       "  </thead>\n",
       "  <tbody>\n",
       "    <tr>\n",
       "      <th>其他</th>\n",
       "      <td>6</td>\n",
       "      <td>2</td>\n",
       "    </tr>\n",
       "    <tr>\n",
       "      <th>果汁</th>\n",
       "      <td>5</td>\n",
       "      <td>1</td>\n",
       "    </tr>\n",
       "    <tr>\n",
       "      <th>矿泉水</th>\n",
       "      <td>4</td>\n",
       "      <td>6</td>\n",
       "    </tr>\n",
       "    <tr>\n",
       "      <th>碳酸饮料</th>\n",
       "      <td>9</td>\n",
       "      <td>6</td>\n",
       "    </tr>\n",
       "    <tr>\n",
       "      <th>绿茶</th>\n",
       "      <td>4</td>\n",
       "      <td>7</td>\n",
       "    </tr>\n",
       "  </tbody>\n",
       "</table>\n",
       "</div>"
      ],
      "text/plain": [
       "     count   \n",
       "顾客性别     女  男\n",
       "饮料类型         \n",
       "其他       6  2\n",
       "果汁       5  1\n",
       "矿泉水      4  6\n",
       "碳酸饮料     9  6\n",
       "绿茶       4  7"
      ]
     },
     "execution_count": 16,
     "metadata": {},
     "output_type": "execute_result"
    }
   ],
   "source": [
    "countTable"
   ]
  },
  {
   "cell_type": "code",
   "execution_count": 17,
   "metadata": {},
   "outputs": [
    {
     "data": {
      "image/png": "[encoded data removed]",
      "text/plain": [
       "<Figure size 432x288 with 1 Axes>"
      ]
     },
     "metadata": {
      "needs_background": "light"
     },
     "output_type": "display_data"
    }
   ],
   "source": [
    "p1 = plt.bar(range(len(countTable)), height=countTable.values[:,0], width=0.5,tick_label=countTable.index)\n",
    "p2 = plt.bar(range(len(countTable)), height=countTable.values[:,1], width=0.5,tick_label=countTable.index)"
   ]
  },
  {
   "cell_type": "code",
   "execution_count": 18,
   "metadata": {},
   "outputs": [
    {
     "data": {
      "text/plain": [
       "<matplotlib.legend.Legend at 0x1b4b3121a58>"
      ]
     },
     "execution_count": 18,
     "metadata": {},
     "output_type": "execute_result"
    },
    {
     "data": {
      "image/png": "[encoded data removed]",
      "text/plain": [
       "<Figure size 432x288 with 1 Axes>"
      ]
     },
     "metadata": {
      "needs_background": "light"
     },
     "output_type": "display_data"
    }
   ],
   "source": [
    "length = range(len(countTable))\n",
    "p1 = plt.bar(length, height=countTable.values[:,0], width=0.3,tick_label=countTable.index,label='女')\n",
    "p2 = plt.bar(np.arange(len(countTable))+0.3, height=countTable.values[:,1], width=0.3,tick_label=countTable.index, align=\"center\",label='男')\n",
    "# 展示图形\n",
    "plt.legend()"
   ]
  },
  {
   "cell_type": "code",
   "execution_count": 19,
   "metadata": {},
   "outputs": [
    {
     "name": "stdout",
     "output_type": "stream",
     "text": [
      "[0.1, 0, 0, 0, 0]\n"
     ]
    },
    {
     "data": {
      "text/plain": [
       "([<matplotlib.patches.Wedge at 0x1b4b31a39e8>,\n",
       "  <matplotlib.patches.Wedge at 0x1b4b31b1390>,\n",
       "  <matplotlib.patches.Wedge at 0x1b4b31b1cc0>,\n",
       "  <matplotlib.patches.Wedge at 0x1b4b31be630>,\n",
       "  <matplotlib.patches.Wedge at 0x1b4b31bef60>],\n",
       " [Text(0.7053422663930613, 0.9708204196655013, '碳酸饮料'),\n",
       "  Text(-0.9287607599924327, 0.5894094083896856, '绿茶'),\n",
       "  Text(-0.8018654323526336, -0.7530018780839288, '矿泉水'),\n",
       "  Text(0.33991877217145827, -1.046162142464278, '其他'),\n",
       "  Text(1.0227541568457088, -0.40493695145642544, '果汁')],\n",
       " [Text(0.41144965539595235, 0.5663119114715424, '30.00%'),\n",
       "  Text(-0.5065967781776904, 0.3214960409398285, '22.00%'),\n",
       "  Text(-0.43738114491961827, -0.4107282971366884, '20.00%'),\n",
       "  Text(0.18541023936624995, -0.5706338958896061, '16.00%'),\n",
       "  Text(0.5578659037340229, -0.22087470079441385, '12.00%')])"
      ]
     },
     "execution_count": 19,
     "metadata": {},
     "output_type": "execute_result"
    },
    {
     "data": {
      "image/png": "[encoded data removed]",
      "text/plain": [
       "<Figure size 432x288 with 1 Axes>"
      ]
     },
     "metadata": {},
     "output_type": "display_data"
    }
   ],
   "source": [
    "explode = [0.1,0,0,0,0]\n",
    "print(explode)\n",
    "colors=['red', 'pink', 'magenta','purple','orange']\n",
    "plt.pie(drinkTable,labels=drinkTable.index,explode=explode, shadow=True, autopct=\"%0.2f%%\")"
   ]
  },
  {
   "cell_type": "markdown",
   "metadata": {},
   "source": [
    "plt.pie(x = data, # 绘图数据  \n",
    "    labels=labels, # 添加编程语言标签  \n",
    "    explode=explode, # 突出显示Python  \n",
    "    colors=colors, # 设置饼图的自定义填充色  \n",
    "    autopct='%.3f%%', # 设置百分比的格式，此处保留3位小数  \n",
    "    pctdistance=0.8,  # 设置百分比标签与圆心的距离  \n",
    "    labeldistance = 1.15, # 设置标签与圆心的距离  \n",
    "    startangle = 180, # 设置饼图的初始角度  \n",
    "    center = (4, 4), # 设置饼图的圆心（相当于X轴和Y轴的范围）  \n",
    "    radius = 3.8, # 设置饼图的半径（相当于X轴和Y轴的范围）  \n",
    "    counterclock = False, # 是否逆时针，这里设置为顺时针方向  \n",
    "    wedgeprops = {'linewidth': 1, 'edgecolor':'green'},# 设置饼图内外边界的属性值  \n",
    "    textprops = {'fontsize':12, 'color':'black'}, # 设置文本标签的属性值  \n",
    "    frame = 1) # 是否显示饼图的圆圈，此处设为显示  "
   ]
  },
  {
   "cell_type": "code",
   "execution_count": 20,
   "metadata": {},
   "outputs": [
    {
     "data": {
      "text/plain": [
       "Text(0.5, 1.0, '女饮料占比')"
      ]
     },
     "execution_count": 20,
     "metadata": {},
     "output_type": "execute_result"
    },
    {
     "data": {
      "image/png": "[encoded data removed]",
      "text/plain": [
       "<Figure size 432x288 with 1 Axes>"
      ]
     },
     "metadata": {},
     "output_type": "display_data"
    }
   ],
   "source": [
    "plt.pie(countTable.values[:,0],startangle=90,autopct='%1.1f%%',colors=colors,radius=1.5,pctdistance = 0.9, labels=countTable.index)\n",
    "plt.title('女饮料占比')"
   ]
  },
  {
   "cell_type": "code",
   "execution_count": 21,
   "metadata": {},
   "outputs": [
    {
     "data": {
      "text/plain": [
       "Text(0.5, 1.0, '男饮料占比')"
      ]
     },
     "execution_count": 21,
     "metadata": {},
     "output_type": "execute_result"
    },
    {
     "data": {
      "image/png": "[encoded data removed]",
      "text/plain": [
       "<Figure size 432x288 with 1 Axes>"
      ]
     },
     "metadata": {},
     "output_type": "display_data"
    }
   ],
   "source": [
    "plt.pie(countTable.values[:,1],startangle=90,autopct='%1.1f%%',colors=colors,radius=1.5,pctdistance = 0.9, labels=countTable.index)\n",
    "plt.title('男饮料占比')"
   ]
  },
  {
   "cell_type": "code",
   "execution_count": 22,
   "metadata": {},
   "outputs": [
    {
     "data": {
      "text/plain": [
       "[None]"
      ]
     },
     "execution_count": 22,
     "metadata": {},
     "output_type": "execute_result"
    },
    {
     "data": {
      "image/png": "[encoded data removed]",
      "text/plain": [
       "<Figure size 432x288 with 1 Axes>"
      ]
     },
     "metadata": {},
     "output_type": "display_data"
    }
   ],
   "source": [
    "fig,ax = plt.subplots()\n",
    "pie_1 = ax.pie(countTable.values[:,0],startangle=90,autopct='%1.1f%%',colors=colors,radius=1.5,pctdistance = 0.9, labels=countTable.index)\n",
    "pie_2 = ax.pie(countTable.values[:,1],startangle=90,autopct='%1.1f%%',colors=colors,radius=1.2,pctdistance = 0.6)\n",
    " \n",
    "#添加多重饼图的分割线\n",
    "for pie_wedge in pie_1[0]:\n",
    "    pie_wedge.set_edgecolor('black')\n",
    "for pie_wedge in pie_2[0]:\n",
    "    pie_wedge.set_edgecolor('black')\n",
    "ax.set(aspect=\"equal\")"
   ]
  },
  {
   "cell_type": "markdown",
   "metadata": {},
   "source": [
    "### 数值型数据"
   ]
  },
  {
   "cell_type": "code",
   "execution_count": 23,
   "metadata": {},
   "outputs": [
    {
     "data": {
      "text/plain": [
       "array([234, 143, 187, 161, 150, 228, 153, 166, 154, 174, 156, 203, 159,\n",
       "       198, 160, 152, 161, 162, 163, 196, 164, 226, 165, 165, 187, 141,\n",
       "       214, 149, 178, 223, 218, 179, 215, 180, 175, 196, 155, 167, 168,\n",
       "       211, 168, 170, 180, 171, 233, 172, 210, 172, 172, 194, 173, 196,\n",
       "       174, 165, 175, 233, 175, 190, 207, 176, 183, 225, 178, 234, 153,\n",
       "       179, 144, 179, 188, 172, 181, 182, 182, 177, 184, 185, 186, 186,\n",
       "       178, 187, 237, 187, 205, 188, 177, 189, 209, 189, 190, 175, 191,\n",
       "       173, 194, 189, 195, 195, 163, 196, 176, 196, 160, 197, 197, 174,\n",
       "       198, 200, 201, 202, 158, 203, 188, 206, 171, 208, 192, 210, 168,\n",
       "       211, 172, 213], dtype=int64)"
      ]
     },
     "execution_count": 23,
     "metadata": {},
     "output_type": "execute_result"
    }
   ],
   "source": [
    "dataSource4 = pd.read_excel('./data/例3.6.xlsx',header=0)\n",
    "data4 = dataSource4.values[:,0]\n",
    "data4"
   ]
  },
  {
   "cell_type": "code",
   "execution_count": 24,
   "metadata": {},
   "outputs": [
    {
     "data": {
      "text/plain": [
       "[(230, 240], (140, 150], (180, 190], (160, 170], (140, 150], ..., (200, 210], (160, 170], (210, 220], (170, 180], (210, 220]]\n",
       "Length: 120\n",
       "Categories (10, interval[int64]): [(140, 150] < (150, 160] < (160, 170] < (170, 180] ... (200, 210] < (210, 220] < (220, 230] < (230, 240]]"
      ]
     },
     "execution_count": 24,
     "metadata": {},
     "output_type": "execute_result"
    }
   ],
   "source": [
    "bins = np.arange(140,250,10)\n",
    "score_cut = pd.cut(data4,bins =  bins.tolist())\n",
    "score_cut "
   ]
  },
  {
   "cell_type": "code",
   "execution_count": 25,
   "metadata": {},
   "outputs": [
    {
     "data": {
      "text/plain": [
       "(140, 150]     5\n",
       "(150, 160]    10\n",
       "(160, 170]    15\n",
       "(170, 180]    28\n",
       "(180, 190]    20\n",
       "(190, 200]    16\n",
       "(200, 210]    11\n",
       "(210, 220]     6\n",
       "(220, 230]     4\n",
       "(230, 240]     5\n",
       "dtype: int64"
      ]
     },
     "execution_count": 25,
     "metadata": {},
     "output_type": "execute_result"
    }
   ],
   "source": [
    "pd.value_counts(score_cut,sort=False)"
   ]
  },
  {
   "cell_type": "markdown",
   "metadata": {},
   "source": [
    "#### 数据分组(直方图)"
   ]
  },
  {
   "cell_type": "code",
   "execution_count": 26,
   "metadata": {},
   "outputs": [
    {
     "data": {
      "image/png": "[encoded data removed]",
      "text/plain": [
       "<Figure size 1600x640 with 1 Axes>"
      ]
     },
     "metadata": {
      "needs_background": "light"
     },
     "output_type": "display_data"
    }
   ],
   "source": [
    "plt.figure(figsize=(20, 8), dpi=80) # 设置图片大小\n",
    "plt.hist(data4, bins,label=score_cut) # 加上normed=True属性之后变为频率分布直方图\n",
    "# 设置x轴的刻度\n",
    "plt.xticks(bins)\n",
    "plt.grid(alpha=0.3)\n",
    "plt.show()"
   ]
  },
  {
   "cell_type": "markdown",
   "metadata": {},
   "source": [
    "x : (n,) array or sequence of (n,) arrays(可以是一个array也可以是多个array)\n",
    "\n",
    "integer or array_like or ‘auto’, optional(可以是整型来设置箱子的宽度,也可以是array,指定每个箱子的宽度)\n",
    "\n",
    "range : tuple or None, optional(设置显示的范围,范围之外的将被舍弃)\n",
    "\n",
    "normed : boolean, optional(?)是否将得到的直方图向量归一化\n",
    "normed=True表示正则化直方图，即归一化（即求频率）\n",
    "\n",
    "weights : (n, ) array_like or None, optional(?)\n",
    "\n",
    "cumulative : boolean, optional(?)\n",
    "\n",
    "bottom : array_like, scalar, or None(?)\n",
    "\n",
    "histtype : {‘bar’, ‘barstacked’, ‘step’, ‘stepfilled’}, optional(选择展示的类型,默认为bar)\n",
    "\n",
    "align : {‘left’, ‘mid’, ‘right’}, optional(对齐方式)\n",
    "\n",
    "orientation : {‘horizontal’, ‘vertical’}, optional(直方图方向)\n",
    "\n",
    "log : boolean, optional(log刻度)\n",
    "\n",
    "color : color or array_like of colors or None, optional(颜色设置)\n",
    "\n",
    "label : string or None, optional(刻度标签)\n",
    "\n",
    "stacked : boolean, optional(?)\n",
    "\n",
    "alpha 透明度"
   ]
  },
  {
   "cell_type": "markdown",
   "metadata": {},
   "source": [
    "#### 未数据分组(箱线图)"
   ]
  },
  {
   "cell_type": "code",
   "execution_count": 27,
   "metadata": {},
   "outputs": [
    {
     "data": {
      "image/png": "[encoded data removed]",
      "text/plain": [
       "<Figure size 432x288 with 1 Axes>"
      ]
     },
     "metadata": {
      "needs_background": "light"
     },
     "output_type": "display_data"
    }
   ],
   "source": [
    "dataSource4.boxplot(sym = '*',vert=False)\n",
    "plt.show()"
   ]
  },
  {
   "cell_type": "markdown",
   "metadata": {},
   "source": [
    "f = df.boxplot(sym = 'o',  # 异常点形状，参考marker  \n",
    "               vert = True,  # 是否垂直  \n",
    "               whis = 1.5,  # IQR，默认1.5，也可以设置区间比如[5,95]，代表强制上下边缘为数据95%和5%位置  \n",
    "               patch_artist = True,  # 上下四分位框内是否填充，True为填充  \n",
    "               meanline = False,showmeans=True,  # 是否有均值线及其形状  \n",
    "               showbox = True,  # 是否显示箱线  \n",
    "               showcaps = True,  # 是否显示边缘线  \n",
    "               showfliers = True,  # 是否显示异常值  \n",
    "               notch = False,  # 中间箱体是否缺口  \n",
    "               return_type='dict'  # 返回类型为字典  \n",
    "              ) "
   ]
  },
  {
   "cell_type": "code",
   "execution_count": 28,
   "metadata": {},
   "outputs": [],
   "source": [
    "data5 = pd.read_excel('./data/例3.7.xlsx',header=1,index_col=1).drop(['名称'],axis=1)"
   ]
  },
  {
   "cell_type": "code",
   "execution_count": 29,
   "metadata": {},
   "outputs": [
    {
     "data": {
      "text/html": [
       "<div>\n",
       "<style scoped>\n",
       "    .dataframe tbody tr th:only-of-type {\n",
       "        vertical-align: middle;\n",
       "    }\n",
       "\n",
       "    .dataframe tbody tr th {\n",
       "        vertical-align: top;\n",
       "    }\n",
       "\n",
       "    .dataframe thead th {\n",
       "        text-align: right;\n",
       "    }\n",
       "</style>\n",
       "<table border=\"1\" class=\"dataframe\">\n",
       "  <thead>\n",
       "    <tr style=\"text-align: right;\">\n",
       "      <th></th>\n",
       "      <th>1</th>\n",
       "      <th>2</th>\n",
       "      <th>3</th>\n",
       "      <th>4</th>\n",
       "      <th>5</th>\n",
       "      <th>6</th>\n",
       "      <th>7</th>\n",
       "      <th>8</th>\n",
       "      <th>9</th>\n",
       "      <th>10</th>\n",
       "      <th>11</th>\n",
       "    </tr>\n",
       "    <tr>\n",
       "      <th>课程名称</th>\n",
       "      <th></th>\n",
       "      <th></th>\n",
       "      <th></th>\n",
       "      <th></th>\n",
       "      <th></th>\n",
       "      <th></th>\n",
       "      <th></th>\n",
       "      <th></th>\n",
       "      <th></th>\n",
       "      <th></th>\n",
       "      <th></th>\n",
       "    </tr>\n",
       "  </thead>\n",
       "  <tbody>\n",
       "    <tr>\n",
       "      <th>英语</th>\n",
       "      <td>76</td>\n",
       "      <td>90</td>\n",
       "      <td>97</td>\n",
       "      <td>71</td>\n",
       "      <td>70</td>\n",
       "      <td>93</td>\n",
       "      <td>86</td>\n",
       "      <td>83</td>\n",
       "      <td>78</td>\n",
       "      <td>85</td>\n",
       "      <td>81</td>\n",
       "    </tr>\n",
       "    <tr>\n",
       "      <th>经济数学</th>\n",
       "      <td>65</td>\n",
       "      <td>95</td>\n",
       "      <td>51</td>\n",
       "      <td>74</td>\n",
       "      <td>78</td>\n",
       "      <td>63</td>\n",
       "      <td>91</td>\n",
       "      <td>82</td>\n",
       "      <td>75</td>\n",
       "      <td>71</td>\n",
       "      <td>55</td>\n",
       "    </tr>\n",
       "    <tr>\n",
       "      <th>西方经济学</th>\n",
       "      <td>93</td>\n",
       "      <td>81</td>\n",
       "      <td>76</td>\n",
       "      <td>88</td>\n",
       "      <td>66</td>\n",
       "      <td>79</td>\n",
       "      <td>83</td>\n",
       "      <td>92</td>\n",
       "      <td>78</td>\n",
       "      <td>86</td>\n",
       "      <td>78</td>\n",
       "    </tr>\n",
       "    <tr>\n",
       "      <th>市场营销学</th>\n",
       "      <td>74</td>\n",
       "      <td>87</td>\n",
       "      <td>85</td>\n",
       "      <td>69</td>\n",
       "      <td>90</td>\n",
       "      <td>80</td>\n",
       "      <td>77</td>\n",
       "      <td>84</td>\n",
       "      <td>91</td>\n",
       "      <td>74</td>\n",
       "      <td>70</td>\n",
       "    </tr>\n",
       "    <tr>\n",
       "      <th>财务管理</th>\n",
       "      <td>68</td>\n",
       "      <td>75</td>\n",
       "      <td>70</td>\n",
       "      <td>84</td>\n",
       "      <td>73</td>\n",
       "      <td>60</td>\n",
       "      <td>76</td>\n",
       "      <td>81</td>\n",
       "      <td>88</td>\n",
       "      <td>68</td>\n",
       "      <td>75</td>\n",
       "    </tr>\n",
       "    <tr>\n",
       "      <th>基础会计学</th>\n",
       "      <td>70</td>\n",
       "      <td>73</td>\n",
       "      <td>92</td>\n",
       "      <td>65</td>\n",
       "      <td>78</td>\n",
       "      <td>87</td>\n",
       "      <td>90</td>\n",
       "      <td>70</td>\n",
       "      <td>66</td>\n",
       "      <td>79</td>\n",
       "      <td>68</td>\n",
       "    </tr>\n",
       "    <tr>\n",
       "      <th>统计学</th>\n",
       "      <td>55</td>\n",
       "      <td>91</td>\n",
       "      <td>68</td>\n",
       "      <td>73</td>\n",
       "      <td>84</td>\n",
       "      <td>81</td>\n",
       "      <td>70</td>\n",
       "      <td>69</td>\n",
       "      <td>94</td>\n",
       "      <td>62</td>\n",
       "      <td>71</td>\n",
       "    </tr>\n",
       "    <tr>\n",
       "      <th>计算机应用基础</th>\n",
       "      <td>85</td>\n",
       "      <td>78</td>\n",
       "      <td>81</td>\n",
       "      <td>95</td>\n",
       "      <td>70</td>\n",
       "      <td>67</td>\n",
       "      <td>82</td>\n",
       "      <td>72</td>\n",
       "      <td>80</td>\n",
       "      <td>81</td>\n",
       "      <td>77</td>\n",
       "    </tr>\n",
       "  </tbody>\n",
       "</table>\n",
       "</div>"
      ],
      "text/plain": [
       "         1   2   3   4   5   6   7   8   9   10  11\n",
       "课程名称                                               \n",
       "英语       76  90  97  71  70  93  86  83  78  85  81\n",
       "经济数学     65  95  51  74  78  63  91  82  75  71  55\n",
       "西方经济学    93  81  76  88  66  79  83  92  78  86  78\n",
       "市场营销学    74  87  85  69  90  80  77  84  91  74  70\n",
       "财务管理     68  75  70  84  73  60  76  81  88  68  75\n",
       "基础会计学    70  73  92  65  78  87  90  70  66  79  68\n",
       "统计学      55  91  68  73  84  81  70  69  94  62  71\n",
       "计算机应用基础  85  78  81  95  70  67  82  72  80  81  77"
      ]
     },
     "execution_count": 29,
     "metadata": {},
     "output_type": "execute_result"
    }
   ],
   "source": [
    "data5.head(10)"
   ]
  },
  {
   "cell_type": "code",
   "execution_count": 30,
   "metadata": {},
   "outputs": [
    {
     "data": {
      "text/plain": [
       "<matplotlib.axes._subplots.AxesSubplot at 0x1b4b33fef98>"
      ]
     },
     "execution_count": 30,
     "metadata": {},
     "output_type": "execute_result"
    },
    {
     "data": {
      "image/png": "[encoded data removed]",
      "text/plain": [
       "<Figure size 432x288 with 1 Axes>"
      ]
     },
     "metadata": {
      "needs_background": "light"
     },
     "output_type": "display_data"
    }
   ],
   "source": [
    "data5.T.boxplot()"
   ]
  },
  {
   "cell_type": "code",
   "execution_count": 31,
   "metadata": {},
   "outputs": [
    {
     "data": {
      "text/plain": [
       "<matplotlib.axes._subplots.AxesSubplot at 0x1b4b342c710>"
      ]
     },
     "execution_count": 31,
     "metadata": {},
     "output_type": "execute_result"
    },
    {
     "data": {
      "image/png": "[encoded data removed]",
      "text/plain": [
       "<Figure size 432x288 with 1 Axes>"
      ]
     },
     "metadata": {
      "needs_background": "light"
     },
     "output_type": "display_data"
    }
   ],
   "source": [
    "data5.boxplot()"
   ]
  },
  {
   "cell_type": "markdown",
   "metadata": {},
   "source": [
    "#### 时间序列数据（线图）"
   ]
  },
  {
   "cell_type": "code",
   "execution_count": 32,
   "metadata": {},
   "outputs": [],
   "source": [
    "data6 = pd.read_excel('./data/例3.8.xlsx',header=0,index_col=0)"
   ]
  },
  {
   "cell_type": "code",
   "execution_count": 33,
   "metadata": {},
   "outputs": [
    {
     "data": {
      "text/html": [
       "<div>\n",
       "<style scoped>\n",
       "    .dataframe tbody tr th:only-of-type {\n",
       "        vertical-align: middle;\n",
       "    }\n",
       "\n",
       "    .dataframe tbody tr th {\n",
       "        vertical-align: top;\n",
       "    }\n",
       "\n",
       "    .dataframe thead th {\n",
       "        text-align: right;\n",
       "    }\n",
       "</style>\n",
       "<table border=\"1\" class=\"dataframe\">\n",
       "  <thead>\n",
       "    <tr style=\"text-align: right;\">\n",
       "      <th></th>\n",
       "      <th>农村城镇消费水平</th>\n",
       "      <th>城镇居民消费水平</th>\n",
       "    </tr>\n",
       "    <tr>\n",
       "      <th>年份</th>\n",
       "      <th></th>\n",
       "      <th></th>\n",
       "    </tr>\n",
       "  </thead>\n",
       "  <tbody>\n",
       "    <tr>\n",
       "      <th>2006</th>\n",
       "      <td>3066</td>\n",
       "      <td>10739</td>\n",
       "    </tr>\n",
       "    <tr>\n",
       "      <th>2007</th>\n",
       "      <td>3538</td>\n",
       "      <td>12480</td>\n",
       "    </tr>\n",
       "    <tr>\n",
       "      <th>2008</th>\n",
       "      <td>4065</td>\n",
       "      <td>14061</td>\n",
       "    </tr>\n",
       "    <tr>\n",
       "      <th>2009</th>\n",
       "      <td>4402</td>\n",
       "      <td>15127</td>\n",
       "    </tr>\n",
       "    <tr>\n",
       "      <th>2010</th>\n",
       "      <td>4941</td>\n",
       "      <td>17104</td>\n",
       "    </tr>\n",
       "  </tbody>\n",
       "</table>\n",
       "</div>"
      ],
      "text/plain": [
       "      农村城镇消费水平  城镇居民消费水平\n",
       "年份                      \n",
       "2006      3066     10739\n",
       "2007      3538     12480\n",
       "2008      4065     14061\n",
       "2009      4402     15127\n",
       "2010      4941     17104"
      ]
     },
     "execution_count": 33,
     "metadata": {},
     "output_type": "execute_result"
    }
   ],
   "source": [
    "data6.head()"
   ]
  },
  {
   "cell_type": "code",
   "execution_count": 34,
   "metadata": {},
   "outputs": [
    {
     "data": {
      "text/plain": [
       "Text(0.5, 1.0, '居民消费水平')"
      ]
     },
     "execution_count": 34,
     "metadata": {},
     "output_type": "execute_result"
    },
    {
     "data": {
      "image/png": "[encoded data removed]",
      "text/plain": [
       "<Figure size 432x288 with 1 Axes>"
      ]
     },
     "metadata": {
      "needs_background": "light"
     },
     "output_type": "display_data"
    }
   ],
   "source": [
    "plt.plot(data6.index,data6.values[:,0], 'r.-',label='农村')\n",
    "plt.plot(data6.index,data6.values[:,1], 'b.-',label='城镇')\n",
    "plt.legend()\n",
    "plt.title(\"居民消费水平\")"
   ]
  },
  {
   "cell_type": "markdown",
   "metadata": {},
   "source": [
    "#### 多变量数据展示\n",
    "##### 散点图"
   ]
  },
  {
   "cell_type": "code",
   "execution_count": 35,
   "metadata": {},
   "outputs": [],
   "source": [
    "data7 = pd.read_excel('./data/例3.9.xlsx',header=0,index_col=0)"
   ]
  },
  {
   "cell_type": "code",
   "execution_count": 43,
   "metadata": {},
   "outputs": [
    {
     "data": {
      "text/html": [
       "<div>\n",
       "<style scoped>\n",
       "    .dataframe tbody tr th:only-of-type {\n",
       "        vertical-align: middle;\n",
       "    }\n",
       "\n",
       "    .dataframe tbody tr th {\n",
       "        vertical-align: top;\n",
       "    }\n",
       "\n",
       "    .dataframe thead th {\n",
       "        text-align: right;\n",
       "    }\n",
       "</style>\n",
       "<table border=\"1\" class=\"dataframe\">\n",
       "  <thead>\n",
       "    <tr style=\"text-align: right;\">\n",
       "      <th></th>\n",
       "      <th>降雨量</th>\n",
       "      <th>产量</th>\n",
       "    </tr>\n",
       "    <tr>\n",
       "      <th>温度</th>\n",
       "      <th></th>\n",
       "      <th></th>\n",
       "    </tr>\n",
       "  </thead>\n",
       "  <tbody>\n",
       "    <tr>\n",
       "      <th>6</th>\n",
       "      <td>25</td>\n",
       "      <td>2250</td>\n",
       "    </tr>\n",
       "    <tr>\n",
       "      <th>8</th>\n",
       "      <td>40</td>\n",
       "      <td>3450</td>\n",
       "    </tr>\n",
       "    <tr>\n",
       "      <th>10</th>\n",
       "      <td>58</td>\n",
       "      <td>4500</td>\n",
       "    </tr>\n",
       "    <tr>\n",
       "      <th>13</th>\n",
       "      <td>68</td>\n",
       "      <td>5750</td>\n",
       "    </tr>\n",
       "    <tr>\n",
       "      <th>14</th>\n",
       "      <td>110</td>\n",
       "      <td>5800</td>\n",
       "    </tr>\n",
       "  </tbody>\n",
       "</table>\n",
       "</div>"
      ],
      "text/plain": [
       "    降雨量    产量\n",
       "温度           \n",
       "6    25  2250\n",
       "8    40  3450\n",
       "10   58  4500\n",
       "13   68  5750\n",
       "14  110  5800"
      ]
     },
     "execution_count": 43,
     "metadata": {},
     "output_type": "execute_result"
    }
   ],
   "source": [
    "data7.head()"
   ]
  },
  {
   "cell_type": "code",
   "execution_count": 44,
   "metadata": {},
   "outputs": [
    {
     "data": {
      "text/plain": [
       "<matplotlib.collections.PathCollection at 0x1b4b3657ac8>"
      ]
     },
     "execution_count": 44,
     "metadata": {},
     "output_type": "execute_result"
    },
    {
     "data": {
      "image/png": "[encoded data removed]",
      "text/plain": [
       "<Figure size 432x288 with 1 Axes>"
      ]
     },
     "metadata": {
      "needs_background": "light"
     },
     "output_type": "display_data"
    }
   ],
   "source": [
    "plt.scatter(data7.index, data7.values[:,1])"
   ]
  },
  {
   "cell_type": "markdown",
   "metadata": {},
   "source": [
    "##### 气泡图"
   ]
  },
  {
   "cell_type": "code",
   "execution_count": 38,
   "metadata": {},
   "outputs": [
    {
     "data": {
      "text/plain": [
       "<matplotlib.collections.PathCollection at 0x1b4b35a9940>"
      ]
     },
     "execution_count": 38,
     "metadata": {},
     "output_type": "execute_result"
    },
    {
     "data": {
      "image/png": "[encoded data removed]",
      "text/plain": [
       "<Figure size 432x288 with 1 Axes>"
      ]
     },
     "metadata": {
      "needs_background": "light"
     },
     "output_type": "display_data"
    }
   ],
   "source": [
    "size =  data7.values[:,0]\n",
    "plt.scatter(data7.index, size,s=np.power(size, 2))"
   ]
  },
  {
   "cell_type": "markdown",
   "metadata": {},
   "source": [
    "##### 雷达图"
   ]
  },
  {
   "cell_type": "code",
   "execution_count": 39,
   "metadata": {},
   "outputs": [],
   "source": [
    "data8 = pd.read_excel('./data/例3.4.xlsx',header=1,index_col=0)"
   ]
  },
  {
   "cell_type": "code",
   "execution_count": 40,
   "metadata": {},
   "outputs": [
    {
     "data": {
      "text/html": [
       "<div>\n",
       "<style scoped>\n",
       "    .dataframe tbody tr th:only-of-type {\n",
       "        vertical-align: middle;\n",
       "    }\n",
       "\n",
       "    .dataframe tbody tr th {\n",
       "        vertical-align: top;\n",
       "    }\n",
       "\n",
       "    .dataframe thead th {\n",
       "        text-align: right;\n",
       "    }\n",
       "</style>\n",
       "<table border=\"1\" class=\"dataframe\">\n",
       "  <thead>\n",
       "    <tr style=\"text-align: right;\">\n",
       "      <th></th>\n",
       "      <th>食品支出</th>\n",
       "      <th>衣着支出</th>\n",
       "      <th>居住</th>\n",
       "      <th>家庭设备及用品</th>\n",
       "      <th>医疗保健</th>\n",
       "      <th>交通和通信</th>\n",
       "      <th>文教娱乐服务</th>\n",
       "      <th>其他</th>\n",
       "    </tr>\n",
       "    <tr>\n",
       "      <th>地区</th>\n",
       "      <th></th>\n",
       "      <th></th>\n",
       "      <th></th>\n",
       "      <th></th>\n",
       "      <th></th>\n",
       "      <th></th>\n",
       "      <th></th>\n",
       "      <th></th>\n",
       "    </tr>\n",
       "  </thead>\n",
       "  <tbody>\n",
       "    <tr>\n",
       "      <th>北京</th>\n",
       "      <td>7535.3</td>\n",
       "      <td>2638.9</td>\n",
       "      <td>1970.9</td>\n",
       "      <td>1610.7</td>\n",
       "      <td>1658.4</td>\n",
       "      <td>3781.5</td>\n",
       "      <td>3696.0</td>\n",
       "      <td>1154.2</td>\n",
       "    </tr>\n",
       "    <tr>\n",
       "      <th>天津</th>\n",
       "      <td>7343.6</td>\n",
       "      <td>1881.4</td>\n",
       "      <td>1854.2</td>\n",
       "      <td>1151.2</td>\n",
       "      <td>1556.4</td>\n",
       "      <td>3083.4</td>\n",
       "      <td>2254.2</td>\n",
       "      <td>899.9</td>\n",
       "    </tr>\n",
       "    <tr>\n",
       "      <th>上海</th>\n",
       "      <td>9655.6</td>\n",
       "      <td>2111.2</td>\n",
       "      <td>1790.5</td>\n",
       "      <td>1906.5</td>\n",
       "      <td>1016.7</td>\n",
       "      <td>4563.8</td>\n",
       "      <td>3723.7</td>\n",
       "      <td>1485.5</td>\n",
       "    </tr>\n",
       "    <tr>\n",
       "      <th>重庆</th>\n",
       "      <td>6870.2</td>\n",
       "      <td>2228.8</td>\n",
       "      <td>1177.0</td>\n",
       "      <td>1196.0</td>\n",
       "      <td>1101.6</td>\n",
       "      <td>1903.2</td>\n",
       "      <td>1470.6</td>\n",
       "      <td>625.7</td>\n",
       "    </tr>\n",
       "  </tbody>\n",
       "</table>\n",
       "</div>"
      ],
      "text/plain": [
       "      食品支出    衣着支出      居住  家庭设备及用品    医疗保健   交通和通信  文教娱乐服务      其他\n",
       "地区                                                                 \n",
       "北京  7535.3  2638.9  1970.9   1610.7  1658.4  3781.5  3696.0  1154.2\n",
       "天津  7343.6  1881.4  1854.2   1151.2  1556.4  3083.4  2254.2   899.9\n",
       "上海  9655.6  2111.2  1790.5   1906.5  1016.7  4563.8  3723.7  1485.5\n",
       "重庆  6870.2  2228.8  1177.0   1196.0  1101.6  1903.2  1470.6   625.7"
      ]
     },
     "execution_count": 40,
     "metadata": {},
     "output_type": "execute_result"
    }
   ],
   "source": [
    "data8.head()"
   ]
  },
  {
   "cell_type": "code",
   "execution_count": 41,
   "metadata": {
    "scrolled": true
   },
   "outputs": [
    {
     "data": {
      "image/png": "[encoded data removed]",
      "text/plain": [
       "<Figure size 432x288 with 1 Axes>"
      ]
     },
     "metadata": {
      "needs_background": "light"
     },
     "output_type": "display_data"
    }
   ],
   "source": [
    "fig=plt.figure()\n",
    "dataValue = np.array(np.concatenate((data8.values.T, data8['食品支出'].values.reshape(1,4)),axis= 0))\n",
    "angle = np.linspace(0,2*np.pi,len(data8.columns),endpoint=False)\n",
    "angle = np.concatenate((angle,[angle[0]]))  #闭合\n",
    "\n",
    "ax = fig.add_subplot(111, polar=True)# polar参数！！\n",
    "ax.plot(angle, dataValue[:,0], 'r-', linewidth=2)# 画线\n",
    "ax.fill(angle, dataValue[:,0], facecolor='r', alpha=0.25)# 填充\n",
    "\n",
    "ax.plot(angle, dataValue[:,1], 'g-', linewidth=2)# 画线\n",
    "ax.fill(angle, dataValue[:,1], facecolor='g', alpha=0.25)# 填充\n",
    "\n",
    "ax.plot(angle, dataValue[:,2], 'b-', linewidth=2)# 画线\n",
    "ax.fill(angle, dataValue[:,2], facecolor='b', alpha=0.25)# 填充\n",
    "\n",
    "ax.set_thetagrids(angle * 180/np.pi, data8.columns, fontproperties=\"SimHei\")\n",
    "ax.set_title(\"matplotlib雷达图\", va='bottom', fontproperties=\"SimHei\")\n",
    "ax.set_rlim(0,10000)\n",
    "ax.grid(True)\n",
    "plt.show()"
   ]
  }
 ],
 "metadata": {
  "kernelspec": {
   "display_name": "Python 3",
   "language": "python",
   "name": "python3"
  },
  "language_info": {
   "codemirror_mode": {
    "name": "ipython",
    "version": 3
   },
   "file_extension": ".py",
   "mimetype": "text/x-python",
   "name": "python",
   "nbconvert_exporter": "python",
   "pygments_lexer": "ipython3",
   "version": "3.7.3"
  }
 },
 "nbformat": 4,
 "nbformat_minor": 2
}
