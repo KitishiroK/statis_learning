{
 "cells": [
  {
   "cell_type": "code",
   "execution_count": 78,
   "metadata": {},
   "outputs": [],
   "source": [
    "import pandas as pd\n",
    "from pandas import Series, DataFrame\n",
    "import matplotlib.pyplot as plt\n",
    "import numpy as np\n",
    "import scipy.stats as sts\n",
    "# np的方差 是除以n而不是n-1"
   ]
  },
  {
   "cell_type": "markdown",
   "metadata": {},
   "source": [
    "# 数据的概括性度量\n",
    "    \n",
    "![数据的概括性度量](./img/data_general_measure.png)"
   ]
  },
  {
   "cell_type": "markdown",
   "metadata": {},
   "source": [
    "## 集中趋势的度量\n",
    "### 众数"
   ]
  },
  {
   "cell_type": "code",
   "execution_count": 2,
   "metadata": {},
   "outputs": [
    {
     "data": {
      "text/html": [
       "<div>\n",
       "<style scoped>\n",
       "    .dataframe tbody tr th:only-of-type {\n",
       "        vertical-align: middle;\n",
       "    }\n",
       "\n",
       "    .dataframe tbody tr th {\n",
       "        vertical-align: top;\n",
       "    }\n",
       "\n",
       "    .dataframe thead th {\n",
       "        text-align: right;\n",
       "    }\n",
       "</style>\n",
       "<table border=\"1\" class=\"dataframe\">\n",
       "  <thead>\n",
       "    <tr style=\"text-align: right;\">\n",
       "      <th></th>\n",
       "      <th>月收入</th>\n",
       "    </tr>\n",
       "  </thead>\n",
       "  <tbody>\n",
       "    <tr>\n",
       "      <th>0</th>\n",
       "      <td>1080</td>\n",
       "    </tr>\n",
       "    <tr>\n",
       "      <th>1</th>\n",
       "      <td>750</td>\n",
       "    </tr>\n",
       "    <tr>\n",
       "      <th>2</th>\n",
       "      <td>1080</td>\n",
       "    </tr>\n",
       "    <tr>\n",
       "      <th>3</th>\n",
       "      <td>1080</td>\n",
       "    </tr>\n",
       "    <tr>\n",
       "      <th>4</th>\n",
       "      <td>850</td>\n",
       "    </tr>\n",
       "  </tbody>\n",
       "</table>\n",
       "</div>"
      ],
      "text/plain": [
       "    月收入\n",
       "0  1080\n",
       "1   750\n",
       "2  1080\n",
       "3  1080\n",
       "4   850"
      ]
     },
     "execution_count": 2,
     "metadata": {},
     "output_type": "execute_result"
    }
   ],
   "source": [
    "data=pd.read_excel('data/例4.3.xlsx',sep='\\t',header=0)\n",
    "data.head()"
   ]
  },
  {
   "cell_type": "code",
   "execution_count": 3,
   "metadata": {},
   "outputs": [
    {
     "data": {
      "text/plain": [
       "array([1080], dtype=int64)"
      ]
     },
     "execution_count": 3,
     "metadata": {},
     "output_type": "execute_result"
    }
   ],
   "source": [
    "sts.mode(data.values)[0][0]"
   ]
  },
  {
   "cell_type": "markdown",
   "metadata": {},
   "source": [
    "### 中位数"
   ]
  },
  {
   "cell_type": "code",
   "execution_count": 4,
   "metadata": {},
   "outputs": [
    {
     "data": {
      "text/plain": [
       "1080.0"
      ]
     },
     "execution_count": 4,
     "metadata": {},
     "output_type": "execute_result"
    }
   ],
   "source": [
    "np.median(data)"
   ]
  },
  {
   "cell_type": "markdown",
   "metadata": {},
   "source": [
    "### 四分位数"
   ]
  },
  {
   "cell_type": "code",
   "execution_count": 5,
   "metadata": {},
   "outputs": [
    {
     "data": {
      "text/plain": [
       "array([ 960., 1080., 1250.])"
      ]
     },
     "execution_count": 5,
     "metadata": {},
     "output_type": "execute_result"
    }
   ],
   "source": [
    "#下四分 中位数 上四分\n",
    "np.percentile(data, (25, 50, 75), interpolation='midpoint')"
   ]
  },
  {
   "cell_type": "markdown",
   "metadata": {},
   "source": [
    "### 平均数"
   ]
  },
  {
   "cell_type": "code",
   "execution_count": 6,
   "metadata": {},
   "outputs": [
    {
     "data": {
      "text/plain": [
       "月收入    1186.666667\n",
       "dtype: float64"
      ]
     },
     "execution_count": 6,
     "metadata": {},
     "output_type": "execute_result"
    }
   ],
   "source": [
    "dmean = np.mean(data)\n",
    "dmean"
   ]
  },
  {
   "cell_type": "code",
   "execution_count": 7,
   "metadata": {},
   "outputs": [
    {
     "data": {
      "text/html": [
       "<div>\n",
       "<style scoped>\n",
       "    .dataframe tbody tr th:only-of-type {\n",
       "        vertical-align: middle;\n",
       "    }\n",
       "\n",
       "    .dataframe tbody tr th {\n",
       "        vertical-align: top;\n",
       "    }\n",
       "\n",
       "    .dataframe thead th {\n",
       "        text-align: right;\n",
       "    }\n",
       "</style>\n",
       "<table border=\"1\" class=\"dataframe\">\n",
       "  <thead>\n",
       "    <tr style=\"text-align: right;\">\n",
       "      <th></th>\n",
       "      <th>按销售量分组\n",
       "(台)</th>\n",
       "      <th>组中值</th>\n",
       "      <th>频数</th>\n",
       "      <th>Unnamed: 3</th>\n",
       "    </tr>\n",
       "  </thead>\n",
       "  <tbody>\n",
       "    <tr>\n",
       "      <th>1</th>\n",
       "      <td>140~150</td>\n",
       "      <td>145</td>\n",
       "      <td>4.0</td>\n",
       "      <td>580.0</td>\n",
       "    </tr>\n",
       "    <tr>\n",
       "      <th>2</th>\n",
       "      <td>150~160</td>\n",
       "      <td>155</td>\n",
       "      <td>9.0</td>\n",
       "      <td>1395.0</td>\n",
       "    </tr>\n",
       "    <tr>\n",
       "      <th>3</th>\n",
       "      <td>160~170</td>\n",
       "      <td>165</td>\n",
       "      <td>16.0</td>\n",
       "      <td>2640.0</td>\n",
       "    </tr>\n",
       "    <tr>\n",
       "      <th>4</th>\n",
       "      <td>170~180</td>\n",
       "      <td>175</td>\n",
       "      <td>27.0</td>\n",
       "      <td>4725.0</td>\n",
       "    </tr>\n",
       "    <tr>\n",
       "      <th>5</th>\n",
       "      <td>180~190</td>\n",
       "      <td>185</td>\n",
       "      <td>20.0</td>\n",
       "      <td>3700.0</td>\n",
       "    </tr>\n",
       "  </tbody>\n",
       "</table>\n",
       "</div>"
      ],
      "text/plain": [
       "  按销售量分组\\n(台) 组中值\\n  频数\\n  Unnamed: 3\n",
       "1     140~150   145   4.0       580.0\n",
       "2     150~160   155   9.0      1395.0\n",
       "3     160~170   165  16.0      2640.0\n",
       "4     170~180   175  27.0      4725.0\n",
       "5     180~190   185  20.0      3700.0"
      ]
     },
     "execution_count": 7,
     "metadata": {},
     "output_type": "execute_result"
    }
   ],
   "source": [
    "data1=pd.read_excel('data/例4.7.xlsx',sep='\\t',header=0).drop([0],axis=0)\n",
    "data1.head()"
   ]
  },
  {
   "cell_type": "code",
   "execution_count": 8,
   "metadata": {},
   "outputs": [
    {
     "data": {
      "text/plain": [
       "频数\\n            21.818182\n",
       "Unnamed: 3    4036.363636\n",
       "dtype: float64"
      ]
     },
     "execution_count": 8,
     "metadata": {},
     "output_type": "execute_result"
    }
   ],
   "source": [
    "np.mean(data1)"
   ]
  },
  {
   "cell_type": "markdown",
   "metadata": {},
   "source": [
    "### 加权平均数"
   ]
  },
  {
   "cell_type": "code",
   "execution_count": 9,
   "metadata": {},
   "outputs": [
    {
     "data": {
      "text/plain": [
       "185.0"
      ]
     },
     "execution_count": 9,
     "metadata": {},
     "output_type": "execute_result"
    }
   ],
   "source": [
    "elements = np.delete(data1.values[:,1], -1)\n",
    "weights = np.delete(data1.values[:,2], -1)\n",
    "np.sum(np.multiply(elements,weights))/np.sum(weights)"
   ]
  },
  {
   "cell_type": "code",
   "execution_count": 10,
   "metadata": {},
   "outputs": [
    {
     "data": {
      "text/plain": [
       "185.0"
      ]
     },
     "execution_count": 10,
     "metadata": {},
     "output_type": "execute_result"
    }
   ],
   "source": [
    "np.average(elements, weights=weights)"
   ]
  },
  {
   "cell_type": "markdown",
   "metadata": {},
   "source": [
    "### 几何平均数"
   ]
  },
  {
   "cell_type": "code",
   "execution_count": 11,
   "metadata": {},
   "outputs": [
    {
     "data": {
      "text/plain": [
       "array([1.045, 1.021, 1.255, 1.019])"
      ]
     },
     "execution_count": 11,
     "metadata": {},
     "output_type": "execute_result"
    }
   ],
   "source": [
    "data2 = np.array([0.045,0.021,0.255,0.019])+1\n",
    "data2"
   ]
  },
  {
   "cell_type": "code",
   "execution_count": 12,
   "metadata": {},
   "outputs": [
    {
     "data": {
      "text/plain": [
       "1.0807866848335959"
      ]
     },
     "execution_count": 12,
     "metadata": {},
     "output_type": "execute_result"
    }
   ],
   "source": [
    "sts.gmean(data2)"
   ]
  },
  {
   "cell_type": "markdown",
   "metadata": {},
   "source": [
    "## 离散程度的度量\n",
    "### 异众比率"
   ]
  },
  {
   "cell_type": "code",
   "execution_count": 13,
   "metadata": {},
   "outputs": [
    {
     "data": {
      "text/html": [
       "<div>\n",
       "<style scoped>\n",
       "    .dataframe tbody tr th:only-of-type {\n",
       "        vertical-align: middle;\n",
       "    }\n",
       "\n",
       "    .dataframe tbody tr th {\n",
       "        vertical-align: top;\n",
       "    }\n",
       "\n",
       "    .dataframe thead th {\n",
       "        text-align: right;\n",
       "    }\n",
       "</style>\n",
       "<table border=\"1\" class=\"dataframe\">\n",
       "  <thead>\n",
       "    <tr style=\"text-align: right;\">\n",
       "      <th></th>\n",
       "      <th>顾客性别</th>\n",
       "      <th>饮料类型</th>\n",
       "    </tr>\n",
       "  </thead>\n",
       "  <tbody>\n",
       "    <tr>\n",
       "      <th>0</th>\n",
       "      <td>女</td>\n",
       "      <td>碳酸饮料</td>\n",
       "    </tr>\n",
       "    <tr>\n",
       "      <th>1</th>\n",
       "      <td>男</td>\n",
       "      <td>绿茶</td>\n",
       "    </tr>\n",
       "    <tr>\n",
       "      <th>2</th>\n",
       "      <td>男</td>\n",
       "      <td>矿泉水</td>\n",
       "    </tr>\n",
       "    <tr>\n",
       "      <th>3</th>\n",
       "      <td>女</td>\n",
       "      <td>矿泉水</td>\n",
       "    </tr>\n",
       "    <tr>\n",
       "      <th>4</th>\n",
       "      <td>男</td>\n",
       "      <td>碳酸饮料</td>\n",
       "    </tr>\n",
       "  </tbody>\n",
       "</table>\n",
       "</div>"
      ],
      "text/plain": [
       "  顾客性别  饮料类型\n",
       "0    女  碳酸饮料\n",
       "1    男    绿茶\n",
       "2    男   矿泉水\n",
       "3    女   矿泉水\n",
       "4    男  碳酸饮料"
      ]
     },
     "execution_count": 13,
     "metadata": {},
     "output_type": "execute_result"
    }
   ],
   "source": [
    "data3=pd.read_excel('data/例3.3.xlsx',sep='\\t',header=0)\n",
    "data3.head()"
   ]
  },
  {
   "cell_type": "code",
   "execution_count": 149,
   "metadata": {},
   "outputs": [
    {
     "data": {
      "text/plain": [
       "0.4285714285714286"
      ]
     },
     "execution_count": 149,
     "metadata": {},
     "output_type": "execute_result"
    }
   ],
   "source": [
    "data3 = np.array([1,2,2,2,2,3,4])\n",
    "Vr = 1-sts.mode(data3)[1][0]/len(data3)\n",
    "Vr"
   ]
  },
  {
   "cell_type": "markdown",
   "metadata": {},
   "source": [
    "### 四分位差"
   ]
  },
  {
   "cell_type": "code",
   "execution_count": 15,
   "metadata": {},
   "outputs": [
    {
     "name": "stdout",
     "output_type": "stream",
     "text": [
      "四分位75%：1250.0\n",
      "四分位25%：960.0\n",
      "四分位差：290.0\n"
     ]
    }
   ],
   "source": [
    "print(\"四分位75%：\"+str(np.percentile(data,75)))\n",
    "print(\"四分位25%：\"+str(np.percentile(data,25)))\n",
    "print(\"四分位差：\"+str(np.percentile(data,75) - np.percentile(data,25)))"
   ]
  },
  {
   "cell_type": "markdown",
   "metadata": {},
   "source": [
    "### 极差"
   ]
  },
  {
   "cell_type": "code",
   "execution_count": 16,
   "metadata": {},
   "outputs": [
    {
     "name": "stdout",
     "output_type": "stream",
     "text": [
      "3\n",
      "3\n"
     ]
    }
   ],
   "source": [
    "print(np.ptp(data3))\n",
    "print(np.max(data3)-np.min(data3))"
   ]
  },
  {
   "cell_type": "markdown",
   "metadata": {},
   "source": [
    "### 平均差"
   ]
  },
  {
   "cell_type": "code",
   "execution_count": 17,
   "metadata": {},
   "outputs": [
    {
     "data": {
      "text/plain": [
       "0.6938775510204082"
      ]
     },
     "execution_count": 17,
     "metadata": {},
     "output_type": "execute_result"
    }
   ],
   "source": [
    "dmean3 = np.mean(data3)\n",
    "np.sum(np.abs(data3-dmean3))/len(data3)"
   ]
  },
  {
   "cell_type": "markdown",
   "metadata": {},
   "source": [
    "### 方差/标准差"
   ]
  },
  {
   "cell_type": "code",
   "execution_count": 18,
   "metadata": {},
   "outputs": [
    {
     "name": "stdout",
     "output_type": "stream",
     "text": [
      "0.7755102040816327\n",
      "0.880630571852711\n"
     ]
    }
   ],
   "source": [
    "print(data3.var())\n",
    "print(data3.std())"
   ]
  },
  {
   "cell_type": "markdown",
   "metadata": {},
   "source": [
    "### 标准化/ z分数"
   ]
  },
  {
   "cell_type": "code",
   "execution_count": 19,
   "metadata": {},
   "outputs": [
    {
     "data": {
      "text/html": [
       "<div>\n",
       "<style scoped>\n",
       "    .dataframe tbody tr th:only-of-type {\n",
       "        vertical-align: middle;\n",
       "    }\n",
       "\n",
       "    .dataframe tbody tr th {\n",
       "        vertical-align: top;\n",
       "    }\n",
       "\n",
       "    .dataframe thead th {\n",
       "        text-align: right;\n",
       "    }\n",
       "</style>\n",
       "<table border=\"1\" class=\"dataframe\">\n",
       "  <thead>\n",
       "    <tr style=\"text-align: right;\">\n",
       "      <th></th>\n",
       "      <th>月收入</th>\n",
       "    </tr>\n",
       "  </thead>\n",
       "  <tbody>\n",
       "    <tr>\n",
       "      <th>0</th>\n",
       "      <td>-0.269675</td>\n",
       "    </tr>\n",
       "    <tr>\n",
       "      <th>1</th>\n",
       "      <td>-1.103983</td>\n",
       "    </tr>\n",
       "    <tr>\n",
       "      <th>2</th>\n",
       "      <td>-0.269675</td>\n",
       "    </tr>\n",
       "    <tr>\n",
       "      <th>3</th>\n",
       "      <td>-0.269675</td>\n",
       "    </tr>\n",
       "    <tr>\n",
       "      <th>4</th>\n",
       "      <td>-0.851162</td>\n",
       "    </tr>\n",
       "    <tr>\n",
       "      <th>5</th>\n",
       "      <td>-0.573060</td>\n",
       "    </tr>\n",
       "    <tr>\n",
       "      <th>6</th>\n",
       "      <td>2.056273</td>\n",
       "    </tr>\n",
       "    <tr>\n",
       "      <th>7</th>\n",
       "      <td>0.160120</td>\n",
       "    </tr>\n",
       "    <tr>\n",
       "      <th>8</th>\n",
       "      <td>1.120837</td>\n",
       "    </tr>\n",
       "  </tbody>\n",
       "</table>\n",
       "</div>"
      ],
      "text/plain": [
       "        月收入\n",
       "0 -0.269675\n",
       "1 -1.103983\n",
       "2 -0.269675\n",
       "3 -0.269675\n",
       "4 -0.851162\n",
       "5 -0.573060\n",
       "6  2.056273\n",
       "7  0.160120\n",
       "8  1.120837"
      ]
     },
     "execution_count": 19,
     "metadata": {},
     "output_type": "execute_result"
    }
   ],
   "source": [
    "dstd = data.std()\n",
    "(data-dmean.values)/dstd.values"
   ]
  },
  {
   "cell_type": "markdown",
   "metadata": {},
   "source": [
    "### 离散系数"
   ]
  },
  {
   "cell_type": "code",
   "execution_count": 34,
   "metadata": {},
   "outputs": [
    {
     "data": {
      "text/html": [
       "<div>\n",
       "<style scoped>\n",
       "    .dataframe tbody tr th:only-of-type {\n",
       "        vertical-align: middle;\n",
       "    }\n",
       "\n",
       "    .dataframe tbody tr th {\n",
       "        vertical-align: top;\n",
       "    }\n",
       "\n",
       "    .dataframe thead th {\n",
       "        text-align: right;\n",
       "    }\n",
       "</style>\n",
       "<table border=\"1\" class=\"dataframe\">\n",
       "  <thead>\n",
       "    <tr style=\"text-align: right;\">\n",
       "      <th></th>\n",
       "      <th>姓名</th>\n",
       "      <th>国家</th>\n",
       "      <th>预赛成绩</th>\n",
       "      <th>决赛10枪成绩（环）</th>\n",
       "      <th>Unnamed: 4</th>\n",
       "      <th>Unnamed: 5</th>\n",
       "      <th>Unnamed: 6</th>\n",
       "      <th>Unnamed: 7</th>\n",
       "      <th>Unnamed: 8</th>\n",
       "      <th>Unnamed: 9</th>\n",
       "      <th>Unnamed: 10</th>\n",
       "      <th>Unnamed: 11</th>\n",
       "      <th>Unnamed: 12</th>\n",
       "    </tr>\n",
       "  </thead>\n",
       "  <tbody>\n",
       "    <tr>\n",
       "      <th>0</th>\n",
       "      <td>纳塔利娅·帕杰林娜</td>\n",
       "      <td>俄罗斯</td>\n",
       "      <td>391</td>\n",
       "      <td>10.0</td>\n",
       "      <td>8.5</td>\n",
       "      <td>10.0</td>\n",
       "      <td>10.2</td>\n",
       "      <td>10.6</td>\n",
       "      <td>10.5</td>\n",
       "      <td>9.8</td>\n",
       "      <td>9.7</td>\n",
       "      <td>9.5</td>\n",
       "      <td>9.3</td>\n",
       "    </tr>\n",
       "    <tr>\n",
       "      <th>1</th>\n",
       "      <td>郭文珺</td>\n",
       "      <td>中国</td>\n",
       "      <td>390</td>\n",
       "      <td>10.0</td>\n",
       "      <td>10.5</td>\n",
       "      <td>10.4</td>\n",
       "      <td>10.4</td>\n",
       "      <td>10.1</td>\n",
       "      <td>10.3</td>\n",
       "      <td>9.4</td>\n",
       "      <td>10.7</td>\n",
       "      <td>10.8</td>\n",
       "      <td>9.7</td>\n",
       "    </tr>\n",
       "    <tr>\n",
       "      <th>2</th>\n",
       "      <td>卓格巴德拉赫·蒙赫珠勒</td>\n",
       "      <td>蒙古</td>\n",
       "      <td>387</td>\n",
       "      <td>9.3</td>\n",
       "      <td>10.0</td>\n",
       "      <td>8.7</td>\n",
       "      <td>8.3</td>\n",
       "      <td>9.2</td>\n",
       "      <td>9.5</td>\n",
       "      <td>8.5</td>\n",
       "      <td>10.7</td>\n",
       "      <td>9.2</td>\n",
       "      <td>9.2</td>\n",
       "    </tr>\n",
       "    <tr>\n",
       "      <th>3</th>\n",
       "      <td>妮诺·萨卢克瓦泽</td>\n",
       "      <td>格鲁吉亚</td>\n",
       "      <td>386</td>\n",
       "      <td>9.8</td>\n",
       "      <td>10.3</td>\n",
       "      <td>10.0</td>\n",
       "      <td>9.5</td>\n",
       "      <td>10.2</td>\n",
       "      <td>10.7</td>\n",
       "      <td>10.4</td>\n",
       "      <td>10.6</td>\n",
       "      <td>9.1</td>\n",
       "      <td>10.8</td>\n",
       "    </tr>\n",
       "    <tr>\n",
       "      <th>4</th>\n",
       "      <td>维多利亚·柴卡</td>\n",
       "      <td>白俄罗斯</td>\n",
       "      <td>384</td>\n",
       "      <td>9.3</td>\n",
       "      <td>9.4</td>\n",
       "      <td>10.4</td>\n",
       "      <td>10.1</td>\n",
       "      <td>10.2</td>\n",
       "      <td>10.5</td>\n",
       "      <td>9.2</td>\n",
       "      <td>10.5</td>\n",
       "      <td>9.8</td>\n",
       "      <td>8.6</td>\n",
       "    </tr>\n",
       "  </tbody>\n",
       "</table>\n",
       "</div>"
      ],
      "text/plain": [
       "            姓名    国家  预赛成绩  决赛10枪成绩（环）  Unnamed: 4  Unnamed: 5  Unnamed: 6  \\\n",
       "0    纳塔利娅·帕杰林娜   俄罗斯   391        10.0         8.5        10.0        10.2   \n",
       "1          郭文珺    中国   390        10.0        10.5        10.4        10.4   \n",
       "2  卓格巴德拉赫·蒙赫珠勒    蒙古   387         9.3        10.0         8.7         8.3   \n",
       "3     妮诺·萨卢克瓦泽  格鲁吉亚   386         9.8        10.3        10.0         9.5   \n",
       "4      维多利亚·柴卡  白俄罗斯   384         9.3         9.4        10.4        10.1   \n",
       "\n",
       "   Unnamed: 7  Unnamed: 8  Unnamed: 9  Unnamed: 10  Unnamed: 11  Unnamed: 12  \n",
       "0        10.6        10.5         9.8          9.7          9.5          9.3  \n",
       "1        10.1        10.3         9.4         10.7         10.8          9.7  \n",
       "2         9.2         9.5         8.5         10.7          9.2          9.2  \n",
       "3        10.2        10.7        10.4         10.6          9.1         10.8  \n",
       "4        10.2        10.5         9.2         10.5          9.8          8.6  "
      ]
     },
     "execution_count": 34,
     "metadata": {},
     "output_type": "execute_result"
    }
   ],
   "source": [
    "data4=pd.read_excel('data/例4.14.xlsx',sep='\\t',header=0)\n",
    "data4.head()"
   ]
  },
  {
   "cell_type": "code",
   "execution_count": 138,
   "metadata": {},
   "outputs": [
    {
     "data": {
      "text/html": [
       "<div>\n",
       "<style scoped>\n",
       "    .dataframe tbody tr th:only-of-type {\n",
       "        vertical-align: middle;\n",
       "    }\n",
       "\n",
       "    .dataframe tbody tr th {\n",
       "        vertical-align: top;\n",
       "    }\n",
       "\n",
       "    .dataframe thead th {\n",
       "        text-align: right;\n",
       "    }\n",
       "</style>\n",
       "<table border=\"1\" class=\"dataframe\">\n",
       "  <thead>\n",
       "    <tr style=\"text-align: right;\">\n",
       "      <th></th>\n",
       "      <th>name</th>\n",
       "      <th>country</th>\n",
       "      <th>mean</th>\n",
       "      <th>str</th>\n",
       "      <th>Vs</th>\n",
       "    </tr>\n",
       "  </thead>\n",
       "  <tbody>\n",
       "    <tr>\n",
       "      <th>0</th>\n",
       "      <td>纳塔利娅·帕杰林娜</td>\n",
       "      <td>俄罗斯</td>\n",
       "      <td>9.81</td>\n",
       "      <td>0.583866</td>\n",
       "      <td>0.0595175</td>\n",
       "    </tr>\n",
       "    <tr>\n",
       "      <th>1</th>\n",
       "      <td>郭文珺</td>\n",
       "      <td>中国</td>\n",
       "      <td>10.23</td>\n",
       "      <td>0.414849</td>\n",
       "      <td>0.0405522</td>\n",
       "    </tr>\n",
       "    <tr>\n",
       "      <th>2</th>\n",
       "      <td>卓格巴德拉赫·蒙赫珠勒</td>\n",
       "      <td>蒙古</td>\n",
       "      <td>9.26</td>\n",
       "      <td>0.671118</td>\n",
       "      <td>0.072475</td>\n",
       "    </tr>\n",
       "    <tr>\n",
       "      <th>3</th>\n",
       "      <td>妮诺·萨卢克瓦泽</td>\n",
       "      <td>格鲁吉亚</td>\n",
       "      <td>10.14</td>\n",
       "      <td>0.518073</td>\n",
       "      <td>0.051092</td>\n",
       "    </tr>\n",
       "    <tr>\n",
       "      <th>4</th>\n",
       "      <td>维多利亚·柴卡</td>\n",
       "      <td>白俄罗斯</td>\n",
       "      <td>9.8</td>\n",
       "      <td>0.616441</td>\n",
       "      <td>0.0629022</td>\n",
       "    </tr>\n",
       "    <tr>\n",
       "      <th>5</th>\n",
       "      <td>莱万多夫斯卡·萨贡</td>\n",
       "      <td>波兰</td>\n",
       "      <td>9.73</td>\n",
       "      <td>0.695773</td>\n",
       "      <td>0.071508</td>\n",
       "    </tr>\n",
       "    <tr>\n",
       "      <th>6</th>\n",
       "      <td>亚斯娜·舍卡里奇</td>\n",
       "      <td>塞尔维亚</td>\n",
       "      <td>9.69</td>\n",
       "      <td>0.338969</td>\n",
       "      <td>0.0349813</td>\n",
       "    </tr>\n",
       "    <tr>\n",
       "      <th>7</th>\n",
       "      <td>米拉·内万苏</td>\n",
       "      <td>芬兰</td>\n",
       "      <td>9.65</td>\n",
       "      <td>0.438748</td>\n",
       "      <td>0.0454661</td>\n",
       "    </tr>\n",
       "  </tbody>\n",
       "</table>\n",
       "</div>"
      ],
      "text/plain": [
       "          name country   mean       str         Vs\n",
       "0    纳塔利娅·帕杰林娜     俄罗斯   9.81  0.583866  0.0595175\n",
       "1          郭文珺      中国  10.23  0.414849  0.0405522\n",
       "2  卓格巴德拉赫·蒙赫珠勒      蒙古   9.26  0.671118   0.072475\n",
       "3     妮诺·萨卢克瓦泽    格鲁吉亚  10.14  0.518073   0.051092\n",
       "4      维多利亚·柴卡    白俄罗斯    9.8  0.616441  0.0629022\n",
       "5    莱万多夫斯卡·萨贡      波兰   9.73  0.695773   0.071508\n",
       "6     亚斯娜·舍卡里奇    塞尔维亚   9.69  0.338969  0.0349813\n",
       "7       米拉·内万苏      芬兰   9.65  0.438748  0.0454661"
      ]
     },
     "execution_count": 138,
     "metadata": {},
     "output_type": "execute_result"
    }
   ],
   "source": [
    "dataTemp4 = data4.values[:,3:]\n",
    "dlen4 = len(data4)\n",
    "dmean4= dataTemp4.mean(axis=1)\n",
    "dstr4 = dataTemp4.astype(np.float64).std(axis=1)\n",
    "dataVs4= dstr4/dmean4\n",
    "df = pd.DataFrame(np.concatenate((data4.values[:,0:2],np.vstack((dmean4,dstr4,dataVs4)).reshape(-1,order='F').reshape(-1,3)),axis=1))\n",
    "df.columns = ['name', 'country', 'mean', 'str', 'Vs']\n",
    "df"
   ]
  },
  {
   "cell_type": "markdown",
   "metadata": {},
   "source": [
    "## 偏态"
   ]
  },
  {
   "cell_type": "code",
   "execution_count": 169,
   "metadata": {
    "scrolled": true
   },
   "outputs": [
    {
     "name": "stdout",
     "output_type": "stream",
     "text": [
      "[1 2 2 2 2 3 4]\n"
     ]
    },
    {
     "data": {
      "text/plain": [
       "1.1731251294063556"
      ]
     },
     "execution_count": 169,
     "metadata": {},
     "output_type": "execute_result"
    }
   ],
   "source": [
    "print(data3)\n",
    "sts.skew(np.bincount(data3))"
   ]
  },
  {
   "cell_type": "code",
   "execution_count": 170,
   "metadata": {},
   "outputs": [
    {
     "data": {
      "text/plain": [
       "[<matplotlib.lines.Line2D at 0x245eda05198>]"
      ]
     },
     "execution_count": 170,
     "metadata": {},
     "output_type": "execute_result"
    },
    {
     "data": {
      "image/png": "[encoded data removed]",
      "text/plain": [
       "<Figure size 432x288 with 1 Axes>"
      ]
     },
     "metadata": {
      "needs_background": "light"
     },
     "output_type": "display_data"
    }
   ],
   "source": [
    "plt.plot(np.bincount(data3), 'r.-')"
   ]
  },
  {
   "cell_type": "markdown",
   "metadata": {},
   "source": [
    "## 峰态"
   ]
  },
  {
   "cell_type": "code",
   "execution_count": 192,
   "metadata": {
    "scrolled": true
   },
   "outputs": [
    {
     "data": {
      "text/plain": [
       "-0.06899810964083297"
      ]
     },
     "execution_count": 192,
     "metadata": {},
     "output_type": "execute_result"
    }
   ],
   "source": [
    "sts.kurtosis(np.bincount(data3))"
   ]
  }
 ],
 "metadata": {
  "kernelspec": {
   "display_name": "Python 3",
   "language": "python",
   "name": "python3"
  },
  "language_info": {
   "codemirror_mode": {
    "name": "ipython",
    "version": 3
   },
   "file_extension": ".py",
   "mimetype": "text/x-python",
   "name": "python",
   "nbconvert_exporter": "python",
   "pygments_lexer": "ipython3",
   "version": "3.7.3"
  }
 },
 "nbformat": 4,
 "nbformat_minor": 2
}
