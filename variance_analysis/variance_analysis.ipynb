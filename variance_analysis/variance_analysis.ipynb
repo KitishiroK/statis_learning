{
 "cells": [
  {
   "cell_type": "markdown",
   "metadata": {},
   "source": [
    "# 方差分析\n",
    "消费者与产品生产者、销售者或服务的提供者之间经常发生纠纷。当发生纠纷后,消费者常 常会向消协投诉。为了对几个行业的评价,消费者协会在零售业、旅游业航空公司、家电制造业分别抽取了不同的样本，其中零售业抽取7家，旅游业抽取了6家，航空公司抽取5家、家电制造业抽取了5家，然后记录了一年中消费者对总共23家服务企业投诉的次数，结果如下表。试结合Excel输出的结果分析这四个行业的服务质量是否有显著差异？"
   ]
  },
  {
   "cell_type": "code",
   "execution_count": 201,
   "metadata": {},
   "outputs": [],
   "source": [
    "import pandas as pd\n",
    "import numpy as np\n",
    "import scipy.stats as stats"
   ]
  },
  {
   "cell_type": "code",
   "execution_count": 4,
   "metadata": {},
   "outputs": [
    {
     "data": {
      "text/html": [
       "<div>\n",
       "<style scoped>\n",
       "    .dataframe tbody tr th:only-of-type {\n",
       "        vertical-align: middle;\n",
       "    }\n",
       "\n",
       "    .dataframe tbody tr th {\n",
       "        vertical-align: top;\n",
       "    }\n",
       "\n",
       "    .dataframe thead th {\n",
       "        text-align: right;\n",
       "    }\n",
       "</style>\n",
       "<table border=\"1\" class=\"dataframe\">\n",
       "  <thead>\n",
       "    <tr style=\"text-align: right;\">\n",
       "      <th></th>\n",
       "      <th>零售业</th>\n",
       "      <th>旅游业</th>\n",
       "      <th>航空公司</th>\n",
       "      <th>家电制造业</th>\n",
       "    </tr>\n",
       "  </thead>\n",
       "  <tbody>\n",
       "    <tr>\n",
       "      <th>0</th>\n",
       "      <td>57</td>\n",
       "      <td>68.0</td>\n",
       "      <td>31.0</td>\n",
       "      <td>44.0</td>\n",
       "    </tr>\n",
       "    <tr>\n",
       "      <th>1</th>\n",
       "      <td>66</td>\n",
       "      <td>39.0</td>\n",
       "      <td>49.0</td>\n",
       "      <td>51.0</td>\n",
       "    </tr>\n",
       "    <tr>\n",
       "      <th>2</th>\n",
       "      <td>49</td>\n",
       "      <td>29.0</td>\n",
       "      <td>21.0</td>\n",
       "      <td>65.0</td>\n",
       "    </tr>\n",
       "    <tr>\n",
       "      <th>3</th>\n",
       "      <td>40</td>\n",
       "      <td>45.0</td>\n",
       "      <td>34.0</td>\n",
       "      <td>77.0</td>\n",
       "    </tr>\n",
       "    <tr>\n",
       "      <th>4</th>\n",
       "      <td>34</td>\n",
       "      <td>56.0</td>\n",
       "      <td>40.0</td>\n",
       "      <td>58.0</td>\n",
       "    </tr>\n",
       "    <tr>\n",
       "      <th>5</th>\n",
       "      <td>53</td>\n",
       "      <td>51.0</td>\n",
       "      <td>NaN</td>\n",
       "      <td>NaN</td>\n",
       "    </tr>\n",
       "    <tr>\n",
       "      <th>6</th>\n",
       "      <td>44</td>\n",
       "      <td>NaN</td>\n",
       "      <td>NaN</td>\n",
       "      <td>NaN</td>\n",
       "    </tr>\n",
       "  </tbody>\n",
       "</table>\n",
       "</div>"
      ],
      "text/plain": [
       "   零售业   旅游业  航空公司  家电制造业\n",
       "0   57  68.0  31.0   44.0\n",
       "1   66  39.0  49.0   51.0\n",
       "2   49  29.0  21.0   65.0\n",
       "3   40  45.0  34.0   77.0\n",
       "4   34  56.0  40.0   58.0\n",
       "5   53  51.0   NaN    NaN\n",
       "6   44   NaN   NaN    NaN"
      ]
     },
     "execution_count": 4,
     "metadata": {},
     "output_type": "execute_result"
    }
   ],
   "source": [
    "data = pd.read_excel(\"data/例10.1.xlsx\",header=0)\n",
    "data"
   ]
  },
  {
   "cell_type": "markdown",
   "metadata": {},
   "source": [
    "## 单因素的方差分析\n",
    "### 1. 提出假设\n",
    "H0 : mu1 = mu2 = mu3 = mu4  \n",
    "H1 : mu(1,2,3,4) 不全相等  \n",
    "### 2.构造统计量"
   ]
  },
  {
   "cell_type": "code",
   "execution_count": 24,
   "metadata": {},
   "outputs": [
    {
     "data": {
      "text/plain": [
       "零售业      49.0\n",
       "旅游业      48.0\n",
       "航空公司     35.0\n",
       "家电制造业    59.0\n",
       "dtype: float64"
      ]
     },
     "execution_count": 24,
     "metadata": {},
     "output_type": "execute_result"
    }
   ],
   "source": [
    "x_ = data.mean()\n",
    "x_"
   ]
  },
  {
   "cell_type": "code",
   "execution_count": 155,
   "metadata": {},
   "outputs": [
    {
     "name": "stdout",
     "output_type": "stream",
     "text": [
      "47.869565217391305\n",
      "[57. 68. 31. 44. 66. 39. 49. 51. 49. 29. 21. 65. 40. 45. 34. 77. 34. 56.\n",
      " 40. 58. 53. 51. 44.]\n"
     ]
    },
    {
     "data": {
      "text/plain": [
       "[7, 6, 5, 5]"
      ]
     },
     "execution_count": 155,
     "metadata": {},
     "output_type": "execute_result"
    }
   ],
   "source": [
    "x__ = data.sum().sum()/len(dataList)\n",
    "print(x__)\n",
    "dataList = np.array(data)[pd.notnull(data)]\n",
    "print(dataList)\n",
    "length = []\n",
    "for i in range(0,4):\n",
    "    length.append(data.iloc[:,i].dropna().shape[0])\n",
    "length"
   ]
  },
  {
   "cell_type": "code",
   "execution_count": 194,
   "metadata": {},
   "outputs": [
    {
     "data": {
      "text/plain": [
       "4164.608695652174"
      ]
     },
     "execution_count": 194,
     "metadata": {},
     "output_type": "execute_result"
    }
   ],
   "source": [
    "#总平方和 ∑∑（xij - x__）^2\n",
    "SST = (((dataList-x__)**2).sum())\n",
    "SST"
   ]
  },
  {
   "cell_type": "code",
   "execution_count": 195,
   "metadata": {},
   "outputs": [
    {
     "data": {
      "text/plain": [
       "1456.608695652174"
      ]
     },
     "execution_count": 195,
     "metadata": {},
     "output_type": "execute_result"
    }
   ],
   "source": [
    "#组间平方和 ∑nij(x_i-x__)^2\n",
    "SSA= ((x_-x__)**2*length).sum()\n",
    "SSA"
   ]
  },
  {
   "cell_type": "code",
   "execution_count": 197,
   "metadata": {},
   "outputs": [
    {
     "data": {
      "text/plain": [
       "2708.0"
      ]
     },
     "execution_count": 197,
     "metadata": {},
     "output_type": "execute_result"
    }
   ],
   "source": [
    "#组内平方和 ∑∑(xij- x_)^2\n",
    "SSE = ((data.iloc[:,0]-49)**2).sum()+((data.iloc[:,1]-48)**2).sum()+((data.iloc[:,2]-35)**2).sum()+((data.iloc[:,3]-59)**2).sum()\n",
    "SSE"
   ]
  },
  {
   "cell_type": "code",
   "execution_count": 198,
   "metadata": {},
   "outputs": [
    {
     "data": {
      "text/plain": [
       "True"
      ]
     },
     "execution_count": 198,
     "metadata": {},
     "output_type": "execute_result"
    }
   ],
   "source": [
    "SST == SSA+SSE"
   ]
  },
  {
   "cell_type": "code",
   "execution_count": 199,
   "metadata": {},
   "outputs": [
    {
     "data": {
      "text/plain": [
       "485.536231884058"
      ]
     },
     "execution_count": 199,
     "metadata": {},
     "output_type": "execute_result"
    }
   ],
   "source": [
    "MSA = SSA / (4 -1)\n",
    "MSA"
   ]
  },
  {
   "cell_type": "code",
   "execution_count": 200,
   "metadata": {},
   "outputs": [
    {
     "data": {
      "text/plain": [
       "142.52631578947367"
      ]
     },
     "execution_count": 200,
     "metadata": {},
     "output_type": "execute_result"
    }
   ],
   "source": [
    "MSE = SSE / (len(dataList)- 4)\n",
    "MSE"
   ]
  },
  {
   "cell_type": "code",
   "execution_count": 204,
   "metadata": {},
   "outputs": [
    {
     "data": {
      "text/plain": [
       "3.4066426904716036"
      ]
     },
     "execution_count": 204,
     "metadata": {},
     "output_type": "execute_result"
    }
   ],
   "source": [
    "F = MSA /MSE\n",
    "F"
   ]
  },
  {
   "cell_type": "markdown",
   "metadata": {},
   "source": [
    "## 做出统计决策\n"
   ]
  },
  {
   "cell_type": "code",
   "execution_count": 206,
   "metadata": {},
   "outputs": [
    {
     "data": {
      "text/plain": [
       "3.127350005113399"
      ]
     },
     "execution_count": 206,
     "metadata": {},
     "output_type": "execute_result"
    }
   ],
   "source": [
    "F0 = stats.f.isf(0.05,3,23-4)\n",
    "F0"
   ]
  },
  {
   "cell_type": "code",
   "execution_count": 212,
   "metadata": {},
   "outputs": [
    {
     "data": {
      "text/plain": [
       "True"
      ]
     },
     "execution_count": 212,
     "metadata": {},
     "output_type": "execute_result"
    }
   ],
   "source": [
    "F>F0"
   ]
  },
  {
   "cell_type": "code",
   "execution_count": 215,
   "metadata": {},
   "outputs": [
    {
     "data": {
      "text/plain": [
       "0.34975883740838953"
      ]
     },
     "execution_count": 215,
     "metadata": {},
     "output_type": "execute_result"
    }
   ],
   "source": [
    "R2= SSA/SST\n",
    "R2"
   ]
  },
  {
   "cell_type": "markdown",
   "metadata": {},
   "source": [
    "拒绝原假设，mu之间有显著差异"
   ]
  },
  {
   "cell_type": "markdown",
   "metadata": {},
   "source": [
    "## 方差分析中的多重比较"
   ]
  },
  {
   "cell_type": "markdown",
   "metadata": {},
   "source": [
    "### 1 提出假设\n",
    "检验1 H0: mu1 = mu2 H1 : mu1 != mu2  \n",
    "检验2 H0: mu1 = mu3 H1 : mu1 != mu3  \n",
    "检验3 H0: mu1 = mu4 H1 : mu1 != mu4  \n",
    "检验4 H0: mu2 = mu3 H1 : mu2 != mu3  \n",
    "检验5 H0: mu2 = mu4 H1 : mu2 != mu4  \n",
    "检验6 H0: mu3 = mu4 H1 : mu3 != mu4  "
   ]
  },
  {
   "cell_type": "code",
   "execution_count": 219,
   "metadata": {},
   "outputs": [
    {
     "name": "stdout",
     "output_type": "stream",
     "text": [
      "1.0\n",
      "14.0\n",
      "10.0\n",
      "13.0\n",
      "11.0\n",
      "24.0\n"
     ]
    }
   ],
   "source": [
    "x1 = abs(x_[0] - x_[1])\n",
    "print(x1)\n",
    "x2 = abs(x_[0] - x_[2])\n",
    "print(x2)\n",
    "x3 = abs(x_[0] - x_[3])\n",
    "print(x3)\n",
    "x4 = abs(x_[1] - x_[2])\n",
    "print(x4)\n",
    "x5 = abs(x_[1] - x_[3])\n",
    "print(x5)\n",
    "x6 = abs(x_[2] - x_[3])\n",
    "print(x6)"
   ]
  },
  {
   "cell_type": "code",
   "execution_count": 223,
   "metadata": {},
   "outputs": [
    {
     "data": {
      "text/plain": [
       "2.0930240544082634"
      ]
     },
     "execution_count": 223,
     "metadata": {},
     "output_type": "execute_result"
    }
   ],
   "source": [
    "ta= stats.t.isf(0.05/2,23-4)\n",
    "ta"
   ]
  },
  {
   "cell_type": "code",
   "execution_count": 227,
   "metadata": {},
   "outputs": [
    {
     "name": "stdout",
     "output_type": "stream",
     "text": [
      "13.901727781081766\n",
      "14.63114619914529\n",
      "14.63114619914529\n",
      "15.13064578318105\n",
      "15.13064578318105\n",
      "15.803444106192725\n"
     ]
    }
   ],
   "source": [
    "#LSD = ta/2 (MSE(1/ni+1/nj))**0.5\n",
    "LSD1 = ta*(MSE*(1/length[0]+1/length[1]))**.5\n",
    "print(LSD1)\n",
    "LSD2 = ta*(MSE*(1/length[0]+1/length[2]))**.5\n",
    "print(LSD2)\n",
    "LSD3 = ta*(MSE*(1/length[0]+1/length[3]))**.5\n",
    "print(LSD3)\n",
    "LSD4 = ta*(MSE*(1/length[1]+1/length[2]))**.5\n",
    "print(LSD4)\n",
    "LSD5 = ta*(MSE*(1/length[1]+1/length[3]))**.5\n",
    "print(LSD5)\n",
    "LSD6 = ta*(MSE*(1/length[2]+1/length[3]))**.5\n",
    "print(LSD6)"
   ]
  },
  {
   "cell_type": "code",
   "execution_count": 228,
   "metadata": {},
   "outputs": [
    {
     "name": "stdout",
     "output_type": "stream",
     "text": [
      "True\n",
      "True\n",
      "True\n",
      "True\n",
      "True\n",
      "False\n"
     ]
    }
   ],
   "source": [
    "print(x1<LSD1)\n",
    "print(x2<LSD2)\n",
    "print(x3<LSD3)\n",
    "print(x4<LSD4)\n",
    "print(x5<LSD5)\n",
    "print(x6<LSD6)"
   ]
  },
  {
   "cell_type": "markdown",
   "metadata": {},
   "source": [
    "不能拒接原假设1  \n",
    "不能拒接原假设2  \n",
    "不能拒接原假设3  \n",
    "不能拒接原假设4  \n",
    "不能拒接原假设5  \n",
    "拒接原假设6  航空公司和家电制造业被投诉之间有显著差异"
   ]
  },
  {
   "cell_type": "code",
   "execution_count": null,
   "metadata": {},
   "outputs": [],
   "source": []
  }
 ],
 "metadata": {
  "kernelspec": {
   "display_name": "Python 3",
   "language": "python",
   "name": "python3"
  },
  "language_info": {
   "codemirror_mode": {
    "name": "ipython",
    "version": 3
   },
   "file_extension": ".py",
   "mimetype": "text/x-python",
   "name": "python",
   "nbconvert_exporter": "python",
   "pygments_lexer": "ipython3",
   "version": "3.7.3"
  }
 },
 "nbformat": 4,
 "nbformat_minor": 2
}
