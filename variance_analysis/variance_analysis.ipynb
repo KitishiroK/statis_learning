{
 "cells": [
  {
   "cell_type": "markdown",
   "metadata": {},
   "source": [
    "# 方差分析\n",
    "消费者与产品生产者、销售者或服务的提供者之间经常发生纠纷。当发生纠纷后,消费者常 常会向消协投诉。为了对几个行业的评价,消费者协会在零售业、旅游业航空公司、家电制造业分别抽取了不同的样本，其中零售业抽取7家，旅游业抽取了6家，航空公司抽取5家、家电制造业抽取了5家，然后记录了一年中消费者对总共23家服务企业投诉的次数，结果如下表。试结合Excel输出的结果分析这四个行业的服务质量是否有显著差异？"
   ]
  },
  {
   "cell_type": "code",
   "execution_count": 2,
   "metadata": {},
   "outputs": [],
   "source": [
    "import pandas as pd\n",
    "import numpy as np\n",
    "import scipy.stats as stats"
   ]
  },
  {
   "cell_type": "code",
   "execution_count": 3,
   "metadata": {},
   "outputs": [
    {
     "data": {
      "text/html": [
       "<div>\n",
       "<style scoped>\n",
       "    .dataframe tbody tr th:only-of-type {\n",
       "        vertical-align: middle;\n",
       "    }\n",
       "\n",
       "    .dataframe tbody tr th {\n",
       "        vertical-align: top;\n",
       "    }\n",
       "\n",
       "    .dataframe thead th {\n",
       "        text-align: right;\n",
       "    }\n",
       "</style>\n",
       "<table border=\"1\" class=\"dataframe\">\n",
       "  <thead>\n",
       "    <tr style=\"text-align: right;\">\n",
       "      <th></th>\n",
       "      <th>零售业</th>\n",
       "      <th>旅游业</th>\n",
       "      <th>航空公司</th>\n",
       "      <th>家电制造业</th>\n",
       "    </tr>\n",
       "  </thead>\n",
       "  <tbody>\n",
       "    <tr>\n",
       "      <th>0</th>\n",
       "      <td>57</td>\n",
       "      <td>68.0</td>\n",
       "      <td>31.0</td>\n",
       "      <td>44.0</td>\n",
       "    </tr>\n",
       "    <tr>\n",
       "      <th>1</th>\n",
       "      <td>66</td>\n",
       "      <td>39.0</td>\n",
       "      <td>49.0</td>\n",
       "      <td>51.0</td>\n",
       "    </tr>\n",
       "    <tr>\n",
       "      <th>2</th>\n",
       "      <td>49</td>\n",
       "      <td>29.0</td>\n",
       "      <td>21.0</td>\n",
       "      <td>65.0</td>\n",
       "    </tr>\n",
       "    <tr>\n",
       "      <th>3</th>\n",
       "      <td>40</td>\n",
       "      <td>45.0</td>\n",
       "      <td>34.0</td>\n",
       "      <td>77.0</td>\n",
       "    </tr>\n",
       "    <tr>\n",
       "      <th>4</th>\n",
       "      <td>34</td>\n",
       "      <td>56.0</td>\n",
       "      <td>40.0</td>\n",
       "      <td>58.0</td>\n",
       "    </tr>\n",
       "    <tr>\n",
       "      <th>5</th>\n",
       "      <td>53</td>\n",
       "      <td>51.0</td>\n",
       "      <td>NaN</td>\n",
       "      <td>NaN</td>\n",
       "    </tr>\n",
       "    <tr>\n",
       "      <th>6</th>\n",
       "      <td>44</td>\n",
       "      <td>NaN</td>\n",
       "      <td>NaN</td>\n",
       "      <td>NaN</td>\n",
       "    </tr>\n",
       "  </tbody>\n",
       "</table>\n",
       "</div>"
      ],
      "text/plain": [
       "   零售业   旅游业  航空公司  家电制造业\n",
       "0   57  68.0  31.0   44.0\n",
       "1   66  39.0  49.0   51.0\n",
       "2   49  29.0  21.0   65.0\n",
       "3   40  45.0  34.0   77.0\n",
       "4   34  56.0  40.0   58.0\n",
       "5   53  51.0   NaN    NaN\n",
       "6   44   NaN   NaN    NaN"
      ]
     },
     "execution_count": 3,
     "metadata": {},
     "output_type": "execute_result"
    }
   ],
   "source": [
    "data = pd.read_excel(\"data/例10.1.xlsx\",header=0)\n",
    "data"
   ]
  },
  {
   "cell_type": "markdown",
   "metadata": {},
   "source": [
    "## 单因素的方差分析\n",
    "### 1. 提出假设\n",
    "H0 : mu1 = mu2 = mu3 = mu4  \n",
    "H1 : mu(1,2,3,4) 不全相等  \n",
    "### 2.构造统计量"
   ]
  },
  {
   "cell_type": "code",
   "execution_count": 5,
   "metadata": {},
   "outputs": [
    {
     "data": {
      "text/plain": [
       "零售业      49.0\n",
       "旅游业      48.0\n",
       "航空公司     35.0\n",
       "家电制造业    59.0\n",
       "dtype: float64"
      ]
     },
     "execution_count": 5,
     "metadata": {},
     "output_type": "execute_result"
    }
   ],
   "source": [
    "x_ = data.mean()\n",
    "x_"
   ]
  },
  {
   "cell_type": "markdown",
   "metadata": {},
   "source": [
    "![x__](img/x__.jpg)"
   ]
  },
  {
   "cell_type": "code",
   "execution_count": 155,
   "metadata": {},
   "outputs": [
    {
     "name": "stdout",
     "output_type": "stream",
     "text": [
      "47.869565217391305\n",
      "[57. 68. 31. 44. 66. 39. 49. 51. 49. 29. 21. 65. 40. 45. 34. 77. 34. 56.\n",
      " 40. 58. 53. 51. 44.]\n"
     ]
    },
    {
     "data": {
      "text/plain": [
       "[7, 6, 5, 5]"
      ]
     },
     "execution_count": 155,
     "metadata": {},
     "output_type": "execute_result"
    }
   ],
   "source": [
    "x__ = data.sum().sum()/len(dataList)\n",
    "print(x__)\n",
    "dataList = np.array(data)[pd.notnull(data)]\n",
    "print(dataList)\n",
    "length = []\n",
    "for i in range(0,4):\n",
    "    length.append(data.iloc[:,i].dropna().shape[0])\n",
    "length"
   ]
  },
  {
   "cell_type": "code",
   "execution_count": 194,
   "metadata": {},
   "outputs": [
    {
     "data": {
      "text/plain": [
       "4164.608695652174"
      ]
     },
     "execution_count": 194,
     "metadata": {},
     "output_type": "execute_result"
    }
   ],
   "source": [
    "#总平方和 ∑∑（xij - x__）^2\n",
    "SST = (((dataList-x__)**2).sum())\n",
    "SST"
   ]
  },
  {
   "cell_type": "code",
   "execution_count": 195,
   "metadata": {},
   "outputs": [
    {
     "data": {
      "text/plain": [
       "1456.608695652174"
      ]
     },
     "execution_count": 195,
     "metadata": {},
     "output_type": "execute_result"
    }
   ],
   "source": [
    "#组间平方和 ∑nij(x_i-x__)^2\n",
    "SSA= ((x_-x__)**2*length).sum()\n",
    "SSA"
   ]
  },
  {
   "cell_type": "code",
   "execution_count": 197,
   "metadata": {},
   "outputs": [
    {
     "data": {
      "text/plain": [
       "2708.0"
      ]
     },
     "execution_count": 197,
     "metadata": {},
     "output_type": "execute_result"
    }
   ],
   "source": [
    "#组内平方和 ∑∑(xij- x_)^2\n",
    "SSE = ((data.iloc[:,0]-49)**2).sum()+((data.iloc[:,1]-48)**2).sum()+((data.iloc[:,2]-35)**2).sum()+((data.iloc[:,3]-59)**2).sum()\n",
    "SSE"
   ]
  },
  {
   "cell_type": "code",
   "execution_count": 198,
   "metadata": {},
   "outputs": [
    {
     "data": {
      "text/plain": [
       "True"
      ]
     },
     "execution_count": 198,
     "metadata": {},
     "output_type": "execute_result"
    }
   ],
   "source": [
    "SST == SSA+SSE"
   ]
  },
  {
   "cell_type": "code",
   "execution_count": 199,
   "metadata": {},
   "outputs": [
    {
     "data": {
      "text/plain": [
       "485.536231884058"
      ]
     },
     "execution_count": 199,
     "metadata": {},
     "output_type": "execute_result"
    }
   ],
   "source": [
    "MSA = SSA / (4 -1)\n",
    "MSA"
   ]
  },
  {
   "cell_type": "code",
   "execution_count": 200,
   "metadata": {},
   "outputs": [
    {
     "data": {
      "text/plain": [
       "142.52631578947367"
      ]
     },
     "execution_count": 200,
     "metadata": {},
     "output_type": "execute_result"
    }
   ],
   "source": [
    "MSE = SSE / (len(dataList)- 4)\n",
    "MSE"
   ]
  },
  {
   "cell_type": "code",
   "execution_count": 204,
   "metadata": {},
   "outputs": [
    {
     "data": {
      "text/plain": [
       "3.4066426904716036"
      ]
     },
     "execution_count": 204,
     "metadata": {},
     "output_type": "execute_result"
    }
   ],
   "source": [
    "F = MSA /MSE\n",
    "F"
   ]
  },
  {
   "cell_type": "markdown",
   "metadata": {},
   "source": [
    "## 做出统计决策\n"
   ]
  },
  {
   "cell_type": "code",
   "execution_count": 206,
   "metadata": {},
   "outputs": [
    {
     "data": {
      "text/plain": [
       "3.127350005113399"
      ]
     },
     "execution_count": 206,
     "metadata": {},
     "output_type": "execute_result"
    }
   ],
   "source": [
    "F0 = stats.f.isf(0.05,3,23-4)\n",
    "F0"
   ]
  },
  {
   "cell_type": "code",
   "execution_count": 212,
   "metadata": {},
   "outputs": [
    {
     "data": {
      "text/plain": [
       "True"
      ]
     },
     "execution_count": 212,
     "metadata": {},
     "output_type": "execute_result"
    }
   ],
   "source": [
    "F>F0"
   ]
  },
  {
   "cell_type": "code",
   "execution_count": 215,
   "metadata": {},
   "outputs": [
    {
     "data": {
      "text/plain": [
       "0.34975883740838953"
      ]
     },
     "execution_count": 215,
     "metadata": {},
     "output_type": "execute_result"
    }
   ],
   "source": [
    "R2= SSA/SST\n",
    "R2"
   ]
  },
  {
   "cell_type": "markdown",
   "metadata": {},
   "source": [
    "拒绝原假设，mu之间有显著差异"
   ]
  },
  {
   "cell_type": "markdown",
   "metadata": {},
   "source": [
    "## 方差分析中的多重比较"
   ]
  },
  {
   "cell_type": "markdown",
   "metadata": {},
   "source": [
    "### 1 提出假设\n",
    "检验1 H0: mu1 = mu2 H1 : mu1 != mu2  \n",
    "检验2 H0: mu1 = mu3 H1 : mu1 != mu3  \n",
    "检验3 H0: mu1 = mu4 H1 : mu1 != mu4  \n",
    "检验4 H0: mu2 = mu3 H1 : mu2 != mu3  \n",
    "检验5 H0: mu2 = mu4 H1 : mu2 != mu4  \n",
    "检验6 H0: mu3 = mu4 H1 : mu3 != mu4  "
   ]
  },
  {
   "cell_type": "code",
   "execution_count": 219,
   "metadata": {},
   "outputs": [
    {
     "name": "stdout",
     "output_type": "stream",
     "text": [
      "1.0\n",
      "14.0\n",
      "10.0\n",
      "13.0\n",
      "11.0\n",
      "24.0\n"
     ]
    }
   ],
   "source": [
    "x1 = abs(x_[0] - x_[1])\n",
    "print(x1)\n",
    "x2 = abs(x_[0] - x_[2])\n",
    "print(x2)\n",
    "x3 = abs(x_[0] - x_[3])\n",
    "print(x3)\n",
    "x4 = abs(x_[1] - x_[2])\n",
    "print(x4)\n",
    "x5 = abs(x_[1] - x_[3])\n",
    "print(x5)\n",
    "x6 = abs(x_[2] - x_[3])\n",
    "print(x6)"
   ]
  },
  {
   "cell_type": "code",
   "execution_count": 223,
   "metadata": {},
   "outputs": [
    {
     "data": {
      "text/plain": [
       "2.0930240544082634"
      ]
     },
     "execution_count": 223,
     "metadata": {},
     "output_type": "execute_result"
    }
   ],
   "source": [
    "ta= stats.t.isf(0.05/2,23-4)\n",
    "ta"
   ]
  },
  {
   "cell_type": "code",
   "execution_count": 227,
   "metadata": {},
   "outputs": [
    {
     "name": "stdout",
     "output_type": "stream",
     "text": [
      "13.901727781081766\n",
      "14.63114619914529\n",
      "14.63114619914529\n",
      "15.13064578318105\n",
      "15.13064578318105\n",
      "15.803444106192725\n"
     ]
    }
   ],
   "source": [
    "#LSD = ta/2 (MSE(1/ni+1/nj))**0.5\n",
    "LSD1 = ta*(MSE*(1/length[0]+1/length[1]))**.5\n",
    "print(LSD1)\n",
    "LSD2 = ta*(MSE*(1/length[0]+1/length[2]))**.5\n",
    "print(LSD2)\n",
    "LSD3 = ta*(MSE*(1/length[0]+1/length[3]))**.5\n",
    "print(LSD3)\n",
    "LSD4 = ta*(MSE*(1/length[1]+1/length[2]))**.5\n",
    "print(LSD4)\n",
    "LSD5 = ta*(MSE*(1/length[1]+1/length[3]))**.5\n",
    "print(LSD5)\n",
    "LSD6 = ta*(MSE*(1/length[2]+1/length[3]))**.5\n",
    "print(LSD6)"
   ]
  },
  {
   "cell_type": "code",
   "execution_count": 228,
   "metadata": {},
   "outputs": [
    {
     "name": "stdout",
     "output_type": "stream",
     "text": [
      "True\n",
      "True\n",
      "True\n",
      "True\n",
      "True\n",
      "False\n"
     ]
    }
   ],
   "source": [
    "print(x1<LSD1)\n",
    "print(x2<LSD2)\n",
    "print(x3<LSD3)\n",
    "print(x4<LSD4)\n",
    "print(x5<LSD5)\n",
    "print(x6<LSD6)"
   ]
  },
  {
   "cell_type": "markdown",
   "metadata": {},
   "source": [
    "不能拒接原假设1  \n",
    "不能拒接原假设2  \n",
    "不能拒接原假设3  \n",
    "不能拒接原假设4  \n",
    "不能拒接原假设5  \n",
    "拒接原假设6  航空公司和家电制造业被投诉之间有显著差异"
   ]
  },
  {
   "cell_type": "markdown",
   "metadata": {},
   "source": [
    "## 双因素方差分析\n",
    "### 无交互作用分析"
   ]
  },
  {
   "cell_type": "code",
   "execution_count": 99,
   "metadata": {},
   "outputs": [
    {
     "data": {
      "text/html": [
       "<div>\n",
       "<style scoped>\n",
       "    .dataframe tbody tr th:only-of-type {\n",
       "        vertical-align: middle;\n",
       "    }\n",
       "\n",
       "    .dataframe tbody tr th {\n",
       "        vertical-align: top;\n",
       "    }\n",
       "\n",
       "    .dataframe thead th {\n",
       "        text-align: right;\n",
       "    }\n",
       "</style>\n",
       "<table border=\"1\" class=\"dataframe\">\n",
       "  <thead>\n",
       "    <tr style=\"text-align: right;\">\n",
       "      <th></th>\n",
       "      <th>地区1</th>\n",
       "      <th>地区2</th>\n",
       "      <th>地区3</th>\n",
       "      <th>地区4</th>\n",
       "      <th>地区5</th>\n",
       "    </tr>\n",
       "  </thead>\n",
       "  <tbody>\n",
       "    <tr>\n",
       "      <th>品牌1</th>\n",
       "      <td>365</td>\n",
       "      <td>350</td>\n",
       "      <td>343</td>\n",
       "      <td>340</td>\n",
       "      <td>323</td>\n",
       "    </tr>\n",
       "    <tr>\n",
       "      <th>品牌2</th>\n",
       "      <td>345</td>\n",
       "      <td>368</td>\n",
       "      <td>363</td>\n",
       "      <td>330</td>\n",
       "      <td>333</td>\n",
       "    </tr>\n",
       "    <tr>\n",
       "      <th>品牌3</th>\n",
       "      <td>358</td>\n",
       "      <td>323</td>\n",
       "      <td>353</td>\n",
       "      <td>343</td>\n",
       "      <td>308</td>\n",
       "    </tr>\n",
       "    <tr>\n",
       "      <th>品牌4</th>\n",
       "      <td>288</td>\n",
       "      <td>280</td>\n",
       "      <td>298</td>\n",
       "      <td>260</td>\n",
       "      <td>298</td>\n",
       "    </tr>\n",
       "  </tbody>\n",
       "</table>\n",
       "</div>"
      ],
      "text/plain": [
       "     地区1  地区2  地区3  地区4  地区5\n",
       "品牌1  365  350  343  340  323\n",
       "品牌2  345  368  363  330  333\n",
       "品牌3  358  323  353  343  308\n",
       "品牌4  288  280  298  260  298"
      ]
     },
     "execution_count": 99,
     "metadata": {},
     "output_type": "execute_result"
    }
   ],
   "source": [
    "df = pd.read_excel(\"data/例10.3.xlsx\",header=1, usecols=[1,2,3,4,5,6],index_col= 0)\n",
    "df"
   ]
  },
  {
   "cell_type": "markdown",
   "metadata": {},
   "source": [
    "![10-1](img/10-1.jpg)\n",
    "\n",
    "#### 构造统计量\n",
    "\n",
    "![10-2](img/10-2.jpg)"
   ]
  },
  {
   "cell_type": "code",
   "execution_count": 135,
   "metadata": {},
   "outputs": [
    {
     "data": {
      "text/plain": [
       "328.45"
      ]
     },
     "execution_count": 135,
     "metadata": {},
     "output_type": "execute_result"
    }
   ],
   "source": [
    "k = df.shape[0]\n",
    "r = df.shape[1]\n",
    "data = df.values\n",
    "x__ =  data.sum().sum()/(data.shape[0]*data.shape[1])\n",
    "x__"
   ]
  },
  {
   "cell_type": "code",
   "execution_count": 103,
   "metadata": {},
   "outputs": [
    {
     "data": {
      "text/plain": [
       "17888.95"
      ]
     },
     "execution_count": 103,
     "metadata": {},
     "output_type": "execute_result"
    }
   ],
   "source": [
    "SST = sum((data - x__)**2).sum()\n",
    "SST"
   ]
  },
  {
   "cell_type": "markdown",
   "metadata": {},
   "source": [
    "![10-3](img/10-3.jpg)\n",
    "![10-4](img/10-4.jpg)"
   ]
  },
  {
   "cell_type": "code",
   "execution_count": 124,
   "metadata": {},
   "outputs": [
    {
     "data": {
      "text/plain": [
       "13004.549999999996"
      ]
     },
     "execution_count": 124,
     "metadata": {},
     "output_type": "execute_result"
    }
   ],
   "source": [
    "SSR = sum(((df.sum(axis=1).values/data.shape[1] - x__)**2)*data.shape[1])\n",
    "SSR"
   ]
  },
  {
   "cell_type": "code",
   "execution_count": 126,
   "metadata": {},
   "outputs": [
    {
     "data": {
      "text/plain": [
       "2011.7"
      ]
     },
     "execution_count": 126,
     "metadata": {},
     "output_type": "execute_result"
    }
   ],
   "source": [
    "SSC =  sum(((df.sum()/data.shape[0] - x__)**2)*data.shape[0])\n",
    "SSC"
   ]
  },
  {
   "cell_type": "code",
   "execution_count": 127,
   "metadata": {},
   "outputs": [
    {
     "data": {
      "text/plain": [
       "2872.7000000000053"
      ]
     },
     "execution_count": 127,
     "metadata": {},
     "output_type": "execute_result"
    }
   ],
   "source": [
    "SSE = SST -SSR - SSC\n",
    "SSE"
   ]
  },
  {
   "cell_type": "markdown",
   "metadata": {},
   "source": [
    "![10-5](img/10-5.jpg)"
   ]
  },
  {
   "cell_type": "code",
   "execution_count": 130,
   "metadata": {},
   "outputs": [
    {
     "data": {
      "text/plain": [
       "4334.8499999999985"
      ]
     },
     "execution_count": 130,
     "metadata": {},
     "output_type": "execute_result"
    }
   ],
   "source": [
    "MSR = SSR/(data.shape[0]-1)\n",
    "MSR"
   ]
  },
  {
   "cell_type": "code",
   "execution_count": 131,
   "metadata": {},
   "outputs": [
    {
     "data": {
      "text/plain": [
       "502.925"
      ]
     },
     "execution_count": 131,
     "metadata": {},
     "output_type": "execute_result"
    }
   ],
   "source": [
    "MSC = SSC/(data.shape[1]-1)\n",
    "MSC"
   ]
  },
  {
   "cell_type": "code",
   "execution_count": 132,
   "metadata": {},
   "outputs": [
    {
     "data": {
      "text/plain": [
       "239.3916666666671"
      ]
     },
     "execution_count": 132,
     "metadata": {},
     "output_type": "execute_result"
    }
   ],
   "source": [
    "MSE = SSE/(data.shape[0]-1)/(data.shape[1]-1)\n",
    "MSE"
   ]
  },
  {
   "cell_type": "code",
   "execution_count": 142,
   "metadata": {},
   "outputs": [
    {
     "name": "stdout",
     "output_type": "stream",
     "text": [
      "Fr:18.107773175061748\n",
      "Fc:2.1008458941065857\n"
     ]
    }
   ],
   "source": [
    "Fr = MSR/MSE\n",
    "Fc = MSC/MSE\n",
    "print(\"Fr:\"+str(Fr))\n",
    "print(\"Fc:\"+str(Fc))"
   ]
  },
  {
   "cell_type": "code",
   "execution_count": 143,
   "metadata": {},
   "outputs": [
    {
     "name": "stdout",
     "output_type": "stream",
     "text": [
      "Far:3.490294819497605\n",
      "Fac:3.259166726901249\n"
     ]
    }
   ],
   "source": [
    "#95%置信度下\n",
    "alpha = 0.05\n",
    "Far = stats.f.isf(alpha, dfn=k-1, dfd=(k-1)*(r-1))   #行 F临界值\n",
    "Fac = stats.f.isf(alpha, dfn=r-1, dfd=(k-1)*(r-1))   #行 F临界值\n",
    "print(\"Far:\"+str(Far))\n",
    "print(\"Fac:\"+str(Fac))"
   ]
  },
  {
   "cell_type": "markdown",
   "metadata": {},
   "source": [
    "Fr>Far\n",
    "所以拒绝原假设，行因素，品牌因素对销售量有明显的影响"
   ]
  },
  {
   "cell_type": "markdown",
   "metadata": {},
   "source": [
    "Fc>Fac 不拒绝原假设，列因素，不能认为地区对销售量有影响"
   ]
  },
  {
   "cell_type": "code",
   "execution_count": 147,
   "metadata": {},
   "outputs": [
    {
     "name": "stdout",
     "output_type": "stream",
     "text": [
      "pfr:9.456152887730434e-05\n",
      "pfc:0.14366488731130558\n"
     ]
    }
   ],
   "source": [
    "pfr = stats.f.sf(Fr, k-1, (k-1)*(r-1))  # 行变量 统计量F的P值\n",
    "pfc = stats.f.sf(Fc, r-1, (k-1)*(r-1))  # 列变量 统计量F的P值\n",
    "print(\"pfr:\"+str(pfr))\n",
    "print(\"pfc:\"+str(pfc))"
   ]
  },
  {
   "cell_type": "markdown",
   "metadata": {},
   "source": [
    "pfr<0.05  \n",
    "pfr>0.05 "
   ]
  },
  {
   "cell_type": "code",
   "execution_count": 149,
   "metadata": {},
   "outputs": [
    {
     "data": {
      "text/plain": [
       "0.8394148342971497"
      ]
     },
     "execution_count": 149,
     "metadata": {},
     "output_type": "execute_result"
    }
   ],
   "source": [
    "RR = (SSR+SSC)/SST\n",
    "RR"
   ]
  },
  {
   "cell_type": "code",
   "execution_count": 151,
   "metadata": {},
   "outputs": [
    {
     "data": {
      "text/plain": [
       "0.9161958493123343"
      ]
     },
     "execution_count": 151,
     "metadata": {},
     "output_type": "execute_result"
    }
   ],
   "source": [
    "R = RR**.5\n",
    "R"
   ]
  },
  {
   "cell_type": "markdown",
   "metadata": {},
   "source": [
    "品牌和地区合起来总共解释了销售差异的83.94%，R表明两者和销售量有明显关系\n",
    "#### 总结\n",
    "![10-6](img/10-6.jpg)\n",
    "### 有交互作用的方差分析\n",
    "城市道路交通管理部门为了研究不同的路段和不同的时间段对行车时间的影响，,让一名交通警察分别在两个路段和高峰期 与非高峰期亲自驾车进行试验,通过试验共获得 20个行车时间(单位:m:分钟)的数据。试分析影响a=0.05\n",
    "![10-7](img/10-7.jpg)\n",
    "![10-8](img/10-8.jpg)\n",
    "![10-9](img/10-9.jpg)"
   ]
  },
  {
   "cell_type": "code",
   "execution_count": 166,
   "metadata": {},
   "outputs": [
    {
     "data": {
      "text/html": [
       "<div>\n",
       "<style scoped>\n",
       "    .dataframe tbody tr th:only-of-type {\n",
       "        vertical-align: middle;\n",
       "    }\n",
       "\n",
       "    .dataframe tbody tr th {\n",
       "        vertical-align: top;\n",
       "    }\n",
       "\n",
       "    .dataframe thead th {\n",
       "        text-align: right;\n",
       "    }\n",
       "</style>\n",
       "<table border=\"1\" class=\"dataframe\">\n",
       "  <thead>\n",
       "    <tr style=\"text-align: right;\">\n",
       "      <th></th>\n",
       "      <th>路段1</th>\n",
       "      <th>路段2</th>\n",
       "    </tr>\n",
       "  </thead>\n",
       "  <tbody>\n",
       "    <tr>\n",
       "      <th>1</th>\n",
       "      <td>26</td>\n",
       "      <td>19</td>\n",
       "    </tr>\n",
       "    <tr>\n",
       "      <th>2</th>\n",
       "      <td>24</td>\n",
       "      <td>20</td>\n",
       "    </tr>\n",
       "    <tr>\n",
       "      <th>3</th>\n",
       "      <td>27</td>\n",
       "      <td>23</td>\n",
       "    </tr>\n",
       "    <tr>\n",
       "      <th>4</th>\n",
       "      <td>25</td>\n",
       "      <td>22</td>\n",
       "    </tr>\n",
       "    <tr>\n",
       "      <th>5</th>\n",
       "      <td>25</td>\n",
       "      <td>21</td>\n",
       "    </tr>\n",
       "  </tbody>\n",
       "</table>\n",
       "</div>"
      ],
      "text/plain": [
       "   路段1  路段2\n",
       "1   26   19\n",
       "2   24   20\n",
       "3   27   23\n",
       "4   25   22\n",
       "5   25   21"
      ]
     },
     "execution_count": 166,
     "metadata": {},
     "output_type": "execute_result"
    }
   ],
   "source": [
    "df = pd.read_excel(\"data/例10.5.xlsx\",header=0,index_col=0)\n",
    "df.head()"
   ]
  },
  {
   "cell_type": "code",
   "execution_count": 287,
   "metadata": {},
   "outputs": [
    {
     "data": {
      "text/plain": [
       "20.25"
      ]
     },
     "execution_count": 287,
     "metadata": {},
     "output_type": "execute_result"
    }
   ],
   "source": [
    "k = 2\n",
    "r = 2\n",
    "m = 5\n",
    "n = df.shape[0]*df.shape[1]\n",
    "x__ =  df.values.sum()/n\n",
    "x__"
   ]
  },
  {
   "cell_type": "code",
   "execution_count": 288,
   "metadata": {},
   "outputs": [
    {
     "data": {
      "text/plain": [
       "329.75"
      ]
     },
     "execution_count": 288,
     "metadata": {},
     "output_type": "execute_result"
    }
   ],
   "source": [
    "SST = sum(( df.values - x__)**2).sum()\n",
    "SST"
   ]
  },
  {
   "cell_type": "code",
   "execution_count": 279,
   "metadata": {},
   "outputs": [
    {
     "name": "stdout",
     "output_type": "stream",
     "text": [
      "[23.2, 17.299999999999997]\n"
     ]
    },
    {
     "data": {
      "text/plain": [
       "174.05000000000013"
      ]
     },
     "execution_count": 279,
     "metadata": {},
     "output_type": "execute_result"
    }
   ],
   "source": [
    "d1 = df[0:5]\n",
    "d2 = df[5:]\n",
    "x_i = [d1.mean().mean(),d2.mean().mean()]\n",
    "print(x_i)\n",
    "SSR = sum((x_i-x__)**2).sum()*r*m\n",
    "SSR"
   ]
  },
  {
   "cell_type": "code",
   "execution_count": 280,
   "metadata": {},
   "outputs": [
    {
     "data": {
      "text/plain": [
       "array([22.4, 18.1])"
      ]
     },
     "execution_count": 280,
     "metadata": {},
     "output_type": "execute_result"
    }
   ],
   "source": [
    "x_j = df.mean(axis=0).values\n",
    "x_j"
   ]
  },
  {
   "cell_type": "code",
   "execution_count": 281,
   "metadata": {},
   "outputs": [
    {
     "data": {
      "text/plain": [
       "92.44999999999989"
      ]
     },
     "execution_count": 281,
     "metadata": {},
     "output_type": "execute_result"
    }
   ],
   "source": [
    "SSC = sum((x_j-x__)**2).sum()*k*m\n",
    "SSC"
   ]
  },
  {
   "cell_type": "code",
   "execution_count": 282,
   "metadata": {},
   "outputs": [
    {
     "data": {
      "text/plain": [
       "20.25"
      ]
     },
     "execution_count": 282,
     "metadata": {},
     "output_type": "execute_result"
    }
   ],
   "source": [
    "x_ = df.values.mean()\n",
    "x_"
   ]
  },
  {
   "cell_type": "code",
   "execution_count": 283,
   "metadata": {},
   "outputs": [],
   "source": [
    "x_ij = np.array([d1.mean().values,d2.mean().values])\n",
    "x = x_ij+x__"
   ]
  },
  {
   "cell_type": "code",
   "execution_count": 284,
   "metadata": {},
   "outputs": [
    {
     "data": {
      "text/plain": [
       "0.050000000000001425"
      ]
     },
     "execution_count": 284,
     "metadata": {},
     "output_type": "execute_result"
    }
   ],
   "source": [
    "SSRC = ((x[0,0]-x_i[0]-x_j[0])**2 + (x[0,1]-x_i[0]-x_j[1])**2+ (x[1,1]-x_i[1]-x_j[1])**2+ (x[1,0]-x_i[1]-x_j[0])**2)*m\n",
    "SSRC"
   ]
  },
  {
   "cell_type": "code",
   "execution_count": 297,
   "metadata": {},
   "outputs": [
    {
     "data": {
      "text/plain": [
       "63.19999999999998"
      ]
     },
     "execution_count": 297,
     "metadata": {},
     "output_type": "execute_result"
    }
   ],
   "source": [
    "SSE  = SST-SSR-SSC -SSRC\n",
    "SSE"
   ]
  },
  {
   "cell_type": "code",
   "execution_count": 345,
   "metadata": {},
   "outputs": [
    {
     "name": "stdout",
     "output_type": "stream",
     "text": [
      "Fr:44.06329113924055\n",
      "Fc:23.405063291139218\n",
      "FRC:0.01265822784810163\n"
     ]
    }
   ],
   "source": [
    "MSR = SSR/(k-1)\n",
    "MSE = SSE/(m-1)/k/r\n",
    "MSC = SSC/1\n",
    "Fr = MSR/MSE\n",
    "Fc = MSC/MSE\n",
    "FRC = SSRC/1/MSE\n",
    "print(\"Fr:\"+str(Fr))\n",
    "print(\"Fc:\"+str(Fc))\n",
    "print(\"FRC:\"+str(FRC))"
   ]
  },
  {
   "cell_type": "code",
   "execution_count": 346,
   "metadata": {},
   "outputs": [
    {
     "name": "stdout",
     "output_type": "stream",
     "text": [
      "pfr:0.0026729375641445672\n",
      "pfc:0.00841302296398786\n",
      "pfrc:0.9158401958222961\n"
     ]
    }
   ],
   "source": [
    "alpha = 0.05\n",
    "pfr = stats.f.sf(Fr, 1,m-1)   #行 F临界值\n",
    "print(\"pfr:\"+str(pfr))\n",
    "pfc = stats.f.sf(Fc, 1,m-1)   #行 F临界值\n",
    "print(\"pfc:\"+str(pfc))\n",
    "pfrc = stats.f.sf(FRC, 1,m-1)   #行 F临界值\n",
    "print(\"pfrc:\"+str(pfrc))"
   ]
  },
  {
   "cell_type": "code",
   "execution_count": 347,
   "metadata": {},
   "outputs": [
    {
     "name": "stdout",
     "output_type": "stream",
     "text": [
      "True\n",
      "True\n",
      "False\n"
     ]
    }
   ],
   "source": [
    "print(pfr<0.05)\n",
    "print(pfc<0.05)\n",
    "print(pfrc<0.05)"
   ]
  },
  {
   "cell_type": "markdown",
   "metadata": {},
   "source": [
    "拒绝原假设，不同时间段有显著差异  \n",
    "拒绝原假设，不同路段对行车时间有显著差异  \n",
    "不拒绝原假设，没有证据表明时段和路段对行车时间有显著差异"
   ]
  },
  {
   "cell_type": "code",
   "execution_count": null,
   "metadata": {},
   "outputs": [],
   "source": []
  }
 ],
 "metadata": {
  "kernelspec": {
   "display_name": "Python 3",
   "language": "python",
   "name": "python3"
  },
  "language_info": {
   "codemirror_mode": {
    "name": "ipython",
    "version": 3
   },
   "file_extension": ".py",
   "mimetype": "text/x-python",
   "name": "python",
   "nbconvert_exporter": "python",
   "pygments_lexer": "ipython3",
   "version": "3.7.3"
  }
 },
 "nbformat": 4,
 "nbformat_minor": 2
}
